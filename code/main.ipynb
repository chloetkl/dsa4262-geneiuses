{
 "cells": [
  {
   "cell_type": "code",
   "execution_count": 1,
   "id": "0",
   "metadata": {},
   "outputs": [
    {
     "name": "stdout",
     "output_type": "stream",
     "text": [
      "Requirement already satisfied: pandas in /home/ubuntu/.local/lib/python3.8/site-packages (2.0.3)\n",
      "Requirement already satisfied: numpy>=1.20.3; python_version < \"3.10\" in /home/ubuntu/.local/lib/python3.8/site-packages (from pandas) (1.24.4)\n",
      "Requirement already satisfied: pytz>=2020.1 in /home/ubuntu/.local/lib/python3.8/site-packages (from pandas) (2024.2)\n",
      "Requirement already satisfied: python-dateutil>=2.8.2 in /home/ubuntu/.local/lib/python3.8/site-packages (from pandas) (2.9.0.post0)\n",
      "Requirement already satisfied: tzdata>=2022.1 in /home/ubuntu/.local/lib/python3.8/site-packages (from pandas) (2024.2)\n",
      "Requirement already satisfied: six>=1.5 in /usr/lib/python3/dist-packages (from python-dateutil>=2.8.2->pandas) (1.14.0)\n",
      "Note: you may need to restart the kernel to use updated packages.\n",
      "Requirement already satisfied: scikit-learn in /home/ubuntu/.local/lib/python3.8/site-packages (1.3.2)\n",
      "Requirement already satisfied: joblib>=1.1.1 in /home/ubuntu/.local/lib/python3.8/site-packages (from scikit-learn) (1.4.2)\n",
      "Requirement already satisfied: numpy<2.0,>=1.17.3 in /home/ubuntu/.local/lib/python3.8/site-packages (from scikit-learn) (1.24.4)\n",
      "Requirement already satisfied: scipy>=1.5.0 in /home/ubuntu/.local/lib/python3.8/site-packages (from scikit-learn) (1.10.1)\n",
      "Requirement already satisfied: threadpoolctl>=2.0.0 in /home/ubuntu/.local/lib/python3.8/site-packages (from scikit-learn) (3.5.0)\n",
      "Note: you may need to restart the kernel to use updated packages.\n",
      "Requirement already satisfied: imblearn in /home/ubuntu/.local/lib/python3.8/site-packages (0.0)\n",
      "Requirement already satisfied: imbalanced-learn in /home/ubuntu/.local/lib/python3.8/site-packages (from imblearn) (0.12.4)\n",
      "Requirement already satisfied: joblib>=1.1.1 in /home/ubuntu/.local/lib/python3.8/site-packages (from imbalanced-learn->imblearn) (1.4.2)\n",
      "Requirement already satisfied: threadpoolctl>=2.0.0 in /home/ubuntu/.local/lib/python3.8/site-packages (from imbalanced-learn->imblearn) (3.5.0)\n",
      "Requirement already satisfied: scikit-learn>=1.0.2 in /home/ubuntu/.local/lib/python3.8/site-packages (from imbalanced-learn->imblearn) (1.3.2)\n",
      "Requirement already satisfied: scipy>=1.5.0 in /home/ubuntu/.local/lib/python3.8/site-packages (from imbalanced-learn->imblearn) (1.10.1)\n",
      "Requirement already satisfied: numpy>=1.17.3 in /home/ubuntu/.local/lib/python3.8/site-packages (from imbalanced-learn->imblearn) (1.24.4)\n",
      "Note: you may need to restart the kernel to use updated packages.\n",
      "Requirement already satisfied: matplotlib in /home/ubuntu/.local/lib/python3.8/site-packages (3.7.5)\n",
      "Requirement already satisfied: python-dateutil>=2.7 in /home/ubuntu/.local/lib/python3.8/site-packages (from matplotlib) (2.9.0.post0)\n",
      "Requirement already satisfied: pyparsing>=2.3.1 in /home/ubuntu/.local/lib/python3.8/site-packages (from matplotlib) (3.1.4)\n",
      "Requirement already satisfied: kiwisolver>=1.0.1 in /home/ubuntu/.local/lib/python3.8/site-packages (from matplotlib) (1.4.7)\n",
      "Requirement already satisfied: pillow>=6.2.0 in /usr/lib/python3/dist-packages (from matplotlib) (7.0.0)\n",
      "Requirement already satisfied: importlib-resources>=3.2.0; python_version < \"3.10\" in /home/ubuntu/.local/lib/python3.8/site-packages (from matplotlib) (6.4.5)\n",
      "Requirement already satisfied: numpy<2,>=1.20 in /home/ubuntu/.local/lib/python3.8/site-packages (from matplotlib) (1.24.4)\n",
      "Requirement already satisfied: fonttools>=4.22.0 in /home/ubuntu/.local/lib/python3.8/site-packages (from matplotlib) (4.54.1)\n",
      "Requirement already satisfied: packaging>=20.0 in /home/ubuntu/.local/lib/python3.8/site-packages (from matplotlib) (24.1)\n",
      "Requirement already satisfied: cycler>=0.10 in /home/ubuntu/.local/lib/python3.8/site-packages (from matplotlib) (0.12.1)\n",
      "Requirement already satisfied: contourpy>=1.0.1 in /home/ubuntu/.local/lib/python3.8/site-packages (from matplotlib) (1.1.1)\n",
      "Requirement already satisfied: six>=1.5 in /usr/lib/python3/dist-packages (from python-dateutil>=2.7->matplotlib) (1.14.0)\n",
      "Requirement already satisfied: zipp>=3.1.0; python_version < \"3.10\" in /home/ubuntu/.local/lib/python3.8/site-packages (from importlib-resources>=3.2.0; python_version < \"3.10\"->matplotlib) (3.20.2)\n",
      "Note: you may need to restart the kernel to use updated packages.\n",
      "Requirement already satisfied: seaborn in /home/ubuntu/.local/lib/python3.8/site-packages (0.13.2)\n",
      "Requirement already satisfied: pandas>=1.2 in /home/ubuntu/.local/lib/python3.8/site-packages (from seaborn) (2.0.3)\n",
      "Requirement already satisfied: matplotlib!=3.6.1,>=3.4 in /home/ubuntu/.local/lib/python3.8/site-packages (from seaborn) (3.7.5)\n",
      "Requirement already satisfied: numpy!=1.24.0,>=1.20 in /home/ubuntu/.local/lib/python3.8/site-packages (from seaborn) (1.24.4)\n",
      "Requirement already satisfied: pytz>=2020.1 in /home/ubuntu/.local/lib/python3.8/site-packages (from pandas>=1.2->seaborn) (2024.2)\n",
      "Requirement already satisfied: python-dateutil>=2.8.2 in /home/ubuntu/.local/lib/python3.8/site-packages (from pandas>=1.2->seaborn) (2.9.0.post0)\n",
      "Requirement already satisfied: tzdata>=2022.1 in /home/ubuntu/.local/lib/python3.8/site-packages (from pandas>=1.2->seaborn) (2024.2)\n",
      "Requirement already satisfied: kiwisolver>=1.0.1 in /home/ubuntu/.local/lib/python3.8/site-packages (from matplotlib!=3.6.1,>=3.4->seaborn) (1.4.7)\n",
      "Requirement already satisfied: fonttools>=4.22.0 in /home/ubuntu/.local/lib/python3.8/site-packages (from matplotlib!=3.6.1,>=3.4->seaborn) (4.54.1)\n",
      "Requirement already satisfied: pyparsing>=2.3.1 in /home/ubuntu/.local/lib/python3.8/site-packages (from matplotlib!=3.6.1,>=3.4->seaborn) (3.1.4)\n",
      "Requirement already satisfied: pillow>=6.2.0 in /usr/lib/python3/dist-packages (from matplotlib!=3.6.1,>=3.4->seaborn) (7.0.0)\n",
      "Requirement already satisfied: importlib-resources>=3.2.0; python_version < \"3.10\" in /home/ubuntu/.local/lib/python3.8/site-packages (from matplotlib!=3.6.1,>=3.4->seaborn) (6.4.5)\n",
      "Requirement already satisfied: cycler>=0.10 in /home/ubuntu/.local/lib/python3.8/site-packages (from matplotlib!=3.6.1,>=3.4->seaborn) (0.12.1)\n",
      "Requirement already satisfied: contourpy>=1.0.1 in /home/ubuntu/.local/lib/python3.8/site-packages (from matplotlib!=3.6.1,>=3.4->seaborn) (1.1.1)\n",
      "Requirement already satisfied: packaging>=20.0 in /home/ubuntu/.local/lib/python3.8/site-packages (from matplotlib!=3.6.1,>=3.4->seaborn) (24.1)\n",
      "Requirement already satisfied: six>=1.5 in /usr/lib/python3/dist-packages (from python-dateutil>=2.8.2->pandas>=1.2->seaborn) (1.14.0)\n",
      "Requirement already satisfied: zipp>=3.1.0; python_version < \"3.10\" in /home/ubuntu/.local/lib/python3.8/site-packages (from importlib-resources>=3.2.0; python_version < \"3.10\"->matplotlib!=3.6.1,>=3.4->seaborn) (3.20.2)\n",
      "Note: you may need to restart the kernel to use updated packages.\n"
     ]
    }
   ],
   "source": [
    "%pip install pandas\n",
    "%pip install scikit-learn\n",
    "%pip install imblearn\n",
    "%pip install matplotlib\n",
    "%pip install seaborn\n"
   ]
  },
  {
   "cell_type": "markdown",
   "id": "1",
   "metadata": {},
   "source": [
    "# Reading and Parsing JSON"
   ]
  },
  {
   "cell_type": "code",
   "execution_count": 2,
   "id": "2",
   "metadata": {},
   "outputs": [
    {
     "name": "stdout",
     "output_type": "stream",
     "text": [
      "File unzipped successfully.\n"
     ]
    }
   ],
   "source": [
    "import gzip\n",
    "import shutil\n",
    "\n",
    "# Specify the input and output file names (adjust file paths if needed)\n",
    "input_file = '../data/dataset0.json.gz'  \n",
    "output_file = '../data/dataset0.json'    \n",
    "\n",
    "# Unzip the file\n",
    "with gzip.open(input_file, 'rb') as f_in:\n",
    "    with open(output_file, 'wb') as f_out:\n",
    "        shutil.copyfileobj(f_in, f_out)\n",
    "\n",
    "print(\"File unzipped successfully.\")"
   ]
  },
  {
   "cell_type": "code",
   "execution_count": 3,
   "id": "3",
   "metadata": {},
   "outputs": [],
   "source": [
    "import pandas as pd\n",
    "import json\n",
    "\n",
    "input_file = '../data/dataset0.json' \n",
    "\n",
    "data = []\n",
    "with open(input_file, 'r') as file:\n",
    "    for line in file:\n",
    "        # Parse each line as a JSON object\n",
    "        data.append(json.loads(line))\n",
    "\n",
    "def flatten_json(data):\n",
    "    rows = []\n",
    "\n",
    "    for entry in data:\n",
    "        for transcript_id, positions in entry.items():\n",
    "            for position, sequences in positions.items():\n",
    "                for sequence, features in sequences.items():\n",
    "                    for feature_set in features:\n",
    "                        row = {\n",
    "                            'transcript_id': transcript_id,\n",
    "                            'transcript_position': position,\n",
    "                            'sequence': sequence,\n",
    "                            '-1_dwelling_time': feature_set[0],\n",
    "                            '-1_standard_dev': feature_set[1],\n",
    "                            '-1_mean_current': feature_set[2],\n",
    "                            '0_dwelling_time': feature_set[3],\n",
    "                            '0_standard_dev': feature_set[4],\n",
    "                            '0_mean_current': feature_set[5],\n",
    "                            '+1_dwelling_time': feature_set[6],\n",
    "                            '+1_standard_dev': feature_set[7],\n",
    "                            '+1_mean_current': feature_set[8],\n",
    "                        }\n",
    "                        rows.append(row)\n",
    "    return rows\n",
    "\n",
    "# Flatten the data\n",
    "flattened_data = flatten_json(data)\n",
    "\n",
    "# Convert to a DataFrame\n",
    "df = pd.DataFrame(flattened_data)"
   ]
  },
  {
   "cell_type": "code",
   "execution_count": 4,
   "id": "4",
   "metadata": {},
   "outputs": [
    {
     "name": "stdout",
     "output_type": "stream",
     "text": [
      "     transcript_id transcript_position sequence  -1_dwelling_time  \\\n",
      "0  ENST00000000233                 244  AAGACCA           0.00299   \n",
      "1  ENST00000000233                 244  AAGACCA           0.00631   \n",
      "2  ENST00000000233                 244  AAGACCA           0.00465   \n",
      "3  ENST00000000233                 244  AAGACCA           0.00398   \n",
      "4  ENST00000000233                 244  AAGACCA           0.00664   \n",
      "\n",
      "   -1_standard_dev  -1_mean_current  0_dwelling_time  0_standard_dev  \\\n",
      "0             2.06            125.0          0.01770           10.40   \n",
      "1             2.53            125.0          0.00844            4.67   \n",
      "2             3.92            109.0          0.01360           12.00   \n",
      "3             2.06            125.0          0.00830            5.01   \n",
      "4             2.92            120.0          0.00266            3.94   \n",
      "\n",
      "   0_mean_current  +1_dwelling_time  +1_standard_dev  +1_mean_current  \n",
      "0           122.0           0.00930            10.90             84.1  \n",
      "1           126.0           0.01030             6.30             80.9  \n",
      "2           124.0           0.00498             2.13             79.6  \n",
      "3           130.0           0.00498             3.78             80.4  \n",
      "4           129.0           0.01300             7.15             82.2  \n",
      "<class 'pandas.core.frame.DataFrame'>\n",
      "RangeIndex: 11027106 entries, 0 to 11027105\n",
      "Data columns (total 12 columns):\n",
      " #   Column               Dtype  \n",
      "---  ------               -----  \n",
      " 0   transcript_id        object \n",
      " 1   transcript_position  object \n",
      " 2   sequence             object \n",
      " 3   -1_dwelling_time     float64\n",
      " 4   -1_standard_dev      float64\n",
      " 5   -1_mean_current      float64\n",
      " 6   0_dwelling_time      float64\n",
      " 7   0_standard_dev       float64\n",
      " 8   0_mean_current       float64\n",
      " 9   +1_dwelling_time     float64\n",
      " 10  +1_standard_dev      float64\n",
      " 11  +1_mean_current      float64\n",
      "dtypes: float64(9), object(3)\n",
      "memory usage: 1009.6+ MB\n",
      "None\n"
     ]
    }
   ],
   "source": [
    "print(df.head())\n",
    "print(df.info())"
   ]
  },
  {
   "cell_type": "code",
   "execution_count": 12,
   "id": "5",
   "metadata": {},
   "outputs": [],
   "source": [
    "# Export as csv\n",
    "path = '../data/dataset0.csv'\n",
    "df.to_csv(path, index=False)"
   ]
  },
  {
   "cell_type": "markdown",
   "id": "6",
   "metadata": {},
   "source": [
    "# Load labels and features, perform aggregation"
   ]
  },
  {
   "cell_type": "markdown",
   "id": "7",
   "metadata": {},
   "source": [
    "## Read in labels and features"
   ]
  },
  {
   "cell_type": "code",
   "execution_count": 13,
   "id": "8",
   "metadata": {},
   "outputs": [
    {
     "name": "stdout",
     "output_type": "stream",
     "text": [
      "<class 'pandas.core.frame.DataFrame'>\n",
      "RangeIndex: 121838 entries, 0 to 121837\n",
      "Data columns (total 4 columns):\n",
      " #   Column               Non-Null Count   Dtype \n",
      "---  ------               --------------   ----- \n",
      " 0   gene_id              121838 non-null  object\n",
      " 1   transcript_id        121838 non-null  object\n",
      " 2   transcript_position  121838 non-null  int64 \n",
      " 3   label                121838 non-null  int64 \n",
      "dtypes: int64(2), object(2)\n",
      "memory usage: 3.7+ MB\n",
      "None\n",
      "           gene_id    transcript_id  transcript_position  label\n",
      "0  ENSG00000004059  ENST00000000233                  244      0\n",
      "1  ENSG00000004059  ENST00000000233                  261      0\n",
      "2  ENSG00000004059  ENST00000000233                  316      0\n",
      "3  ENSG00000004059  ENST00000000233                  332      0\n",
      "4  ENSG00000004059  ENST00000000233                  368      0\n"
     ]
    }
   ],
   "source": [
    "import pandas as pd\n",
    "\n",
    "labels = pd.read_csv('../data/data.info.labelled')\n",
    "\n",
    "print(labels.info())  # To get summary information about the DataFrame\n",
    "print(labels.head())  # Preview the first few rows of the data"
   ]
  },
  {
   "cell_type": "code",
   "execution_count": 14,
   "id": "9",
   "metadata": {},
   "outputs": [
    {
     "name": "stdout",
     "output_type": "stream",
     "text": [
      "<class 'pandas.core.frame.DataFrame'>\n",
      "RangeIndex: 11027106 entries, 0 to 11027105\n",
      "Data columns (total 12 columns):\n",
      " #   Column               Dtype  \n",
      "---  ------               -----  \n",
      " 0   transcript_id        object \n",
      " 1   transcript_position  int64  \n",
      " 2   sequence             object \n",
      " 3   -1_dwelling_time     float64\n",
      " 4   -1_standard_dev      float64\n",
      " 5   -1_mean_current      float64\n",
      " 6   0_dwelling_time      float64\n",
      " 7   0_standard_dev       float64\n",
      " 8   0_mean_current       float64\n",
      " 9   +1_dwelling_time     float64\n",
      " 10  +1_standard_dev      float64\n",
      " 11  +1_mean_current      float64\n",
      "dtypes: float64(9), int64(1), object(2)\n",
      "memory usage: 1009.6+ MB\n",
      "None\n",
      "     transcript_id  transcript_position sequence  -1_dwelling_time  \\\n",
      "0  ENST00000000233                  244  AAGACCA           0.00299   \n",
      "1  ENST00000000233                  244  AAGACCA           0.00631   \n",
      "2  ENST00000000233                  244  AAGACCA           0.00465   \n",
      "3  ENST00000000233                  244  AAGACCA           0.00398   \n",
      "4  ENST00000000233                  244  AAGACCA           0.00664   \n",
      "\n",
      "   -1_standard_dev  -1_mean_current  0_dwelling_time  0_standard_dev  \\\n",
      "0             2.06            125.0          0.01770           10.40   \n",
      "1             2.53            125.0          0.00844            4.67   \n",
      "2             3.92            109.0          0.01360           12.00   \n",
      "3             2.06            125.0          0.00830            5.01   \n",
      "4             2.92            120.0          0.00266            3.94   \n",
      "\n",
      "   0_mean_current  +1_dwelling_time  +1_standard_dev  +1_mean_current  \n",
      "0           122.0           0.00930            10.90             84.1  \n",
      "1           126.0           0.01030             6.30             80.9  \n",
      "2           124.0           0.00498             2.13             79.6  \n",
      "3           130.0           0.00498             3.78             80.4  \n",
      "4           129.0           0.01300             7.15             82.2  \n"
     ]
    }
   ],
   "source": [
    "features = pd.read_csv('../data/dataset0.csv')\n",
    "\n",
    "print(features.info()) \n",
    "print(features.head())  "
   ]
  },
  {
   "cell_type": "markdown",
   "id": "10",
   "metadata": {},
   "source": [
    "## Aggregate and label features"
   ]
  },
  {
   "cell_type": "code",
   "execution_count": 15,
   "id": "11",
   "metadata": {},
   "outputs": [],
   "source": [
    "def aggregate_by_transcript_position(features):\n",
    "\n",
    "    features_agg = features.groupby(['transcript_id', 'transcript_position', 'sequence'])\\\n",
    "    [['-1_dwelling_time', '-1_standard_dev', '-1_mean_current',\n",
    "      '0_dwelling_time', '0_standard_dev', '0_mean_current',\n",
    "      '+1_dwelling_time', '+1_standard_dev', '+1_mean_current']]\\\n",
    "    .mean().reset_index()\n",
    "    return features_agg"
   ]
  },
  {
   "cell_type": "code",
   "execution_count": 16,
   "id": "12",
   "metadata": {},
   "outputs": [
    {
     "name": "stdout",
     "output_type": "stream",
     "text": [
      "<class 'pandas.core.frame.DataFrame'>\n",
      "RangeIndex: 121838 entries, 0 to 121837\n",
      "Data columns (total 12 columns):\n",
      " #   Column               Non-Null Count   Dtype  \n",
      "---  ------               --------------   -----  \n",
      " 0   transcript_id        121838 non-null  object \n",
      " 1   transcript_position  121838 non-null  int64  \n",
      " 2   sequence             121838 non-null  object \n",
      " 3   -1_dwelling_time     121838 non-null  float64\n",
      " 4   -1_standard_dev      121838 non-null  float64\n",
      " 5   -1_mean_current      121838 non-null  float64\n",
      " 6   0_dwelling_time      121838 non-null  float64\n",
      " 7   0_standard_dev       121838 non-null  float64\n",
      " 8   0_mean_current       121838 non-null  float64\n",
      " 9   +1_dwelling_time     121838 non-null  float64\n",
      " 10  +1_standard_dev      121838 non-null  float64\n",
      " 11  +1_mean_current      121838 non-null  float64\n",
      "dtypes: float64(9), int64(1), object(2)\n",
      "memory usage: 11.2+ MB\n",
      "None\n"
     ]
    }
   ],
   "source": [
    "features_agg = aggregate_by_transcript_position(features)\n",
    "print(features_agg.info())"
   ]
  },
  {
   "cell_type": "code",
   "execution_count": 17,
   "id": "13",
   "metadata": {},
   "outputs": [],
   "source": [
    "def add_gene_and_label(features, labels):\n",
    "    \"\"\"\n",
    "    Adds gene_id and label to features dataframe\n",
    "    \n",
    "    Inputs:\n",
    "    - features: pd.DataFrame\n",
    "      Dataframe with selected features after feature engineering. Dataframe must contain transcript_id and transcript_position\n",
    "    - labels: pd.DataFrame\n",
    "      Dataframe with gene_id, transcript_id, transcript_position, and label.\n",
    "\n",
    "    Output:\n",
    "    - pd.DataFrame\n",
    "      Updated features dataframe with added columns: gene_id and label from labels.\n",
    "    \"\"\"\n",
    "    features_labelled = pd.merge(features, labels, on=['transcript_id', 'transcript_position'], how='inner')\n",
    "    \n",
    "    return features_labelled\n"
   ]
  },
  {
   "cell_type": "code",
   "execution_count": 18,
   "id": "14",
   "metadata": {},
   "outputs": [
    {
     "name": "stdout",
     "output_type": "stream",
     "text": [
      "<class 'pandas.core.frame.DataFrame'>\n",
      "RangeIndex: 121838 entries, 0 to 121837\n",
      "Data columns (total 14 columns):\n",
      " #   Column               Non-Null Count   Dtype  \n",
      "---  ------               --------------   -----  \n",
      " 0   transcript_id        121838 non-null  object \n",
      " 1   transcript_position  121838 non-null  int64  \n",
      " 2   sequence             121838 non-null  object \n",
      " 3   -1_dwelling_time     121838 non-null  float64\n",
      " 4   -1_standard_dev      121838 non-null  float64\n",
      " 5   -1_mean_current      121838 non-null  float64\n",
      " 6   0_dwelling_time      121838 non-null  float64\n",
      " 7   0_standard_dev       121838 non-null  float64\n",
      " 8   0_mean_current       121838 non-null  float64\n",
      " 9   +1_dwelling_time     121838 non-null  float64\n",
      " 10  +1_standard_dev      121838 non-null  float64\n",
      " 11  +1_mean_current      121838 non-null  float64\n",
      " 12  gene_id              121838 non-null  object \n",
      " 13  label                121838 non-null  int64  \n",
      "dtypes: float64(9), int64(2), object(3)\n",
      "memory usage: 13.0+ MB\n",
      "None\n"
     ]
    }
   ],
   "source": [
    "features_labelled = add_gene_and_label(features_agg, labels)\n",
    "print(features_labelled.info())"
   ]
  },
  {
   "cell_type": "code",
   "execution_count": 19,
   "id": "15",
   "metadata": {},
   "outputs": [],
   "source": [
    "# features_labelled.to_csv('../data/features_labelled.csv',index=False)"
   ]
  },
  {
   "cell_type": "markdown",
   "id": "16",
   "metadata": {},
   "source": [
    "# Train Test Split"
   ]
  },
  {
   "cell_type": "code",
   "execution_count": 20,
   "id": "17",
   "metadata": {},
   "outputs": [],
   "source": [
    "def train_test_split_by_gene_id(features_labelled, features_columns):\n",
    "    \"\"\"\n",
    "    Performs train test split based on gene_id. Returns X_train and X_test based on feature_columns\n",
    "    \n",
    "    Inputs:\n",
    "    - features_labelled: pd.DataFrame\n",
    "      Updated features dataframe with added columns: gene_id and label from labels.\n",
    "      \n",
    "    Output:\n",
    "    - X_train: pd.DataFrame\n",
    "    - X_test: pd.DataFrame\n",
    "    - y_train: pd.DataFrame\n",
    "    - y_test: pd.DataFrame\n",
    "    \"\"\"\n",
    "\n",
    "    from sklearn.model_selection import train_test_split\n",
    "    df = features_labelled\n",
    "\n",
    "    # Get unique genes\n",
    "    unique_genes = df['gene_id'].unique()\n",
    "    \n",
    "    # Perform the train-test split on genes\n",
    "    genes_train, genes_test = train_test_split(unique_genes, test_size=0.2, random_state=42)\n",
    "    \n",
    "    # Split the dataset based on the gene split\n",
    "    train_data = df[df['gene_id'].isin(genes_train)]\n",
    "    test_data = df[df['gene_id'].isin(genes_test)]\n",
    "    \n",
    "    # Create the feature and target variables for training and testing\n",
    "    id_train = train_data[['transcript_id','transcript_position']]\n",
    "    X_train = train_data[features_columns]\n",
    "    y_train = train_data['label']\n",
    "    id_test = test_data[['transcript_id','transcript_position']]\n",
    "    X_test = test_data[features_columns]\n",
    "    y_test = test_data['label']\n",
    "    \n",
    "    # Output the shapes to verify the split\n",
    "    print(f\"Training Features Shape: {X_train.shape}\")\n",
    "    print(f\"Test Features Shape: {X_test.shape}\")\n",
    "    print(f\"Training Labels Shape: {y_train.shape}\")\n",
    "    print(f\"Test Labels Shape: {y_test.shape}\")\n",
    "    return (X_train, X_test, y_train, y_test, id_train, id_test)"
   ]
  },
  {
   "cell_type": "code",
   "execution_count": 21,
   "id": "18",
   "metadata": {},
   "outputs": [
    {
     "name": "stdout",
     "output_type": "stream",
     "text": [
      "Training Features Shape: (96821, 9)\n",
      "Test Features Shape: (25017, 9)\n",
      "Training Labels Shape: (96821,)\n",
      "Test Labels Shape: (25017,)\n"
     ]
    }
   ],
   "source": [
    "features_columns = [\n",
    "        '-1_dwelling_time', '-1_standard_dev', '-1_mean_current',\n",
    "        '0_dwelling_time', '0_standard_dev', '0_mean_current',\n",
    "        '+1_dwelling_time', '+1_standard_dev', '+1_mean_current'\n",
    "    ]\n",
    "X_train, X_test, y_train, y_test, id_train, id_test = train_test_split_by_gene_id(features_labelled, features_columns)"
   ]
  },
  {
   "cell_type": "code",
   "execution_count": 22,
   "id": "19",
   "metadata": {},
   "outputs": [],
   "source": [
    "# Balancing Data"
   ]
  },
  {
   "cell_type": "code",
   "execution_count": 23,
   "id": "20",
   "metadata": {},
   "outputs": [],
   "source": [
    "def balance_train_data(X_train,y_train):\n",
    "    \"\"\"\n",
    "    Performs SMOTE on train data, oversampling positive class, to account for imbalanced dataset\n",
    "    \n",
    "    Inputs:\n",
    "    - X_train: pd.DataFrame\n",
    "    - Y_train: pd.DataFrame\n",
    "      \n",
    "    Output:\n",
    "    - X_train_resampled: pd.DataFrame\n",
    "    - y_train_resampled: pd.DataFrame with balanced classes, ie the same number of 0s and 1s\n",
    "    \"\"\"\n",
    "\n",
    "    from imblearn.over_sampling import SMOTE\n",
    "    print(f'Label distribution before resampling:')\n",
    "    print(pd.Series(y_train).value_counts())\n",
    "    \n",
    "    smote = SMOTE(k_neighbors=5, random_state=42) \n",
    "    X_train_resampled, y_train_resampled = smote.fit_resample(X_train, y_train)\n",
    "    print(f'Label distribution after resampling:')\n",
    "    print(pd.Series(y_train_resampled).value_counts())\n",
    "    \n",
    "    return X_train_resampled, y_train_resampled"
   ]
  },
  {
   "cell_type": "code",
   "execution_count": 24,
   "id": "21",
   "metadata": {},
   "outputs": [
    {
     "name": "stdout",
     "output_type": "stream",
     "text": [
      "Label distribution before resampling:\n",
      "label\n",
      "0    92400\n",
      "1     4421\n",
      "Name: count, dtype: int64\n",
      "Label distribution after resampling:\n",
      "label\n",
      "0    92400\n",
      "1    92400\n",
      "Name: count, dtype: int64\n"
     ]
    }
   ],
   "source": [
    "X_train_resampled, y_train_resampled = balance_train_data(X_train,y_train)"
   ]
  },
  {
   "cell_type": "code",
   "execution_count": 25,
   "id": "22",
   "metadata": {},
   "outputs": [],
   "source": [
    "# can remove?\n",
    "# print(X_train.isnull().sum())\n",
    "# print(X_train_resampled.isnull().sum())\n",
    "# print(X_test.isnull().sum())"
   ]
  },
  {
   "cell_type": "code",
   "execution_count": 26,
   "id": "a1d14b5f-a78a-4b98-97c8-e6bed8ba89dd",
   "metadata": {},
   "outputs": [],
   "source": [
    "# Remove null value in X_test (and corresponding y_test value)\n",
    "X_test_clean = X_test.dropna()\n",
    "y_test_clean = y_test[X_test_clean.index]\n",
    "id_test_clean = id_test.loc[X_test_clean.index]"
   ]
  },
  {
   "cell_type": "code",
   "execution_count": 27,
   "id": "23",
   "metadata": {},
   "outputs": [],
   "source": [
    "# Models\n",
    "from sklearn.linear_model import LogisticRegression\n",
    "from sklearn import metrics\n",
    "from sklearn.metrics import confusion_matrix,accuracy_score,balanced_accuracy_score, precision_score, recall_score, f1_score, roc_auc_score, roc_curve, precision_recall_curve, auc\n",
    "from sklearn.model_selection import train_test_split\n",
    "import pandas as pd\n",
    "import numpy as np\n",
    "import matplotlib.pyplot as plt\n",
    "import seaborn as sns\n",
    "\n",
    "# Logistic Regression Model\n",
    "def LR(X_train,y_train):\n",
    "    classifier = LogisticRegression(max_iter=1000, verbose = 1,  random_state = 123, class_weight = 'balanced')\n",
    "    classifier.fit(X_train, y_train)\n",
    "    return classifier"
   ]
  },
  {
   "cell_type": "code",
   "execution_count": 28,
   "id": "24",
   "metadata": {},
   "outputs": [],
   "source": [
    "# Predict the output of xtest using the trained models\n",
    "def predict(classifier, id, X):\n",
    "    y_pred = classifier.predict(X)\n",
    "    y_prob = classifier.predict_proba(X)[:, 1] #Gives probability estimates for y=1\n",
    "\n",
    "    y_out = pd.DataFrame({\n",
    "        'prediction': y_pred,                  \n",
    "        'probability': y_prob          \n",
    "    })\n",
    "\n",
    "    result = pd.concat((id.reset_index(drop=True), y_out.reset_index(drop=True)), axis=1)\n",
    "    # print(result.head())\n",
    "    return result"
   ]
  },
  {
   "cell_type": "code",
   "execution_count": 29,
   "id": "25",
   "metadata": {},
   "outputs": [],
   "source": [
    "# Model evaluation\n",
    "def evaluate(y_test, predict_df):\n",
    "    y_pred = predict_df['prediction']\n",
    "    y_prob = predict_df['probability']\n",
    "    cm = confusion_matrix(y_test, y_pred)\n",
    "    accuracy = accuracy_score(y_test,  y_pred)\n",
    "    balancedaccuracy = balanced_accuracy_score(y_test,  y_pred)\n",
    "    f1score = f1_score(y_test,  y_pred) #F1 is a good scoring metric for imbalanced data when more attention is needed on the positives\n",
    "    precision = precision_score(y_test, y_pred)\n",
    "    recall = recall_score(y_test, y_pred)\n",
    "    roc_auc = roc_auc_score(y_test, y_prob) \n",
    "    precision_vals, recall_vals, _ = precision_recall_curve(y_test, y_prob) # Computes ROC AUC score using probabilities of positive class\n",
    "    pr_auc = auc(recall_vals\n",
    "                 , precision_vals)\n",
    "\n",
    "    print(f\"Accuracy = {round(accuracy, ndigits=3)}\")\n",
    "    print(f\"Balanced Accuracy = {round(balancedaccuracy, ndigits=3)}\")\n",
    "    print(f\"f1 score = {round(f1score, ndigits=3)}\")\n",
    "    print(f\"Precision = {round(precision, ndigits=3)}\")\n",
    "    print(f\"Recall = {round(recall, ndigits=3)}\")\n",
    "    print(f\"ROC AUC = {round(roc_auc, ndigits=3)}\")\n",
    "    print(f\"PR AUC = {round(pr_auc, ndigits=3)}\")\n",
    "\n",
    "    # Plot confusion matrix\n",
    "    plt.figure(figsize=(2,2))\n",
    "    sns.heatmap(cm, annot=True, fmt=\".3f\", linewidths=.5, square = True, cmap = 'Blues_r')\n",
    "    plt.ylabel('Actual label')\n",
    "    plt.xlabel('Predicted label')\n",
    "    plt.title('Confusion Matrix')\n",
    "    plt.figure(figsize=(5,5))  # Increase the figure size to avoid overlap\n",
    "    plt.show()\n",
    "\n",
    "    # Plot ROC curve\n",
    "    fpr, tpr, thresholds = roc_curve(y_test, y_prob)\n",
    "    plt.plot(fpr, tpr, label='ROC curve (AUC = %0.2f)' % roc_auc)\n",
    "    plt.plot([0, 1], [0, 1], 'k--')\n",
    "    plt.xlabel('False Positive Rate')\n",
    "    plt.ylabel('True Positive Rate')\n",
    "    plt.title('Receiver Operating Characteristic (ROC)')\n",
    "    plt.show()\n",
    "\n",
    "    # Plot Precision-Recall curve\n",
    "    plt.plot(recall_vals, precision_vals, label='PR curve (AUC = %0.2f)' % pr_auc)\n",
    "    plt.xlabel('Recall')\n",
    "    plt.ylabel('Precision')\n",
    "    plt.title('Precision-Recall Curve')\n",
    "    plt.show()"
   ]
  },
  {
   "cell_type": "code",
   "execution_count": 30,
   "id": "26",
   "metadata": {},
   "outputs": [
    {
     "name": "stderr",
     "output_type": "stream",
     "text": [
      " This problem is unconstrained.\n"
     ]
    },
    {
     "name": "stdout",
     "output_type": "stream",
     "text": [
      "RUNNING THE L-BFGS-B CODE\n",
      "\n",
      "           * * *\n",
      "\n",
      "Machine precision = 2.220D-16\n",
      " N =           10     M =           10\n",
      "\n",
      "At X0         0 variables are exactly at the bounds\n",
      "\n",
      "At iterate    0    f=  6.71112D+04    |proj g|=  1.34931D+05\n",
      "\n",
      "At iterate   50    f=  6.22172D+04    |proj g|=  3.02275D+02\n",
      "\n",
      "           * * *\n",
      "\n",
      "Tit   = total number of iterations\n",
      "Tnf   = total number of function evaluations\n",
      "Tnint = total number of segments explored during Cauchy searches\n",
      "Skip  = number of BFGS updates skipped\n",
      "Nact  = number of active bounds at final generalized Cauchy point\n",
      "Projg = norm of the final projected gradient\n",
      "F     = final function value\n",
      "\n",
      "           * * *\n",
      "\n",
      "   N    Tit     Tnf  Tnint  Skip  Nact     Projg        F\n",
      "   10     90    104      1     0     0   4.460D+01   6.063D+04\n",
      "  F =   60633.586729569914     \n",
      "\n",
      "CONVERGENCE: REL_REDUCTION_OF_F_<=_FACTR*EPSMCH             \n",
      "Accuracy = 0.603\n",
      "Balanced Accuracy = 0.652\n",
      "f1 score = 0.13\n",
      "Precision = 0.072\n",
      "Recall = 0.705\n",
      "ROC AUC = 0.714\n",
      "PR AUC = 0.078\n"
     ]
    },
    {
     "data": {
      "image/png": "[encoded data removed]",
      "text/plain": [
       "<Figure size 200x200 with 2 Axes>"
      ]
     },
     "metadata": {},
     "output_type": "display_data"
    },
    {
     "data": {
      "text/plain": [
       "<Figure size 500x500 with 0 Axes>"
      ]
     },
     "metadata": {},
     "output_type": "display_data"
    },
    {
     "data": {
      "image/png": "[encoded data removed]",
      "text/plain": [
       "<Figure size 640x480 with 1 Axes>"
      ]
     },
     "metadata": {},
     "output_type": "display_data"
    },
    {
     "data": {
      "image/png": "[encoded data removed]",
      "text/plain": [
       "<Figure size 640x480 with 1 Axes>"
      ]
     },
     "metadata": {},
     "output_type": "display_data"
    }
   ],
   "source": [
    "# ML workflow for Logistic Regression - without SMOTE\n",
    "LR_classifier = LR(X_train, y_train)\n",
    "result = predict(LR_classifier, id_test, X_test_clean)\n",
    "evaluate(y_test_clean, result)"
   ]
  },
  {
   "cell_type": "code",
   "execution_count": 31,
   "id": "84951a5a-be92-4dc5-8e32-d0ac1078aafa",
   "metadata": {},
   "outputs": [
    {
     "name": "stdout",
     "output_type": "stream",
     "text": [
      "RUNNING THE L-BFGS-B CODE\n",
      "\n",
      "           * * *\n",
      "\n",
      "Machine precision = 2.220D-16\n",
      " N =           10     M =           10\n",
      "\n",
      "At X0         0 variables are exactly at the bounds\n",
      "\n",
      "At iterate    0    f=  1.28094D+05    |proj g|=  2.57477D+05\n"
     ]
    },
    {
     "name": "stderr",
     "output_type": "stream",
     "text": [
      " This problem is unconstrained.\n"
     ]
    },
    {
     "name": "stdout",
     "output_type": "stream",
     "text": [
      "\n",
      "At iterate   50    f=  1.17516D+05    |proj g|=  2.92319D+03\n",
      "\n",
      "At iterate  100    f=  1.14791D+05    |proj g|=  1.35312D+03\n",
      "\n",
      "           * * *\n",
      "\n",
      "Tit   = total number of iterations\n",
      "Tnf   = total number of function evaluations\n",
      "Tnint = total number of segments explored during Cauchy searches\n",
      "Skip  = number of BFGS updates skipped\n",
      "Nact  = number of active bounds at final generalized Cauchy point\n",
      "Projg = norm of the final projected gradient\n",
      "F     = final function value\n",
      "\n",
      "           * * *\n",
      "\n",
      "   N    Tit     Tnf  Tnint  Skip  Nact     Projg        F\n",
      "   10    104    122      1     0     0   7.593D+01   1.148D+05\n",
      "  F =   114790.64187143079     \n",
      "\n",
      "CONVERGENCE: REL_REDUCTION_OF_F_<=_FACTR*EPSMCH             \n",
      "Accuracy = 0.614\n",
      "Balanced Accuracy = 0.656\n",
      "f1 score = 0.133\n",
      "Precision = 0.073\n",
      "Recall = 0.703\n",
      "ROC AUC = 0.718\n",
      "PR AUC = 0.082\n"
     ]
    },
    {
     "data": {
      "image/png": "[encoded data removed]",
      "text/plain": [
       "<Figure size 200x200 with 2 Axes>"
      ]
     },
     "metadata": {},
     "output_type": "display_data"
    },
    {
     "data": {
      "text/plain": [
       "<Figure size 500x500 with 0 Axes>"
      ]
     },
     "metadata": {},
     "output_type": "display_data"
    },
    {
     "data": {
      "image/png": "[encoded data removed]",
      "text/plain": [
       "<Figure size 640x480 with 1 Axes>"
      ]
     },
     "metadata": {},
     "output_type": "display_data"
    },
    {
     "data": {
      "image/png": "[encoded data removed]",
      "text/plain": [
       "<Figure size 640x480 with 1 Axes>"
      ]
     },
     "metadata": {},
     "output_type": "display_data"
    }
   ],
   "source": [
    "# ML workflow for Logistic Regression - with SMOTE\n",
    "LR_classifier = LR(X_train_resampled, y_train_resampled)\n",
    "result = predict(LR_classifier, id_test_clean, X_test_clean)\n",
    "evaluate(y_test_clean, result)\n",
    "\n",
    "result = result.sort_values(by='probability', ascending=False)\n",
    "result = result.rename(columns={'probability': 'score'})\n",
    "result = result[['transcript_id', 'transcript_position', 'score']]\n"
   ]
  },
  {
   "cell_type": "markdown",
   "id": "e5ae254d-b26d-4750-9ed6-11fdcd28c147",
   "metadata": {},
   "source": [
    "# Predictions for dataset0"
   ]
  },
  {
   "cell_type": "code",
   "execution_count": 46,
   "id": "40d12527-82fa-4b15-800f-9039d4f300c4",
   "metadata": {},
   "outputs": [],
   "source": [
    "X_test_0 = features_agg[features_columns]\n",
    "id_test_0 = features_agg[['transcript_id', 'transcript_position']]"
   ]
  },
  {
   "cell_type": "code",
   "execution_count": 47,
   "id": "96e5e8e4-0b63-42f7-9a7e-a2c49684e29a",
   "metadata": {},
   "outputs": [],
   "source": [
    "result = predict(LR_classifier, id_test_0, X_test_0)\n",
    "\n",
    "result = result.sort_values(by='probability', ascending=False)\n",
    "result = result.rename(columns={'probability': 'score'})\n",
    "result = result[['transcript_id', 'transcript_position', 'score']]\n"
   ]
  },
  {
   "cell_type": "code",
   "execution_count": 48,
   "id": "92fe3d26-eece-44b6-bd28-b683f1a87b0f",
   "metadata": {},
   "outputs": [
    {
     "name": "stdout",
     "output_type": "stream",
     "text": [
      "Results exported to ../data/geneiuses_dataset0_1.csv\n"
     ]
    }
   ],
   "source": [
    "# Export results to CSV\n",
    "output_csv_path = '../data/geneiuses_dataset0_1.csv'\n",
    "result.to_csv(output_csv_path, index=False)\n",
    "\n",
    "print(f\"Results exported to {output_csv_path}\")\n"
   ]
  },
  {
   "cell_type": "markdown",
   "id": "90d2fb57-55c5-435e-905c-a1331e579258",
   "metadata": {},
   "source": [
    "# Predictions for dataset1"
   ]
  },
  {
   "cell_type": "code",
   "execution_count": 33,
   "id": "29b7a960-d7a9-4e44-9548-fd85aec859ed",
   "metadata": {},
   "outputs": [
    {
     "name": "stdout",
     "output_type": "stream",
     "text": [
      "File unzipped successfully.\n"
     ]
    }
   ],
   "source": [
    "import gzip\n",
    "import shutil\n",
    "\n",
    "# Specify the input and output file names (adjust file paths if needed)\n",
    "input_file_1 = '../data/dataset1.json.gz'  \n",
    "output_file_1 = '../data/dataset1.json'    \n",
    "\n",
    "# Unzip the file\n",
    "with gzip.open(input_file_1, 'rb') as f_in:\n",
    "    with open(output_file_1, 'wb') as f_out:\n",
    "        shutil.copyfileobj(f_in, f_out)\n",
    "\n",
    "print(\"File unzipped successfully.\")"
   ]
  },
  {
   "cell_type": "code",
   "execution_count": 34,
   "id": "ae407201-4986-4dc3-b594-705decccaf2a",
   "metadata": {},
   "outputs": [],
   "source": [
    "import pandas as pd\n",
    "import json\n",
    "\n",
    "input_file_1 = '../data/dataset1.json' \n",
    "\n",
    "data_1 = []\n",
    "with open(input_file_1, 'r') as file:\n",
    "    for line in file:\n",
    "        # Parse each line as a JSON object\n",
    "        data_1.append(json.loads(line))\n",
    "\n",
    "# Flatten the data\n",
    "flattened_data_1 = flatten_json(data_1)\n",
    "\n",
    "# Convert to a DataFrame\n",
    "df_1 = pd.DataFrame(flattened_data_1)"
   ]
  },
  {
   "cell_type": "code",
   "execution_count": 35,
   "id": "7f5e2918-514a-4c53-95d8-95078dcb1fef",
   "metadata": {},
   "outputs": [],
   "source": [
    "# Export as csv\n",
    "path = '../data/dataset1.csv'\n",
    "df_1.to_csv(path, index=False)"
   ]
  },
  {
   "cell_type": "code",
   "execution_count": 36,
   "id": "325fba76-3458-4408-b49f-2c8f9bdf030e",
   "metadata": {},
   "outputs": [],
   "source": [
    "features_1 = pd.read_csv('../data/dataset1.csv')\n",
    "features_agg_1 = aggregate_by_transcript_position(features_1)\n",
    "features_columns_1 = [\n",
    "        '-1_dwelling_time', '-1_standard_dev', '-1_mean_current',\n",
    "        '0_dwelling_time', '0_standard_dev', '0_mean_current',\n",
    "        '+1_dwelling_time', '+1_standard_dev', '+1_mean_current'\n",
    "    ]\n",
    "\n",
    "X_test_1 = features_agg_1[features_columns_1]\n",
    "id_test_1 = features_agg_1[['transcript_id', 'transcript_position']]"
   ]
  },
  {
   "cell_type": "code",
   "execution_count": 37,
   "id": "245f896c-2ec6-47ba-b9c8-2c5ab1048ccc",
   "metadata": {},
   "outputs": [],
   "source": [
    "result_1 = predict(LR_classifier, id_test_1, X_test_1)\n",
    "result_1 = result_1.sort_values(by='probability', ascending=False)\n",
    "result_1 = result_1.rename(columns={'probability': 'score'})\n",
    "result_1 = result_1[['transcript_id', 'transcript_position', 'score']]\n"
   ]
  },
  {
   "cell_type": "code",
   "execution_count": 38,
   "id": "908971d7-ae0c-48d2-8e63-79284bf5de1a",
   "metadata": {},
   "outputs": [
    {
     "name": "stdout",
     "output_type": "stream",
     "text": [
      "Results exported to ../data/geneiuses_dataset1_1.csv\n"
     ]
    }
   ],
   "source": [
    "# Export results to CSV\n",
    "output_csv_path = '../data/geneiuses_dataset1_1.csv'\n",
    "result_1.to_csv(output_csv_path, index=False)\n",
    "\n",
    "print(f\"Results exported to {output_csv_path}\")\n"
   ]
  },
  {
   "cell_type": "markdown",
   "id": "677001a5-0695-4c0e-b054-e017d771d858",
   "metadata": {},
   "source": [
    "# Predictions for dataset2"
   ]
  },
  {
   "cell_type": "code",
   "execution_count": 39,
   "id": "dcea4c2a-7e43-45a0-83e4-25cc17ad8c06",
   "metadata": {},
   "outputs": [
    {
     "name": "stdout",
     "output_type": "stream",
     "text": [
      "File unzipped successfully.\n"
     ]
    }
   ],
   "source": [
    "import gzip\n",
    "import shutil\n",
    "\n",
    "# Specify the input and output file names (adjust file paths if needed)\n",
    "input_file_2 = '../data/dataset2.json.gz'  \n",
    "output_file_2 = '../data/dataset2.json'    \n",
    "\n",
    "# Unzip the file\n",
    "with gzip.open(input_file_2, 'rb') as f_in:\n",
    "    with open(output_file_2, 'wb') as f_out:\n",
    "        shutil.copyfileobj(f_in, f_out)\n",
    "\n",
    "print(\"File unzipped successfully.\")"
   ]
  },
  {
   "cell_type": "code",
   "execution_count": 40,
   "id": "af2aba93-29ee-4285-ba90-e30cdd73461c",
   "metadata": {},
   "outputs": [],
   "source": [
    "import pandas as pd\n",
    "import json\n",
    "\n",
    "input_file_2 = '../data/dataset2.json' \n",
    "\n",
    "data_2 = []\n",
    "with open(input_file_2, 'r') as file:\n",
    "    for line in file:\n",
    "        # Parse each line as a JSON object\n",
    "        data_2.append(json.loads(line))\n",
    "\n",
    "# Flatten the data\n",
    "flattened_data_2 = flatten_json(data_2)\n",
    "\n",
    "# Convert to a DataFrame\n",
    "df_2 = pd.DataFrame(flattened_data_2)"
   ]
  },
  {
   "cell_type": "code",
   "execution_count": 41,
   "id": "af2446af-7c9a-4a99-b8c0-d0b11cee1cec",
   "metadata": {},
   "outputs": [],
   "source": [
    "# Export as csv\n",
    "path = '../data/dataset2.csv'\n",
    "df_2.to_csv(path, index=False)"
   ]
  },
  {
   "cell_type": "code",
   "execution_count": 42,
   "id": "25bb43b5-5c7b-433f-9ff1-1d46e042b567",
   "metadata": {},
   "outputs": [],
   "source": [
    "features_2 = pd.read_csv('../data/dataset2.csv')\n",
    "features_agg_2 = aggregate_by_transcript_position(features_2)\n",
    "features_columns_2 = [\n",
    "        '-1_dwelling_time', '-1_standard_dev', '-1_mean_current',\n",
    "        '0_dwelling_time', '0_standard_dev', '0_mean_current',\n",
    "        '+1_dwelling_time', '+1_standard_dev', '+1_mean_current'\n",
    "    ]\n",
    "\n",
    "X_test_2 = features_agg_2[features_columns_2]\n",
    "id_test_2 = features_agg_2[['transcript_id', 'transcript_position']]\n"
   ]
  },
  {
   "cell_type": "code",
   "execution_count": 43,
   "id": "7e8674e0-4587-41e1-b426-4f069092b464",
   "metadata": {},
   "outputs": [],
   "source": [
    "# ML workflow for Logistic Regression\n",
    "result_2 = predict(LR_classifier, id_test_2, X_test_2)"
   ]
  },
  {
   "cell_type": "code",
   "execution_count": 44,
   "id": "433888d3-187f-4743-b54b-3cb3cc190e8b",
   "metadata": {},
   "outputs": [],
   "source": [
    "result_2 = result_2.sort_values(by='probability', ascending=False)\n",
    "result_2 = result_2.rename(columns={'probability': 'score'})\n",
    "result_2 = result_2[['transcript_id', 'transcript_position', 'score']]\n"
   ]
  },
  {
   "cell_type": "code",
   "execution_count": 45,
   "id": "67fa6307-c260-4ee2-a08f-6aff93ca6aa5",
   "metadata": {},
   "outputs": [
    {
     "name": "stdout",
     "output_type": "stream",
     "text": [
      "Results exported to ../data/geneiuses_dataset2_1.csv\n"
     ]
    }
   ],
   "source": [
    "# Export results to CSV\n",
    "output_csv_path = '../data/geneiuses_dataset2_1.csv'\n",
    "result_2.to_csv(output_csv_path, index=False)\n",
    "\n",
    "print(f\"Results exported to {output_csv_path}\")\n"
   ]
  }
 ],
 "metadata": {
  "kernelspec": {
   "display_name": "Python 3 (ipykernel)",
   "language": "python",
   "name": "python3"
  },
  "language_info": {
   "codemirror_mode": {
    "name": "ipython",
    "version": 3
   },
   "file_extension": ".py",
   "mimetype": "text/x-python",
   "name": "python",
   "nbconvert_exporter": "python",
   "pygments_lexer": "ipython3",
   "version": "3.8.10"
  }
 },
 "nbformat": 4,
 "nbformat_minor": 5
}
