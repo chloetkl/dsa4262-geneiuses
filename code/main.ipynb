{
 "cells": [
  {
   "cell_type": "code",
   "execution_count": null,
   "id": "0",
   "metadata": {},
   "outputs": [],
   "source": [
    "# Import libraries\n",
    "import gzip\n",
    "import shutil\n",
    "import os\n",
    "import json \n",
    "import pandas as pd\n",
    "import numpy as np\n",
    "import matplotlib.pyplot as plt\n",
    "import seaborn as sns\n",
    "\n",
    "# Train Test Split, SMOTE\n",
    "from sklearn.model_selection import train_test_split\n",
    "from imblearn.over_sampling import SMOTE\n",
    "\n",
    "# ML\n",
    "from sklearn.linear_model import LogisticRegression\n",
    "from sklearn.ensemble import RandomForestClassifier\n",
    "from sklearn.metrics import (confusion_matrix, accuracy_score, balanced_accuracy_score,\n",
    "    precision_score, recall_score, f1_score, roc_auc_score, roc_curve, precision_recall_curve, auc,\n",
    "    make_scorer, average_precision_score)\n",
    "from sklearn.pipeline import Pipeline\n",
    "from sklearn.feature_selection import VarianceThreshold, SelectFromModel\n",
    "from sklearn.model_selection import RandomizedSearchCV, GridSearchCV\n",
    "\n",
    "from joblib import dump, load"
   ]
  },
  {
   "cell_type": "markdown",
   "id": "1",
   "metadata": {},
   "source": [
    "# Reading and Parsing JSON"
   ]
  },
  {
   "cell_type": "code",
   "execution_count": null,
   "id": "2",
   "metadata": {},
   "outputs": [],
   "source": [
    "# Specify the input and output file names (adjust file paths if needed)\n",
    "input_file = '../data/dataset0.json.gz'  \n",
    "\n",
    "# Unzip the file\n",
    "def unzip_file(input):\n",
    "    if input.endswith('.gz'):\n",
    "        output = input[:-3]\n",
    "    else:\n",
    "        print(\"Input file is not a .gz file. Unzipping not required\")\n",
    "        return input\n",
    "    \n",
    "    with gzip.open(input, 'rb') as f_in:\n",
    "        with open(output, 'wb') as f_out:\n",
    "            shutil.copyfileobj(f_in, f_out)\n",
    "\n",
    "    print(f'File unzipped successfully. Output file: {output}')\n",
    "\n",
    "    return output"
   ]
  },
  {
   "cell_type": "code",
   "execution_count": null,
   "id": "3",
   "metadata": {},
   "outputs": [],
   "source": [
    "unzip_file(input_file)"
   ]
  },
  {
   "cell_type": "code",
   "execution_count": null,
   "id": "4",
   "metadata": {},
   "outputs": [],
   "source": [
    "input_file = '../data/dataset0.json' \n",
    "\n",
    "def flatten_json(input_file):\n",
    "    import json \n",
    "    import pandas as pd\n",
    "    \n",
    "    data = []\n",
    "    with open(input_file, 'r') as file:\n",
    "        for line in file:\n",
    "            # Parse each line as a JSON object\n",
    "            data.append(json.loads(line))\n",
    "    \n",
    "    rows = []\n",
    "\n",
    "    for entry in data:\n",
    "        for transcript_id, positions in entry.items():\n",
    "            for position, sequences in positions.items():\n",
    "                for sequence, features in sequences.items():\n",
    "                    for feature_set in features:\n",
    "                        row = {\n",
    "                            'transcript_id': transcript_id,\n",
    "                            'transcript_position': position,\n",
    "                            'sequence': sequence,\n",
    "                            '-1_dwelling_time': feature_set[0],\n",
    "                            '-1_standard_dev': feature_set[1],\n",
    "                            '-1_mean_current': feature_set[2],\n",
    "                            '0_dwelling_time': feature_set[3],\n",
    "                            '0_standard_dev': feature_set[4],\n",
    "                            '0_mean_current': feature_set[5],\n",
    "                            '+1_dwelling_time': feature_set[6],\n",
    "                            '+1_standard_dev': feature_set[7],\n",
    "                            '+1_mean_current': feature_set[8],\n",
    "                        }\n",
    "                        rows.append(row)\n",
    "\n",
    "    df = pd.DataFrame(rows)\n",
    "    return df"
   ]
  },
  {
   "cell_type": "code",
   "execution_count": null,
   "id": "5",
   "metadata": {},
   "outputs": [],
   "source": [
    "# Flatten the data\n",
    "flattened_data = flatten_json(input_file)\n",
    "print(flattened_data.head())\n",
    "print(flattened_data.info())"
   ]
  },
  {
   "cell_type": "code",
   "execution_count": null,
   "id": "6",
   "metadata": {},
   "outputs": [],
   "source": [
    "# Export as csv\n",
    "path = '../data/dataset0.csv'\n",
    "flattened_data.to_csv(path, index=False)"
   ]
  },
  {
   "cell_type": "markdown",
   "id": "7",
   "metadata": {},
   "source": [
    "# Load labels and features, perform aggregation"
   ]
  },
  {
   "cell_type": "markdown",
   "id": "8",
   "metadata": {},
   "source": [
    "## Read in labels and features"
   ]
  },
  {
   "cell_type": "code",
   "execution_count": null,
   "id": "9",
   "metadata": {},
   "outputs": [],
   "source": [
    "def read_labels(labels_file):\n",
    "\n",
    "    labels = pd.read_csv(labels_file)\n",
    "    return labels\n",
    "\n",
    "labels = read_labels('../data/data.info.labelled')\n",
    "\n",
    "print(labels.info())  # To get summary information about the DataFrame\n",
    "print(labels.head())  # Preview the first few rows of the data"
   ]
  },
  {
   "cell_type": "code",
   "execution_count": null,
   "id": "10",
   "metadata": {},
   "outputs": [],
   "source": [
    "features = pd.read_csv('../data/dataset0.csv')\n",
    "\n",
    "print(features.info()) \n",
    "print(features.head())  "
   ]
  },
  {
   "cell_type": "markdown",
   "id": "11",
   "metadata": {},
   "source": [
    "## Aggregate and label features"
   ]
  },
  {
   "cell_type": "code",
   "execution_count": null,
   "id": "12",
   "metadata": {},
   "outputs": [],
   "source": [
    "def aggregate_by_transcript_position(features):\n",
    "\n",
    "    # Apply mean, std, min, max, and skew to the selected columns\n",
    "    features_agg = features.groupby(['transcript_id', 'transcript_position', 'sequence'])\\\n",
    "        .agg({\n",
    "            '-1_dwelling_time': ['mean', 'min', 'max'],\n",
    "            '-1_standard_dev': ['mean'],\n",
    "            '-1_mean_current': ['mean', 'min', 'max'],\n",
    "            '0_dwelling_time': ['mean', 'min', 'max'],\n",
    "            '0_standard_dev': ['mean'],\n",
    "            '0_mean_current': ['mean', 'min', 'max'],\n",
    "            '+1_dwelling_time': ['mean', 'min', 'max'],\n",
    "            '+1_standard_dev': ['mean'],\n",
    "            '+1_mean_current': ['mean', 'min', 'max']\n",
    "        }).reset_index()\n",
    "    \n",
    "    # Rename the columns to something more readable\n",
    "    features_agg.columns = ['_'.join(col).strip() if col[1] else col[0] for col in features_agg.columns]\n",
    "\n",
    "    \n",
    "\n",
    "    return features_agg"
   ]
  },
  {
   "cell_type": "code",
   "execution_count": null,
   "id": "13",
   "metadata": {},
   "outputs": [],
   "source": [
    "def one_hot_encode_sequence(features_agg, column='sequence'):\n",
    "    # Step 1: Split each sequence into individual characters\n",
    "    features_split = features_agg[column].apply(lambda x: pd.Series(list(x)))\n",
    "    \n",
    "    # Step 2: Remove the middle letter (always the 4th character, index 3 in 0-based index)\n",
    "    features_split = features_split.drop(columns=[3])  # Drop the middle letter (index 3)\n",
    "    \n",
    "    # Step 3: One-hot encode the remaining letters\n",
    "    # `pd.get_dummies` will automatically one-hot encode each position\n",
    "    seq = pd.get_dummies(\n",
    "        features_split,\n",
    "        prefix=['pos1', 'pos2', 'pos3', 'pos5', 'pos6', 'pos7'],\n",
    "        columns=[0, 1, 2, 4, 5, 6],\n",
    "        dtype=int)\n",
    "\n",
    "    expected_columns = [\n",
    "        'pos1_A', 'pos1_T', 'pos1_C', 'pos1_G',\n",
    "        'pos2_A', 'pos2_T', 'pos2_C', 'pos2_G',\n",
    "        'pos3_A', 'pos3_T', 'pos3_C', 'pos3_G',\n",
    "        'pos5_A', 'pos5_T', 'pos5_C', 'pos5_G',\n",
    "        'pos6_A', 'pos6_T', 'pos6_C', 'pos6_G',\n",
    "        'pos7_A', 'pos7_T', 'pos7_C', 'pos7_G'\n",
    "    ]\n",
    "    seq = seq.reindex(columns=expected_columns, fill_value=0)\n",
    "    \n",
    "    features_agg_with_seq = pd.concat([features_agg, seq], axis=1)\n",
    "    features_agg_with_seq = features_agg_with_seq.drop(columns=[column])\n",
    "    \n",
    "    return features_agg_with_seq\n"
   ]
  },
  {
   "cell_type": "code",
   "execution_count": null,
   "id": "14",
   "metadata": {},
   "outputs": [],
   "source": [
    "features_agg = aggregate_by_transcript_position(features)\n",
    "features_agg_with_seq = one_hot_encode_sequence(features_agg)\n",
    "print(features_agg_with_seq.info())\n",
    "print(features_agg_with_seq.head())"
   ]
  },
  {
   "cell_type": "code",
   "execution_count": null,
   "id": "15",
   "metadata": {},
   "outputs": [],
   "source": [
    "def add_gene_and_label(features, labels):\n",
    "    \"\"\"\n",
    "    Adds gene_id and label to features dataframe\n",
    "    \n",
    "    Inputs:\n",
    "    - features: pd.DataFrame\n",
    "      Dataframe with selected features after feature engineering. Dataframe must contain transcript_id and transcript_position\n",
    "    - labels: pd.DataFrame\n",
    "      Dataframe with gene_id, transcript_id, transcript_position, and label.\n",
    "\n",
    "    Output:\n",
    "    - pd.DataFrame\n",
    "      Updated features dataframe with added columns: gene_id and label from labels.\n",
    "    \"\"\"\n",
    "    features_labelled = pd.merge(features, labels, on=['transcript_id', 'transcript_position'], how='inner')\n",
    "    \n",
    "    return features_labelled\n"
   ]
  },
  {
   "cell_type": "code",
   "execution_count": null,
   "id": "16",
   "metadata": {},
   "outputs": [],
   "source": [
    "features_labelled = add_gene_and_label(features_agg_with_seq, labels)\n",
    "print(features_labelled.info())"
   ]
  },
  {
   "cell_type": "code",
   "execution_count": null,
   "id": "17",
   "metadata": {},
   "outputs": [],
   "source": [
    "# Breaking point: generate features_labelled.csv\n",
    "features_labelled.to_csv('../data/features_labelled.csv',index=False)"
   ]
  },
  {
   "cell_type": "markdown",
   "id": "18",
   "metadata": {},
   "source": [
    "# Train Test Split"
   ]
  },
  {
   "cell_type": "code",
   "execution_count": null,
   "id": "19",
   "metadata": {},
   "outputs": [],
   "source": [
    "features_labelled = pd.read_csv('../data/features_labelled.csv')"
   ]
  },
  {
   "cell_type": "code",
   "execution_count": null,
   "id": "20",
   "metadata": {},
   "outputs": [],
   "source": [
    "def get_X_y_id(features_labelled):\n",
    "\n",
    "    y = features_labelled['label']\n",
    "    id = features_labelled[['transcript_id','transcript_position']]\n",
    "    X = features_labelled.drop(columns = ['transcript_id', 'transcript_position', 'gene_id', 'label'])\n",
    "    return X, y, id"
   ]
  },
  {
   "cell_type": "code",
   "execution_count": null,
   "id": "21",
   "metadata": {},
   "outputs": [],
   "source": [
    "def train_test_split_by_gene_id(features_labelled, features_columns):\n",
    "    \"\"\"\n",
    "    Performs train test split based on gene_id. Returns X_train and X_test based on feature_columns\n",
    "    \n",
    "    Inputs:\n",
    "    - features_labelled: pd.DataFrame\n",
    "      Updated features dataframe with added columns: gene_id and label from labels.\n",
    "      \n",
    "    Output:\n",
    "    - X_train: pd.DataFrame\n",
    "    - X_test: pd.DataFrame\n",
    "    - y_train: pd.DataFrame\n",
    "    - y_test: pd.DataFrame\n",
    "    \"\"\"\n",
    "\n",
    "    df = features_labelled\n",
    "\n",
    "    # Get unique genes\n",
    "    unique_genes = df['gene_id'].unique()\n",
    "    \n",
    "    # Perform the train-test split on genes\n",
    "    genes_train, genes_test = train_test_split(unique_genes, test_size=0.2, random_state=42)\n",
    "    \n",
    "    # Split the dataset based on the gene split\n",
    "    train_data = df[df['gene_id'].isin(genes_train)]\n",
    "    test_data = df[df['gene_id'].isin(genes_test)]\n",
    "    \n",
    "    # Create the feature and target variables for training and testing\n",
    "    id_train = train_data[['transcript_id','transcript_position']]\n",
    "    X_train = train_data[features_columns]\n",
    "    y_train = train_data['label']\n",
    "    id_test = test_data[['transcript_id','transcript_position']]\n",
    "    X_test = test_data[features_columns]\n",
    "    y_test = test_data['label']\n",
    "    \n",
    "    # Output the shapes to verify the split\n",
    "    print(f\"Training Features Shape: {X_train.shape}\")\n",
    "    print(f\"Training Labels Shape: {y_train.shape}\")\n",
    "    print(f\"Test Features Shape: {X_test.shape}\")\n",
    "    print(f\"Test Labels Shape: {y_test.shape}\")\n",
    "    return (X_train, X_test, y_train, y_test, id_train, id_test)"
   ]
  },
  {
   "cell_type": "code",
   "execution_count": null,
   "id": "22",
   "metadata": {},
   "outputs": [],
   "source": [
    "features_columns = [\n",
    "        '-1_dwelling_time_mean', '-1_dwelling_time_min', '-1_dwelling_time_max',\n",
    "        '-1_standard_dev_mean', \n",
    "        '-1_mean_current_mean', '-1_mean_current_min', '-1_mean_current_max',\n",
    "        '0_dwelling_time_mean', '0_dwelling_time_min', '0_dwelling_time_max',\n",
    "        '0_standard_dev_mean', \n",
    "        '0_mean_current_mean', '0_mean_current_min', '0_mean_current_max',\n",
    "        '+1_dwelling_time_mean', '+1_dwelling_time_min', '+1_dwelling_time_max',\n",
    "        '+1_standard_dev_mean', \n",
    "        '+1_mean_current_mean', '+1_mean_current_min', '+1_mean_current_max',\n",
    "        'pos1_A', 'pos1_T', 'pos1_C', 'pos1_G',\n",
    "        'pos2_A', 'pos2_T', 'pos2_C', 'pos2_G',\n",
    "        'pos3_A', 'pos3_T', 'pos3_C', 'pos3_G',\n",
    "        'pos5_A', 'pos5_T', 'pos5_C', 'pos5_G',\n",
    "        'pos6_A', 'pos6_T', 'pos6_C', 'pos6_G',\n",
    "        'pos7_A', 'pos7_T', 'pos7_C', 'pos7_G'\n",
    "]\n",
    "features_columns_means = [\n",
    "    '-1_dwelling_time_mean',\n",
    "    '-1_standard_dev_mean', \n",
    "    '-1_mean_current_mean',\n",
    "    '0_dwelling_time_mean',\n",
    "    '0_standard_dev_mean', \n",
    "    '0_mean_current_mean', \n",
    "    '+1_dwelling_time_mean',\n",
    "    '+1_standard_dev_mean', \n",
    "    '+1_mean_current_mean'\n",
    "]\n"
   ]
  },
  {
   "cell_type": "code",
   "execution_count": null,
   "id": "23",
   "metadata": {},
   "outputs": [],
   "source": [
    "X_train_means_only, X_test_means_only, y_train, y_test, id_train, id_test = train_test_split_by_gene_id(features_labelled, features_columns_means)\n",
    "X_train, X_test, y_train, y_test, id_train, id_test = train_test_split_by_gene_id(features_labelled, features_columns)"
   ]
  },
  {
   "cell_type": "markdown",
   "id": "24",
   "metadata": {},
   "source": [
    "# Balancing Data"
   ]
  },
  {
   "cell_type": "code",
   "execution_count": null,
   "id": "25",
   "metadata": {},
   "outputs": [],
   "source": [
    "def balance_train_data(X_train,y_train):\n",
    "    \"\"\"\n",
    "    Performs SMOTE on train data, oversampling positive class, to account for imbalanced dataset\n",
    "    \n",
    "    Inputs:\n",
    "    - X_train: pd.DataFrame\n",
    "    - Y_train: pd.DataFrame\n",
    "      \n",
    "    Output:\n",
    "    - X_train_resampled: pd.DataFrame\n",
    "    - y_train_resampled: pd.DataFrame with balanced classes, ie the same number of 0s and 1s\n",
    "    \"\"\"\n",
    "\n",
    "    from imblearn.over_sampling import SMOTE\n",
    "    print(f'Label distribution before resampling:')\n",
    "    print(pd.Series(y_train).value_counts())\n",
    "    \n",
    "    smote = SMOTE(k_neighbors=5, random_state=42) \n",
    "    X_train_resampled, y_train_resampled = smote.fit_resample(X_train, y_train)\n",
    "    print(f'Label distribution after resampling:')\n",
    "    print(pd.Series(y_train_resampled).value_counts())\n",
    "    \n",
    "    return X_train_resampled, y_train_resampled"
   ]
  },
  {
   "cell_type": "markdown",
   "id": "26",
   "metadata": {},
   "source": [
    "# Models"
   ]
  },
  {
   "cell_type": "markdown",
   "id": "27",
   "metadata": {},
   "source": [
    "## Predict and evaluate functions"
   ]
  },
  {
   "cell_type": "code",
   "execution_count": null,
   "id": "28",
   "metadata": {},
   "outputs": [],
   "source": [
    "# Predict the output of xtest using the trained models\n",
    "def predict(classifier, id, X):\n",
    "    y_pred = classifier.predict(X)\n",
    "    y_prob = classifier.predict_proba(X)[:, 1] #Gives probability estimates for y=1\n",
    "\n",
    "    y_out = pd.DataFrame({\n",
    "        'prediction': y_pred,                  \n",
    "        'probability': y_prob          \n",
    "    })\n",
    "\n",
    "    result = pd.concat((id.reset_index(drop=True), y_out.reset_index(drop=True)), axis=1)\n",
    "   \n",
    "    # tabulate results\n",
    "    prediction_counts = pd.Series(y_pred).value_counts().rename_axis('prediction').reset_index(name='count')\n",
    "    print(\"\\nTabulated Prediction Counts:\")\n",
    "    print(prediction_counts)\n",
    "\n",
    "    return result"
   ]
  },
  {
   "cell_type": "code",
   "execution_count": null,
   "id": "29",
   "metadata": {},
   "outputs": [],
   "source": [
    "# Model evaluation\n",
    "def evaluate(y_test, predict_df):\n",
    "    y_pred = predict_df['prediction']\n",
    "    y_prob = predict_df['probability']\n",
    "    cm = confusion_matrix(y_test, y_pred)\n",
    "    accuracy = accuracy_score(y_test,  y_pred)\n",
    "    balancedaccuracy = balanced_accuracy_score(y_test,  y_pred)\n",
    "    f1score = f1_score(y_test,  y_pred) #F1 is a good scoring metric for imbalanced data when more attention is needed on the positives\n",
    "    precision = precision_score(y_test, y_pred)\n",
    "    recall = recall_score(y_test, y_pred)\n",
    "    roc_auc = roc_auc_score(y_test, y_prob) \n",
    "    precision_vals, recall_vals, _ = precision_recall_curve(y_test, y_prob) # Computes ROC AUC score using probabilities of positive class\n",
    "    pr_auc = auc(recall_vals\n",
    "                 , precision_vals)\n",
    "\n",
    "    print(f\"Accuracy = {round(accuracy, ndigits=3)}\")\n",
    "    print(f\"Balanced Accuracy = {round(balancedaccuracy, ndigits=3)}\")\n",
    "    print(f\"f1 score = {round(f1score, ndigits=3)}\")\n",
    "    print(f\"Precision = {round(precision, ndigits=3)}\")\n",
    "    print(f\"Recall = {round(recall, ndigits=3)}\")\n",
    "    print(f\"ROC AUC = {round(roc_auc, ndigits=3)}\")\n",
    "    print(f\"PR AUC = {round(pr_auc, ndigits=3)}\")\n",
    "\n",
    "    # Plot confusion matrix\n",
    "    plt.figure(figsize=(2,2))\n",
    "    sns.heatmap(cm, annot=True, fmt=\".3f\", linewidths=.5, square = True, cmap = 'Blues_r')\n",
    "    plt.ylabel('Actual label')\n",
    "    plt.xlabel('Predicted label')\n",
    "    plt.title('Confusion Matrix')\n",
    "    plt.figure(figsize=(5,5))  # Increase the figure size to avoid overlap\n",
    "    plt.show()\n",
    "\n",
    "    # Plot ROC curve\n",
    "    fpr, tpr, thresholds = roc_curve(y_test, y_prob)\n",
    "    plt.plot(fpr, tpr, label='ROC curve (AUC = %0.2f)' % roc_auc)\n",
    "    plt.plot([0, 1], [0, 1], 'k--')\n",
    "    plt.xlabel('False Positive Rate')\n",
    "    plt.ylabel('True Positive Rate')\n",
    "    plt.title('Receiver Operating Characteristic (ROC)')\n",
    "    plt.show()\n",
    "\n",
    "    # Plot Precision-Recall curve\n",
    "    plt.plot(recall_vals, precision_vals, label='PR curve (AUC = %0.2f)' % pr_auc)\n",
    "    plt.xlabel('Recall')\n",
    "    plt.ylabel('Precision')\n",
    "    plt.title('Precision-Recall Curve')\n",
    "    plt.show()"
   ]
  },
  {
   "cell_type": "markdown",
   "id": "30",
   "metadata": {},
   "source": [
    "## Baseline Model - Logistic Regression with Means Only"
   ]
  },
  {
   "cell_type": "code",
   "execution_count": null,
   "id": "31",
   "metadata": {},
   "outputs": [],
   "source": [
    "def LR(X_train,y_train,balance):\n",
    "    if balance:\n",
    "        X_train, y_train = balance_train_data(X_train, y_train)\n",
    "    classifier = LogisticRegression(max_iter=1000, verbose = 1,  random_state = 123, class_weight = 'balanced')\n",
    "    classifier.fit(X_train, y_train)\n",
    "    return classifier"
   ]
  },
  {
   "cell_type": "code",
   "execution_count": null,
   "id": "32",
   "metadata": {},
   "outputs": [],
   "source": [
    "LR_classifier_means = LR(X_train_means_only, y_train, False)\n",
    "result = predict(LR_classifier_means, id_test, X_test_means_only)\n",
    "evaluate(y_test, result)"
   ]
  },
  {
   "cell_type": "markdown",
   "id": "33",
   "metadata": {},
   "source": [
    "## Model 1: Logistic Regression"
   ]
  },
  {
   "cell_type": "code",
   "execution_count": null,
   "id": "34",
   "metadata": {},
   "outputs": [],
   "source": [
    "# Logistic Regression Model\n",
    "def LR(X_train,y_train, balance):\n",
    "    \n",
    "    if balance:\n",
    "        X_train, y_train = balance_train_data(X_train, y_train)\n",
    "    # remove low variance features\n",
    "    # Define the pipeline with variance threshold selector and logistic regression classifier\n",
    "    model = Pipeline([\n",
    "        ('selector', VarianceThreshold(threshold=0.01)),\n",
    "        ('classifier', LogisticRegression(max_iter=1000, verbose=1, random_state=123, class_weight='balanced'))\n",
    "    ])\n",
    "    # Train the model on X_train and y_train\n",
    "    model.fit(X_train, y_train)\n",
    "    return model"
   ]
  },
  {
   "cell_type": "code",
   "execution_count": null,
   "id": "35",
   "metadata": {},
   "outputs": [],
   "source": [
    "# ML workflow for Logistic Regression - without SMOTE\n",
    "LR_classifier = LR(X_train, y_train, False)\n",
    "result = predict(LR_classifier, id_test, X_test)\n",
    "evaluate(y_test, result)"
   ]
  },
  {
   "cell_type": "code",
   "execution_count": null,
   "id": "36",
   "metadata": {},
   "outputs": [],
   "source": [
    "# ML workflow for Logistic Regression - with SMOTE\n",
    "LR_classifier_balanced = LR(X_train, y_train,True)\n",
    "result = predict(LR_classifier, id_test, X_test)\n",
    "evaluate(y_test, result)\n"
   ]
  },
  {
   "cell_type": "code",
   "execution_count": null,
   "id": "37",
   "metadata": {},
   "outputs": [],
   "source": [
    "selection_mask= LR_classifier_balanced.named_steps['selector'].get_support()\n",
    "\n",
    "# Create a DataFrame with feature names and selection status\n",
    "feature_selection_df = pd.DataFrame({\n",
    "    'Feature': X_train.columns,\n",
    "    'Selected': selection_mask\n",
    "})\n",
    "\n",
    "count_df = pd.Series(LR_classifier.named_steps['selector'].get_support()).value_counts().reset_index(name='Count').rename(columns={'index': 'Selected'})\n",
    "\n",
    "print(feature_selection_df)\n",
    "print(count_df)"
   ]
  },
  {
   "cell_type": "markdown",
   "id": "38",
   "metadata": {},
   "source": [
    "## Model 2: Random Forest"
   ]
  },
  {
   "cell_type": "markdown",
   "id": "39",
   "metadata": {},
   "source": [
    "### Baseline and Selector"
   ]
  },
  {
   "cell_type": "code",
   "execution_count": null,
   "id": "40",
   "metadata": {},
   "outputs": [],
   "source": [
    "def RF(X_train, y_train):\n",
    "    classifier = RandomForestClassifier(n_estimators=100, random_state=123, class_weight='balanced', verbose=1)\n",
    "    classifier.fit(X_train, y_train)\n",
    "    return classifier"
   ]
  },
  {
   "cell_type": "code",
   "execution_count": null,
   "id": "41",
   "metadata": {},
   "outputs": [],
   "source": [
    "RF_classifier = RF(X_train, y_train)\n",
    "result = predict(RF_classifier, id_test, X_train)\n",
    "evaluate(y_train, result)\n",
    "result = predict(RF_classifier, id_test, X_test)\n",
    "evaluate(y_test, result)"
   ]
  },
  {
   "cell_type": "code",
   "execution_count": null,
   "id": "42",
   "metadata": {},
   "outputs": [],
   "source": [
    "def RF_tuning_feature_selection_RF(X_train, y_train):\n",
    "\n",
    "    '''\n",
    "    RF_tuning_feature_selection_RF uses SelectFromModel to select features with higher feature importance than median.\n",
    "    This step was done before tuning due to the large number of features and high complexity of dataset to reduce training time.\n",
    "\n",
    "    Inputs:\n",
    "    - X_train\n",
    "    - y_train\n",
    "\n",
    "    Output:\n",
    "    - selector_model: This model should be applied on X_train before further RF tuning. \n",
    "    \n",
    "    '''\n",
    "\n",
    "    # Step 1: Initialize RandomForestClassifier and fit for feature selection\n",
    "    rf_temp = RandomForestClassifier(random_state=123, class_weight='balanced', n_estimators=50)\n",
    "    selector_model = SelectFromModel(rf_temp, threshold=\"median\")\n",
    "    \n",
    "    # Fit the selector model on training data\n",
    "    selector_model.fit(X_train, y_train)\n",
    "    \n",
    "    # Get the boolean array indicating which features were kept\n",
    "    feature_support = selector_model.get_support()\n",
    "    \n",
    "    # Get feature names from X_train (assuming it’s a DataFrame), otherwise create generic names\n",
    "    feature_names = X_train.columns if hasattr(X_train, 'columns') else [f'feature_{i}' for i in range(X_train.shape[1])]\n",
    "    \n",
    "    # Retrieve feature importances from the fitted RandomForestClassifier model\n",
    "    feature_importances = selector_model.estimator_.feature_importances_\n",
    "    \n",
    "    # Create the DataFrame to show feature selection status and importance\n",
    "    feature_df = pd.DataFrame({\n",
    "        'Feature': feature_names,\n",
    "        'Kept': feature_support,\n",
    "        'Importance': feature_importances\n",
    "    })\n",
    "\n",
    "    feature_df = feature_df.sort_values(by='Importance', ascending=False).reset_index(drop=True)\n",
    "    \n",
    "    # Display the DataFrame\n",
    "    print(feature_df)\n",
    "    \n",
    "    return selector_model\n",
    "\n"
   ]
  },
  {
   "cell_type": "code",
   "execution_count": null,
   "id": "43",
   "metadata": {},
   "outputs": [],
   "source": [
    "selector = RF_tuning_feature_selection_RF(X_train, y_train)"
   ]
  },
  {
   "cell_type": "code",
   "execution_count": null,
   "id": "44",
   "metadata": {},
   "outputs": [],
   "source": [
    "# After defining RF_classifier\n",
    "dump(selector, '../model/selector.joblib')  # Save the model"
   ]
  },
  {
   "cell_type": "code",
   "execution_count": null,
   "id": "45",
   "metadata": {},
   "outputs": [],
   "source": [
    "def select_features(X_train, selector):\n",
    "    X_train = selector.transform(X_train)\n",
    "    \n",
    "    return X_train"
   ]
  },
  {
   "cell_type": "markdown",
   "id": "46",
   "metadata": {},
   "source": [
    "### Tuning"
   ]
  },
  {
   "cell_type": "code",
   "execution_count": null,
   "id": "47",
   "metadata": {},
   "outputs": [],
   "source": [
    "def RF_tuning_intermediate(X_train, y_train, param_dist, selector):\n",
    "\n",
    "    '''\n",
    "    RF_tuning_intermediate uses RandomizedSearch to reduce search space\n",
    "    with feature selection to improve efficiency. It also provides a\n",
    "    DataFrame indicating which features were kept or removed.\n",
    "    '''\n",
    "\n",
    "    X_train = select_features(X_train, selector)\n",
    "    \n",
    "    # Step 1: Define the main RandomForestClassifier for tuning\n",
    "    model = RandomForestClassifier(random_state=123, class_weight='balanced')\n",
    "\n",
    "    # Custom combined AUC score\n",
    "    def combined_auc_score(y_true, y_pred_proba):\n",
    "        roc_auc = roc_auc_score(y_true, y_pred_proba)\n",
    "        pr_auc = average_precision_score(y_true, y_pred_proba)\n",
    "        return 0.3 * roc_auc + 0.7 * pr_auc\n",
    "\n",
    "    # Create custom scorer\n",
    "    custom_scorer = make_scorer(combined_auc_score, needs_proba=True)\n",
    "\n",
    "    # Step 2: Set up RandomizedSearchCV\n",
    "    randomized_search = RandomizedSearchCV(\n",
    "        estimator=model,\n",
    "        param_distributions=param_dist,\n",
    "        n_iter=20,  \n",
    "        scoring=custom_scorer,\n",
    "        cv=5,      \n",
    "        n_jobs=-1,\n",
    "        verbose=1,\n",
    "        random_state=123\n",
    "    )\n",
    "    \n",
    "    # Train the model using RandomizedSearchCV\n",
    "    randomized_search.fit(X_train, y_train)\n",
    "    \n",
    "    return randomized_search.best_estimator_, randomized_search.best_params_"
   ]
  },
  {
   "cell_type": "code",
   "execution_count": null,
   "id": "48",
   "metadata": {},
   "outputs": [],
   "source": [
    "param_dist_search_1 = {\n",
    "            'n_estimators': [100, 200, 300],  \n",
    "            'max_depth': [None, 10, 20, 30],  \n",
    "            'min_samples_split': [2, 3], \n",
    "            'min_samples_leaf': [1, 2, 3]\n",
    "        }    \n",
    "RF_search_1_classifier, RF_search_1_params = RF_tuning_intermediate(X_train, y_train, param_dist_search_1, selector)\n",
    "print(f'Tuning step 1 outputs: {RF_search_1_params}')"
   ]
  },
  {
   "cell_type": "code",
   "execution_count": null,
   "id": "49",
   "metadata": {},
   "outputs": [],
   "source": [
    "# Results from tuning 1: {'n_estimators': 300, 'min_samples_split': 2, 'min_samples_leaf': 3, 'max_depth': None}\n",
    "# Do tuning 2 based on tuning 1 results\n",
    "param_dist_search_2 = {\n",
    "            'n_estimators': [300, 400],  # Tuning 1 findings: 300 > 100/200\n",
    "            'max_depth': [None, 40, 50], # Tuning 1 findings: None > 10/20/30\n",
    "            'min_samples_split': [2], # Tuning 1 findings: 2 > 3\n",
    "            'min_samples_leaf': [3, 4],  # Tuning 1 findings: 3 > 1/2\n",
    "            'max_features': ['sqrt', 'log2'],  # New feat in tuning 2\n",
    "            'bootstrap': [True, False]  # New feat in tuning 2\n",
    "        }    \n",
    "RF_search_2_classifier, RF_search_2_params = RF_tuning_intermediate(X_train, y_train, param_dist_search_2, selector)\n",
    "print(f'Tuning step 2 outputs: {RF_search_2_params}')"
   ]
  },
  {
   "cell_type": "code",
   "execution_count": null,
   "id": "50",
   "metadata": {},
   "outputs": [],
   "source": [
    "# Tuning 2 results - train\n",
    "X_train_selected = select_features(X_train,selector)\n",
    "result = predict(RF_search_2_classifier, id_train, X_train_selected)\n",
    "evaluate(y_train, result)\n",
    "\n",
    "# noticed tendency to overfit - prioritise reducing complexity"
   ]
  },
  {
   "cell_type": "code",
   "execution_count": null,
   "id": "51",
   "metadata": {},
   "outputs": [],
   "source": [
    "# Results from tuning 2: {'n_estimators': 400, 'min_samples_split': 2, 'min_samples_leaf': 4, 'max_features': 'sqrt', 'max_depth': 50, 'bootstrap': False}\n",
    "param_dist_search_3 = {\n",
    "            'n_estimators': [100, 200, 300, 400],  \n",
    "            'max_depth': [10, 20, 30], # decrease to reduce complexity \n",
    "            'max_leaf_nodes': [10, 30, 50, 70, 100], # decrease to reduce complexity\n",
    "            'min_samples_split': [5, 10, 15, 20], # increase to reduce complexity\n",
    "            'min_samples_leaf': [2, 5, 10] # increase to reduce complexity\n",
    "        }    \n",
    "RF_search_3_classifier, RF_search_3_params = RF_tuning_intermediate(X_train, y_train, param_dist_search_3, selector)\n",
    "print(f'Tuning step 3 outputs: {RF_search_3_params}')"
   ]
  },
  {
   "cell_type": "code",
   "execution_count": null,
   "id": "52",
   "metadata": {},
   "outputs": [],
   "source": [
    "# Tuning 3 results - train\n",
    "X_train_selected = select_features(X_train,selector)\n",
    "result = predict(RF_search_3_classifier, id_train, X_train_selected)\n",
    "evaluate(y_train, result)\n",
    "# underfitting train data, increase complexity"
   ]
  },
  {
   "cell_type": "code",
   "execution_count": null,
   "id": "53",
   "metadata": {},
   "outputs": [],
   "source": [
    "# Results from tuning 3: {'n_estimators': 200, 'min_samples_split': 5, 'min_samples_leaf': 10, 'max_leaf_nodes': 70, 'max_depth': 10}\n",
    "param_dist_search_4 = {\n",
    "            'n_estimators': [150, 200, 250], \n",
    "            'max_depth': [10], # keep as lowest number was most optimal\n",
    "            'max_leaf_nodes': [75, 100, 125], # can be increased to prevent underfitting\n",
    "            'min_samples_split': [3, 4, 5], # can be decreased to prevent underfiting\n",
    "            'min_samples_leaf': [10] # keep as highest number was most optimal\n",
    "        }    \n",
    "RF_search_4_classifier, RF_search_4_params = RF_tuning_intermediate(X_train, y_train, param_dist_search_4, selector)\n",
    "print(f'Tuning step 4 outputs: {RF_search_4_params}')"
   ]
  },
  {
   "cell_type": "code",
   "execution_count": null,
   "id": "54",
   "metadata": {},
   "outputs": [],
   "source": [
    "# Tuning 4 results - train\n",
    "X_train_selected = select_features(X_train,selector)\n",
    "result = predict(RF_search_4_classifier, id_train, X_train_selected)\n",
    "evaluate(y_train, result)\n"
   ]
  },
  {
   "cell_type": "code",
   "execution_count": null,
   "id": "55",
   "metadata": {},
   "outputs": [],
   "source": [
    "# Tuning 4 results - test\n",
    "X_test_selected = select_features(X_test,selector)\n",
    "result = predict(RF_search_4_classifier, id_test, X_test_selected)\n",
    "evaluate(y_test, result)"
   ]
  },
  {
   "cell_type": "code",
   "execution_count": null,
   "id": "56",
   "metadata": {},
   "outputs": [],
   "source": [
    "# Results from tuning 4:  {'n_estimators': 250, 'min_samples_split': 4, 'min_samples_leaf': 10, 'max_leaf_nodes': 125, 'max_depth': 10}\n",
    "param_dist_search_5 = {\n",
    "            'n_estimators': [250, 500, 750, 1000], \n",
    "            'max_depth': [10], # keep as lowest number was most optimal\n",
    "            'max_leaf_nodes': [125, 250, 500, 750, 1000], # can be increased to prevent underfitting\n",
    "            'min_samples_split': [4], # keep as middle number was selected\n",
    "            'min_samples_leaf': [8, 10], \n",
    "        }   \n",
    "\n",
    "RF_search_5_classifier, RF_search_5_params = RF_tuning_intermediate(X_train, y_train, param_dist_search_5, selector)\n",
    "print(f'Tuning step 5 outputs: {RF_search_5_params}')"
   ]
  },
  {
   "cell_type": "code",
   "execution_count": null,
   "id": "57",
   "metadata": {},
   "outputs": [],
   "source": [
    "# Tuning step 5 outputs: {'n_estimators': 500, 'min_samples_split': 4, 'min_samples_leaf': 10, 'max_leaf_nodes': 1000, 'max_depth': 10}\n",
    "# Tuning 5 results - train\n",
    "X_train_selected = select_features(X_train,selector)\n",
    "result = predict(RF_search_5_classifier, id_train, X_train_selected)\n",
    "evaluate(y_train, result)"
   ]
  },
  {
   "cell_type": "code",
   "execution_count": null,
   "id": "58",
   "metadata": {},
   "outputs": [],
   "source": [
    "# Tuning 5 results - test\n",
    "X_test_selected = select_features(X_test,selector)\n",
    "result = predict(RF_search_5_classifier, id_test, X_test_selected)\n",
    "evaluate(y_test, result)"
   ]
  },
  {
   "cell_type": "code",
   "execution_count": null,
   "id": "59",
   "metadata": {},
   "outputs": [],
   "source": [
    "def RF_tuning_final(X_train, y_train, param_grid, selector):\n",
    "    '''\n",
    "    RF_tuning uses GridSearch on an exhaustive list of parameters, determined after GridSearch\n",
    "    '''   \n",
    "    X_train = select_features(X_train, selector)\n",
    "\n",
    "    # Define the random forest model with class_weight set to 'balanced'\n",
    "    model = RandomForestClassifier(random_state=123, class_weight='balanced')\n",
    "\n",
    "    # Custom scoring function combining ROC AUC and PR AUC\n",
    "    def combined_auc_score(y_true, y_pred_proba):\n",
    "        roc_auc = roc_auc_score(y_true, y_pred_proba)\n",
    "        pr_auc = average_precision_score(y_true, y_pred_proba)\n",
    "    \n",
    "        # Combined score\n",
    "        combined_score = 0.3 * roc_auc + 0.7 * pr_auc # prioritise pr_auc due to imbalanced data\n",
    "        return combined_score\n",
    "\n",
    "    # Create a custom scorer using make_scorer\n",
    "    custom_scorer = make_scorer(combined_auc_score, needs_proba=True)\n",
    "\n",
    "    # Set up GridSearchCV with the parameter grid\n",
    "    grid_search = GridSearchCV(estimator=model, param_grid=param_grid,\n",
    "                               scoring=custom_scorer, cv=5, n_jobs=-1, verbose=1)\n",
    "    \n",
    "    # Train the model on X_train and y_train using GridSearchCV\n",
    "    grid_search.fit(X_train, y_train)\n",
    "\n",
    "    return grid_search.best_estimator_, grid_search.best_params_"
   ]
  },
  {
   "cell_type": "code",
   "execution_count": null,
   "id": "60",
   "metadata": {},
   "outputs": [],
   "source": [
    "# step 5 outputs: {'n_estimators': 500, 'min_samples_split': 4, 'min_samples_leaf': 10, 'max_leaf_nodes': 1000, 'max_depth': 10}\n",
    "param_grid_final = {\n",
    "            'n_estimators': [500], \n",
    "            'max_depth': [10],\n",
    "            'max_leaf_nodes': [1000, 1500, 2000], # can be increased to prevent underfitting\n",
    "            'min_samples_split': [4], \n",
    "            'min_samples_leaf': [10], \n",
    "            'bootstrap': [True, False], # new\n",
    "            'max_features': ['sqrt', 'log2'] # new\n",
    "        }   \n",
    "RF_tuned_classifier, RF_tuned_params = RF_tuning_final(X_train, y_train, param_grid_final, selector)\n",
    "print(f'Final classifier: {RF_tuned_params}')"
   ]
  },
  {
   "cell_type": "code",
   "execution_count": null,
   "id": "61",
   "metadata": {},
   "outputs": [],
   "source": [
    "# Final classifier: {'bootstrap': False, 'max_depth': 10, 'max_features': 'sqrt', 'max_leaf_nodes': 1000, 'min_samples_leaf': 10, 'min_samples_split': 4, 'n_estimators': 500}"
   ]
  },
  {
   "cell_type": "code",
   "execution_count": null,
   "id": "62",
   "metadata": {},
   "outputs": [],
   "source": [
    "# Final train results\n",
    "X_train_selected = select_features(X_train, selector)\n",
    "result = predict(RF_tuned_classifier, id_test, X_train_selected)\n",
    "evaluate(y_train, result)"
   ]
  },
  {
   "cell_type": "code",
   "execution_count": null,
   "id": "63",
   "metadata": {},
   "outputs": [],
   "source": [
    "# Final test results\n",
    "X_test = select_features(X_test, selector)\n",
    "result = predict(RF_tuned_classifier, id_test, X_test)\n",
    "evaluate(y_test, result)"
   ]
  },
  {
   "cell_type": "markdown",
   "id": "64",
   "metadata": {},
   "source": [
    "# Final Model - Random Forest: Train using all the data"
   ]
  },
  {
   "cell_type": "code",
   "execution_count": null,
   "id": "65",
   "metadata": {},
   "outputs": [],
   "source": [
    "X_full = features_labelled.drop(columns = ['gene_id','transcript_id','transcript_position','label'])\n",
    "X_selected = select_features(X_full, selector)\n",
    "y_full = features_labelled['label']\n",
    "\n",
    "RF_final_classifier = RandomForestClassifier(**RF_tuned_params, random_state=123, class_weight='balanced') #use ideal params\n",
    "RF_final_classifier.fit(X_selected, y_full)"
   ]
  },
  {
   "cell_type": "code",
   "execution_count": null,
   "id": "66",
   "metadata": {},
   "outputs": [],
   "source": [
    "# After defining RF_classifier\n",
    "dump(RF_final_classifier, '../model/rf_classifier.joblib')  # Save the model"
   ]
  },
  {
   "cell_type": "code",
   "execution_count": null,
   "id": "67",
   "metadata": {},
   "outputs": [],
   "source": [
    "X, y, id = get_X_y_id(features_labelled)\n",
    "X_all = select_features(X, selector)\n",
    "result = predict(RF_final_classifier, id, X_all)\n",
    "evaluate(y, result)"
   ]
  },
  {
   "cell_type": "markdown",
   "id": "68",
   "metadata": {},
   "source": [
    "# Run Predictions"
   ]
  },
  {
   "cell_type": "code",
   "execution_count": null,
   "id": "69",
   "metadata": {},
   "outputs": [],
   "source": [
    "def load_model(job_lib_file): \n",
    "\n",
    "    # Load the model\n",
    "    classifier = load(job_lib_file)\n",
    "\n",
    "    return classifier"
   ]
  },
  {
   "cell_type": "code",
   "execution_count": null,
   "id": "70",
   "metadata": {},
   "outputs": [],
   "source": [
    "def split_id_cols(X_with_id):\n",
    "    '''\n",
    "    Remove specific ID columns from the DataFrame.\n",
    "\n",
    "    Parameters:\n",
    "    X_all (pd.DataFrame): The input DataFrame from which the specified columns will be removed.\n",
    "\n",
    "    Returns:\n",
    "    pd.DataFrame: A DataFrame with the specified ID columns removed. If the columns do not exist, the original DataFrame is returned unchanged.\n",
    "    \n",
    "    Columns to be removed:\n",
    "    - 'transcript_id'\n",
    "    - 'transcript_position'\n",
    "    '''\n",
    "\n",
    "    # Drop specified columns from the DataFrame\n",
    "    id = X_with_id[['transcript_id', 'transcript_position']]\n",
    "    X = X_with_id.drop(columns=['transcript_id', 'transcript_position'], errors='ignore')\n",
    "    return X, id\n",
    "\n",
    "def clean_result_format(result):\n",
    "    '''\n",
    "    Converts results to desired results format\n",
    "    '''\n",
    "    result = result.rename(columns={'probability': 'score'})\n",
    "    result = result[['transcript_id', 'transcript_position', 'score']]\n",
    "    return result\n",
    "\n",
    "def generate_predictions(json_gz_file, selector_file, classifier_file, output_path='default', include_features=False):\n",
    "    '''\n",
    "    Generates predictions on test dataset given json_gz_file and classifier_file\n",
    "\n",
    "    Parameters:\n",
    "    - json_gz_file\n",
    "    - classifier_file\n",
    "\n",
    "    Returns:\n",
    "    - pd.Dataframe: output of predictions with transcript_id, and also outputs csv\n",
    "    '''\n",
    "    \n",
    "    json_file = unzip_file(json_gz_file)\n",
    "    features = flatten_json(json_file)\n",
    "    print(\"Step 1/6: Processing JSON completed.\")\n",
    "    \n",
    "    features_agg = aggregate_by_transcript_position(features)\n",
    "    features_agg_with_seq = one_hot_encode_sequence(features_agg)\n",
    "    X, id = split_id_cols(features_agg_with_seq)\n",
    "    print(\"Step 2/6: Cleaning features completed.\")\n",
    "    \n",
    "    selector = load_model(selector_file)\n",
    "    X_selected = select_features(X, selector)\n",
    "    print(\"Step 3/6: Feature selection completed.\")\n",
    "    \n",
    "    classifier = load_model(classifier_file)\n",
    "    result = predict(classifier, id, X_selected)\n",
    "    print(\"Step 4/6: Prediction using model completed.\")\n",
    "   \n",
    "    result = clean_result_format(result)\n",
    "    print(result.head())\n",
    "    print(\"Step 5/6: Cleaning results completed.\")\n",
    "\n",
    "    if include_features:\n",
    "        result = pd.concat([result, X], axis=1)\n",
    "\n",
    "    if output_path == 'default':\n",
    "        output_path = json_file.replace('.json', '.csv').replace('/data/', '/output/')\n",
    "        \n",
    "    result.to_csv(output_path, index=False)  # Write to CSV without the index\n",
    "    print(f\"Step 6/6: Results written to {output_path}\")"
   ]
  },
  {
   "cell_type": "code",
   "execution_count": null,
   "id": "71",
   "metadata": {},
   "outputs": [],
   "source": [
    "# dataset0 predictions\n",
    "generate_predictions('../data/dataset0.json.gz', '../model/selector.joblib.gz', '../model/rf_classifier.joblib.gz')"
   ]
  },
  {
   "cell_type": "code",
   "execution_count": null,
   "id": "72",
   "metadata": {},
   "outputs": [],
   "source": [
    "# dataset1 predictions\n",
    "generate_predictions('../data/dataset1.json.gz', '../model/selector.joblib.gz', '../model/rf_classifier.joblib.gz')"
   ]
  },
  {
   "cell_type": "code",
   "execution_count": null,
   "id": "73",
   "metadata": {},
   "outputs": [],
   "source": [
    "# dataset2 predictions\n",
    "generate_predictions('../data/dataset2.json.gz', '../model/selector.joblib.gz', '../model/rf_classifier.joblib.gz')"
   ]
  },
  {
   "cell_type": "code",
   "execution_count": null,
   "id": "74",
   "metadata": {},
   "outputs": [],
   "source": [
    "# dataset3 predictions\n",
    "generate_predictions('../data/dataset3.json.gz', '../model/selector.joblib.gz', '../model/rf_classifier.joblib.gz')"
   ]
  }
 ],
 "metadata": {
  "kernelspec": {
   "display_name": "Python 3 (ipykernel)",
   "language": "python",
   "name": "python3"
  },
  "language_info": {
   "codemirror_mode": {
    "name": "ipython",
    "version": 3
   },
   "file_extension": ".py",
   "mimetype": "text/x-python",
   "name": "python",
   "nbconvert_exporter": "python",
   "pygments_lexer": "ipython3",
   "version": "3.8.10"
  }
 },
 "nbformat": 4,
 "nbformat_minor": 5
}
