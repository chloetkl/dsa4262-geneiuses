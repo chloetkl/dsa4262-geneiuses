{
 "cells": [
  {
   "cell_type": "code",
   "execution_count": null,
   "id": "0",
   "metadata": {},
   "outputs": [],
   "source": [
    "%pip install pandas\n",
    "%pip install scikit-learn\n",
    "%pip install imblearn\n",
    "%pip install matplotlib\n",
    "%pip install seaborn\n"
   ]
  },
  {
   "cell_type": "markdown",
   "id": "1",
   "metadata": {
    "jp-MarkdownHeadingCollapsed": true
   },
   "source": [
    "# Reading and Parsing JSON"
   ]
  },
  {
   "cell_type": "code",
   "execution_count": null,
   "id": "2",
   "metadata": {},
   "outputs": [],
   "source": [
    "# Specify the input and output file names (adjust file paths if needed)\n",
    "input_file = '../data/dataset0.json.gz'  \n",
    "output_file = '../data/dataset0.json'    \n",
    "\n",
    "# Unzip the file\n",
    "def unzip_file(input,output):\n",
    "    import gzip\n",
    "    import shutil\n",
    "    with gzip.open(input_file, 'rb') as f_in:\n",
    "        with open(output_file, 'wb') as f_out:\n",
    "            shutil.copyfileobj(f_in, f_out)\n",
    "\n",
    "    print(\"File unzipped successfully.\")\n",
    "\n",
    "unzip_file(input_file,output_file)"
   ]
  },
  {
   "cell_type": "code",
   "execution_count": null,
   "id": "3",
   "metadata": {},
   "outputs": [],
   "source": [
    "input_file = '../data/dataset0.json' \n",
    "\n",
    "def flatten_json(input_file):\n",
    "    import json \n",
    "    import pandas as pd\n",
    "    \n",
    "    data = []\n",
    "    with open(input_file, 'r') as file:\n",
    "        for line in file:\n",
    "            # Parse each line as a JSON object\n",
    "            data.append(json.loads(line))\n",
    "    \n",
    "    rows = []\n",
    "\n",
    "    for entry in data:\n",
    "        for transcript_id, positions in entry.items():\n",
    "            for position, sequences in positions.items():\n",
    "                for sequence, features in sequences.items():\n",
    "                    for feature_set in features:\n",
    "                        row = {\n",
    "                            'transcript_id': transcript_id,\n",
    "                            'transcript_position': position,\n",
    "                            'sequence': sequence,\n",
    "                            '-1_dwelling_time': feature_set[0],\n",
    "                            '-1_standard_dev': feature_set[1],\n",
    "                            '-1_mean_current': feature_set[2],\n",
    "                            '0_dwelling_time': feature_set[3],\n",
    "                            '0_standard_dev': feature_set[4],\n",
    "                            '0_mean_current': feature_set[5],\n",
    "                            '+1_dwelling_time': feature_set[6],\n",
    "                            '+1_standard_dev': feature_set[7],\n",
    "                            '+1_mean_current': feature_set[8],\n",
    "                        }\n",
    "                        rows.append(row)\n",
    "\n",
    "    df = pd.DataFrame(rows)\n",
    "    return df\n",
    "\n",
    "# Flatten the data\n",
    "flattened_data = flatten_json(input_file)"
   ]
  },
  {
   "cell_type": "code",
   "execution_count": null,
   "id": "4",
   "metadata": {},
   "outputs": [],
   "source": [
    "print(flattened_data.head())\n",
    "print(flattened_data.info())"
   ]
  },
  {
   "cell_type": "code",
   "execution_count": null,
   "id": "5",
   "metadata": {},
   "outputs": [],
   "source": [
    "# Export as csv\n",
    "path = '../data/dataset0.csv'\n",
    "flattened_data.to_csv(path, index=False)"
   ]
  },
  {
   "cell_type": "markdown",
   "id": "6",
   "metadata": {},
   "source": [
    "# Load labels and features, perform aggregation"
   ]
  },
  {
   "cell_type": "markdown",
   "id": "7",
   "metadata": {},
   "source": [
    "## Read in labels and features"
   ]
  },
  {
   "cell_type": "code",
   "execution_count": null,
   "id": "8",
   "metadata": {},
   "outputs": [],
   "source": [
    "import pandas as pd\n",
    "labels = pd.read_csv('../data/data.info.labelled')\n",
    "\n",
    "print(labels.info())  # To get summary information about the DataFrame\n",
    "print(labels.head())  # Preview the first few rows of the data"
   ]
  },
  {
   "cell_type": "code",
   "execution_count": null,
   "id": "9",
   "metadata": {},
   "outputs": [],
   "source": [
    "features = pd.read_csv('../data/dataset0.csv')\n",
    "\n",
    "print(features.info()) \n",
    "print(features.head())  "
   ]
  },
  {
   "cell_type": "markdown",
   "id": "10",
   "metadata": {},
   "source": [
    "## Aggregate and label features"
   ]
  },
  {
   "cell_type": "code",
   "execution_count": null,
   "id": "11",
   "metadata": {},
   "outputs": [],
   "source": [
    "def aggregate_by_transcript_position(features):\n",
    "\n",
    "    # Apply mean, std, min, max, and skew to the selected columns\n",
    "    features_agg = features.groupby(['transcript_id', 'transcript_position', 'sequence'])\\\n",
    "        .agg({\n",
    "            '-1_dwelling_time': ['mean', 'min', 'max'],\n",
    "            '-1_standard_dev': ['mean'],\n",
    "            '-1_mean_current': ['mean', 'min', 'max'],\n",
    "            '0_dwelling_time': ['mean', 'min', 'max'],\n",
    "            '0_standard_dev': ['mean'],\n",
    "            '0_mean_current': ['mean', 'min', 'max'],\n",
    "            '+1_dwelling_time': ['mean', 'min', 'max'],\n",
    "            '+1_standard_dev': ['mean'],\n",
    "            '+1_mean_current': ['mean', 'min', 'max']\n",
    "        }).reset_index()\n",
    "    \n",
    "    # Rename the columns to something more readable\n",
    "    features_agg.columns = ['_'.join(col).strip() if col[1] else col[0] for col in features_agg.columns]\n",
    "\n",
    "    \n",
    "\n",
    "    return features_agg"
   ]
  },
  {
   "cell_type": "code",
   "execution_count": null,
   "id": "12",
   "metadata": {},
   "outputs": [],
   "source": [
    "def one_hot_encode_sequence(features_agg, column='sequence'):\n",
    "    # Step 1: Split each sequence into individual characters\n",
    "    features_split = features_agg[column].apply(lambda x: pd.Series(list(x)))\n",
    "    \n",
    "    # Step 2: Remove the middle letter (always the 4th character, index 3 in 0-based index)\n",
    "    features_split = features_split.drop(columns=[3])  # Drop the middle letter (index 3)\n",
    "    \n",
    "    # Step 3: One-hot encode the remaining letters\n",
    "    # `pd.get_dummies` will automatically one-hot encode each position\n",
    "    seq = pd.get_dummies(\n",
    "        features_split,\n",
    "        prefix=['pos1', 'pos2', 'pos3', 'pos5', 'pos6', 'pos7'],\n",
    "        columns=[0, 1, 2, 4, 5, 6],\n",
    "        dtype=int)\n",
    "\n",
    "    expected_columns = [\n",
    "        'pos1_A', 'pos1_T', 'pos1_C', 'pos1_G',\n",
    "        'pos2_A', 'pos2_T', 'pos2_C', 'pos2_G',\n",
    "        'pos3_A', 'pos3_T', 'pos3_C', 'pos3_G',\n",
    "        'pos5_A', 'pos5_T', 'pos5_C', 'pos5_G',\n",
    "        'pos6_A', 'pos6_T', 'pos6_C', 'pos6_G',\n",
    "        'pos7_A', 'pos7_T', 'pos7_C', 'pos7_G'\n",
    "    ]\n",
    "    seq = seq.reindex(columns=expected_columns, fill_value=0)\n",
    "    \n",
    "    features_agg_with_seq = pd.concat([features_agg, seq], axis=1)\n",
    "    features_agg_with_seq = features_agg_with_seq.drop(columns=[column])\n",
    "    \n",
    "    return features_agg_with_seq\n"
   ]
  },
  {
   "cell_type": "code",
   "execution_count": null,
   "id": "13",
   "metadata": {},
   "outputs": [],
   "source": [
    "features_agg = aggregate_by_transcript_position(features)\n",
    "features_agg_with_seq = one_hot_encode_sequence(features_agg)\n",
    "print(features_agg_with_seq.info())\n",
    "print(features_agg_with_seq.head())"
   ]
  },
  {
   "cell_type": "code",
   "execution_count": null,
   "id": "14",
   "metadata": {},
   "outputs": [],
   "source": [
    "def add_gene_and_label(features, labels):\n",
    "    \"\"\"\n",
    "    Adds gene_id and label to features dataframe\n",
    "    \n",
    "    Inputs:\n",
    "    - features: pd.DataFrame\n",
    "      Dataframe with selected features after feature engineering. Dataframe must contain transcript_id and transcript_position\n",
    "    - labels: pd.DataFrame\n",
    "      Dataframe with gene_id, transcript_id, transcript_position, and label.\n",
    "\n",
    "    Output:\n",
    "    - pd.DataFrame\n",
    "      Updated features dataframe with added columns: gene_id and label from labels.\n",
    "    \"\"\"\n",
    "    features_labelled = pd.merge(features, labels, on=['transcript_id', 'transcript_position'], how='inner')\n",
    "    \n",
    "    return features_labelled\n"
   ]
  },
  {
   "cell_type": "code",
   "execution_count": null,
   "id": "15",
   "metadata": {},
   "outputs": [],
   "source": [
    "features_labelled = add_gene_and_label(features_agg, labels)\n",
    "print(features_labelled.info())"
   ]
  },
  {
   "cell_type": "code",
   "execution_count": null,
   "id": "16",
   "metadata": {},
   "outputs": [],
   "source": [
    "# features_labelled.to_csv('../data/features_labelled.csv',index=False)"
   ]
  },
  {
   "cell_type": "markdown",
   "id": "17",
   "metadata": {},
   "source": [
    "# Train Test Split"
   ]
  },
  {
   "cell_type": "code",
   "execution_count": null,
   "id": "18",
   "metadata": {},
   "outputs": [],
   "source": [
    "import pandas as pd\n",
    "features_labelled = pd.read_csv('../data/features_labelled.csv')"
   ]
  },
  {
   "cell_type": "code",
   "execution_count": null,
   "id": "19",
   "metadata": {},
   "outputs": [],
   "source": [
    "def train_test_split_by_gene_id(features_labelled, features_columns):\n",
    "    \"\"\"\n",
    "    Performs train test split based on gene_id. Returns X_train and X_test based on feature_columns\n",
    "    \n",
    "    Inputs:\n",
    "    - features_labelled: pd.DataFrame\n",
    "      Updated features dataframe with added columns: gene_id and label from labels.\n",
    "      \n",
    "    Output:\n",
    "    - X_train: pd.DataFrame\n",
    "    - X_test: pd.DataFrame\n",
    "    - y_train: pd.DataFrame\n",
    "    - y_test: pd.DataFrame\n",
    "    \"\"\"\n",
    "\n",
    "    from sklearn.model_selection import train_test_split\n",
    "    df = features_labelled\n",
    "\n",
    "    # Get unique genes\n",
    "    unique_genes = df['gene_id'].unique()\n",
    "    \n",
    "    # Perform the train-test split on genes\n",
    "    genes_train, genes_test = train_test_split(unique_genes, test_size=0.2, random_state=42)\n",
    "    \n",
    "    # Split the dataset based on the gene split\n",
    "    train_data = df[df['gene_id'].isin(genes_train)]\n",
    "    test_data = df[df['gene_id'].isin(genes_test)]\n",
    "    \n",
    "    # Create the feature and target variables for training and testing\n",
    "    id_train = train_data[['transcript_id','transcript_position']]\n",
    "    X_train = train_data[features_columns]\n",
    "    y_train = train_data['label']\n",
    "    id_test = test_data[['transcript_id','transcript_position']]\n",
    "    X_test = test_data[features_columns]\n",
    "    y_test = test_data['label']\n",
    "    \n",
    "    # Output the shapes to verify the split\n",
    "    print(f\"Training Features Shape: {X_train.shape}\")\n",
    "    print(f\"Test Features Shape: {X_test.shape}\")\n",
    "    print(f\"Training Labels Shape: {y_train.shape}\")\n",
    "    print(f\"Test Labels Shape: {y_test.shape}\")\n",
    "    return (X_train, X_test, y_train, y_test, id_train, id_test)"
   ]
  },
  {
   "cell_type": "code",
   "execution_count": null,
   "id": "20",
   "metadata": {},
   "outputs": [],
   "source": [
    "features_columns = [\n",
    "        '-1_dwelling_time_mean', '-1_dwelling_time_min', '-1_dwelling_time_max',\n",
    "        '-1_standard_dev_mean', \n",
    "        '-1_mean_current_mean', '-1_mean_current_min', '-1_mean_current_max',\n",
    "        '0_dwelling_time_mean', '0_dwelling_time_min', '0_dwelling_time_max',\n",
    "        '0_standard_dev_mean', \n",
    "        '0_mean_current_mean', '0_mean_current_min', '0_mean_current_max',\n",
    "        '+1_dwelling_time_mean', '+1_dwelling_time_min', '+1_dwelling_time_max',\n",
    "        '+1_standard_dev_mean', \n",
    "        '+1_mean_current_mean', '+1_mean_current_min', '+1_mean_current_max',\n",
    "        'pos1_A', 'pos1_T', 'pos1_C', 'pos1_G',\n",
    "        'pos2_A', 'pos2_T', 'pos2_C', 'pos2_G',\n",
    "        'pos3_A', 'pos3_T', 'pos3_C', 'pos3_G',\n",
    "        'pos5_A', 'pos5_T', 'pos5_C', 'pos5_G',\n",
    "        'pos6_A', 'pos6_T', 'pos6_C', 'pos6_G',\n",
    "        'pos7_A', 'pos7_T', 'pos7_C', 'pos7_G'\n",
    "]\n",
    "features_columns_means = [\n",
    "    '-1_dwelling_time_mean',\n",
    "    '-1_standard_dev_mean', \n",
    "    '-1_mean_current_mean',\n",
    "    '0_dwelling_time_mean',\n",
    "    '0_standard_dev_mean', \n",
    "    '0_mean_current_mean', \n",
    "    '+1_dwelling_time_mean',\n",
    "    '+1_standard_dev_mean', \n",
    "    '+1_mean_current_mean'\n",
    "]\n"
   ]
  },
  {
   "cell_type": "code",
   "execution_count": null,
   "id": "21",
   "metadata": {},
   "outputs": [],
   "source": [
    "X_train_means_only, X_test_means_only, y_train, y_test, id_train, id_test = train_test_split_by_gene_id(features_labelled, features_columns_means)\n",
    "X_train, X_test, y_train, y_test, id_train, id_test = train_test_split_by_gene_id(features_labelled, features_columns)"
   ]
  },
  {
   "cell_type": "markdown",
   "id": "22",
   "metadata": {},
   "source": [
    "# Balancing Data"
   ]
  },
  {
   "cell_type": "code",
   "execution_count": null,
   "id": "23",
   "metadata": {},
   "outputs": [],
   "source": [
    "def balance_train_data(X_train,y_train):\n",
    "    \"\"\"\n",
    "    Performs SMOTE on train data, oversampling positive class, to account for imbalanced dataset\n",
    "    \n",
    "    Inputs:\n",
    "    - X_train: pd.DataFrame\n",
    "    - Y_train: pd.DataFrame\n",
    "      \n",
    "    Output:\n",
    "    - X_train_resampled: pd.DataFrame\n",
    "    - y_train_resampled: pd.DataFrame with balanced classes, ie the same number of 0s and 1s\n",
    "    \"\"\"\n",
    "\n",
    "    from imblearn.over_sampling import SMOTE\n",
    "    print(f'Label distribution before resampling:')\n",
    "    print(pd.Series(y_train).value_counts())\n",
    "    \n",
    "    smote = SMOTE(k_neighbors=5, random_state=42) \n",
    "    X_train_resampled, y_train_resampled = smote.fit_resample(X_train, y_train)\n",
    "    print(f'Label distribution after resampling:')\n",
    "    print(pd.Series(y_train_resampled).value_counts())\n",
    "    \n",
    "    return X_train_resampled, y_train_resampled"
   ]
  },
  {
   "cell_type": "markdown",
   "id": "24",
   "metadata": {},
   "source": [
    "# Models"
   ]
  },
  {
   "cell_type": "code",
   "execution_count": null,
   "id": "25",
   "metadata": {},
   "outputs": [],
   "source": [
    "from sklearn.linear_model import LogisticRegression\n",
    "from sklearn.ensemble import RandomForestClassifier\n",
    "from sklearn import metrics\n",
    "from sklearn.metrics import confusion_matrix,accuracy_score,balanced_accuracy_score, precision_score, recall_score, f1_score, roc_auc_score, roc_curve, precision_recall_curve, auc\n",
    "from sklearn.model_selection import train_test_split\n",
    "import pandas as pd\n",
    "import numpy as np\n",
    "import matplotlib.pyplot as plt\n",
    "import seaborn as sns"
   ]
  },
  {
   "cell_type": "markdown",
   "id": "26",
   "metadata": {},
   "source": [
    "## Predict and evaluate functions"
   ]
  },
  {
   "cell_type": "code",
   "execution_count": null,
   "id": "27",
   "metadata": {},
   "outputs": [],
   "source": [
    "# Predict the output of xtest using the trained models\n",
    "def predict(classifier, id, X):\n",
    "    y_pred = classifier.predict(X)\n",
    "    y_prob = classifier.predict_proba(X)[:, 1] #Gives probability estimates for y=1\n",
    "\n",
    "    y_out = pd.DataFrame({\n",
    "        'prediction': y_pred,                  \n",
    "        'probability': y_prob          \n",
    "    })\n",
    "\n",
    "    result = pd.concat((id.reset_index(drop=True), y_out.reset_index(drop=True)), axis=1)\n",
    "    # print(result.head())\n",
    "    return result"
   ]
  },
  {
   "cell_type": "code",
   "execution_count": null,
   "id": "28",
   "metadata": {},
   "outputs": [],
   "source": [
    "# Model evaluation\n",
    "def evaluate(y_test, predict_df):\n",
    "    y_pred = predict_df['prediction']\n",
    "    y_prob = predict_df['probability']\n",
    "    cm = confusion_matrix(y_test, y_pred)\n",
    "    accuracy = accuracy_score(y_test,  y_pred)\n",
    "    balancedaccuracy = balanced_accuracy_score(y_test,  y_pred)\n",
    "    f1score = f1_score(y_test,  y_pred) #F1 is a good scoring metric for imbalanced data when more attention is needed on the positives\n",
    "    precision = precision_score(y_test, y_pred)\n",
    "    recall = recall_score(y_test, y_pred)\n",
    "    roc_auc = roc_auc_score(y_test, y_prob) \n",
    "    precision_vals, recall_vals, _ = precision_recall_curve(y_test, y_prob) # Computes ROC AUC score using probabilities of positive class\n",
    "    pr_auc = auc(recall_vals\n",
    "                 , precision_vals)\n",
    "\n",
    "    print(f\"Accuracy = {round(accuracy, ndigits=3)}\")\n",
    "    print(f\"Balanced Accuracy = {round(balancedaccuracy, ndigits=3)}\")\n",
    "    print(f\"f1 score = {round(f1score, ndigits=3)}\")\n",
    "    print(f\"Precision = {round(precision, ndigits=3)}\")\n",
    "    print(f\"Recall = {round(recall, ndigits=3)}\")\n",
    "    print(f\"ROC AUC = {round(roc_auc, ndigits=3)}\")\n",
    "    print(f\"PR AUC = {round(pr_auc, ndigits=3)}\")\n",
    "\n",
    "    # Plot confusion matrix\n",
    "    plt.figure(figsize=(2,2))\n",
    "    sns.heatmap(cm, annot=True, fmt=\".3f\", linewidths=.5, square = True, cmap = 'Blues_r')\n",
    "    plt.ylabel('Actual label')\n",
    "    plt.xlabel('Predicted label')\n",
    "    plt.title('Confusion Matrix')\n",
    "    plt.figure(figsize=(5,5))  # Increase the figure size to avoid overlap\n",
    "    plt.show()\n",
    "\n",
    "    # Plot ROC curve\n",
    "    fpr, tpr, thresholds = roc_curve(y_test, y_prob)\n",
    "    plt.plot(fpr, tpr, label='ROC curve (AUC = %0.2f)' % roc_auc)\n",
    "    plt.plot([0, 1], [0, 1], 'k--')\n",
    "    plt.xlabel('False Positive Rate')\n",
    "    plt.ylabel('True Positive Rate')\n",
    "    plt.title('Receiver Operating Characteristic (ROC)')\n",
    "    plt.show()\n",
    "\n",
    "    # Plot Precision-Recall curve\n",
    "    plt.plot(recall_vals, precision_vals, label='PR curve (AUC = %0.2f)' % pr_auc)\n",
    "    plt.xlabel('Recall')\n",
    "    plt.ylabel('Precision')\n",
    "    plt.title('Precision-Recall Curve')\n",
    "    plt.show()"
   ]
  },
  {
   "cell_type": "markdown",
   "id": "29",
   "metadata": {},
   "source": [
    "## Baseline Model - Logistic Regression with Means Only"
   ]
  },
  {
   "cell_type": "code",
   "execution_count": null,
   "id": "30",
   "metadata": {},
   "outputs": [],
   "source": [
    "def LR(X_train,y_train,balance):\n",
    "    if balance:\n",
    "        X_train, y_train = balance_train_data(X_train, y_train)\n",
    "    classifier = LogisticRegression(max_iter=1000, verbose = 1,  random_state = 123, class_weight = 'balanced')\n",
    "    classifier.fit(X_train, y_train)\n",
    "    return classifier"
   ]
  },
  {
   "cell_type": "code",
   "execution_count": null,
   "id": "31",
   "metadata": {},
   "outputs": [],
   "source": [
    "LR_classifier_means = LR(X_train_means_only, y_train, False)\n",
    "result = predict(LR_classifier_means, id_test, X_test_means_only)\n",
    "evaluate(y_test, result)"
   ]
  },
  {
   "cell_type": "markdown",
   "id": "32",
   "metadata": {},
   "source": [
    "## Logistic Regression"
   ]
  },
  {
   "cell_type": "code",
   "execution_count": null,
   "id": "33",
   "metadata": {},
   "outputs": [],
   "source": [
    "# Logistic Regression Model\n",
    "def LR(X_train,y_train, balance):\n",
    "    if balance:\n",
    "        X_train, y_train = balance_train_data(X_train, y_train)\n",
    "    # remove low variance features\n",
    "    # Define the pipeline with variance threshold selector and logistic regression classifier\n",
    "    model = Pipeline([\n",
    "        ('selector', VarianceThreshold(threshold=0.01)),\n",
    "        ('classifier', LogisticRegression(max_iter=1000, verbose=1, random_state=123, class_weight='balanced'))\n",
    "    ])\n",
    "    # Train the model on X_train and y_train\n",
    "    model.fit(X_train, y_train)\n",
    "    return model"
   ]
  },
  {
   "cell_type": "code",
   "execution_count": null,
   "id": "34",
   "metadata": {},
   "outputs": [],
   "source": [
    "# ML workflow for Logistic Regression - without SMOTE\n",
    "LR_classifier = LR(X_train, y_train, False)\n",
    "result = predict(LR_classifier, id_test, X_test)\n",
    "evaluate(y_test, result)"
   ]
  },
  {
   "cell_type": "code",
   "execution_count": null,
   "id": "35",
   "metadata": {},
   "outputs": [],
   "source": [
    "# ML workflow for Logistic Regression - with SMOTE\n",
    "LR_classifier_balanced = LR(X_train, y_train,True)\n",
    "result = predict(LR_classifier, id_test, X_test)\n",
    "evaluate(y_test, result)\n"
   ]
  },
  {
   "cell_type": "code",
   "execution_count": null,
   "id": "36",
   "metadata": {},
   "outputs": [],
   "source": [
    "selection_mask= LR_classifier_balanced.named_steps['selector'].get_support()\n",
    "\n",
    "# Create a DataFrame with feature names and selection status\n",
    "feature_selection_df = pd.DataFrame({\n",
    "    'Feature': X_train.columns,\n",
    "    'Selected': selection_mask\n",
    "})\n",
    "\n",
    "count_df = pd.Series(LR_classifier.named_steps['selector'].get_support()).value_counts().reset_index(name='Count').rename(columns={'index': 'Selected'})\n",
    "\n",
    "print(feature_selection_df)\n",
    "print(count_df)"
   ]
  },
  {
   "cell_type": "markdown",
   "id": "37",
   "metadata": {},
   "source": [
    "## Random Forest"
   ]
  },
  {
   "cell_type": "code",
   "execution_count": null,
   "id": "38",
   "metadata": {},
   "outputs": [],
   "source": [
    "def RF(X_train, y_train):\n",
    "    classifier = RandomForestClassifier(n_estimators=100, random_state=123, class_weight='balanced', verbose=1)\n",
    "    classifier.fit(X_train, y_train)\n",
    "    return classifier"
   ]
  },
  {
   "cell_type": "code",
   "execution_count": null,
   "id": "39",
   "metadata": {},
   "outputs": [],
   "source": [
    "RF_classifier = RF(X_train, y_train)\n",
    "result = predict(RF_classifier, id_test_clean, X_test_clean)\n",
    "evaluate(y_test_clean, result)"
   ]
  },
  {
   "cell_type": "code",
   "execution_count": null,
   "id": "40",
   "metadata": {},
   "outputs": [],
   "source": [
    "def RF_tuned_intermediate(X_train, y_train, balance, param_dist):\n",
    "    '''\n",
    "    RF_tuned_intermediate uses RandomizedSearch to reduce search space\n",
    "    '''\n",
    "    from sklearn.ensemble import RandomForestClassifier\n",
    "    from sklearn.metrics import make_scorer, roc_auc_score, average_precision_score\n",
    "    from sklearn.model_selection import RandomizedSearchCV\n",
    "    import numpy as np\n",
    "    \n",
    "    if balance:\n",
    "        X_train, y_train = balance_train_data(X_train, y_train)\n",
    "\n",
    "    # Define the pipeline with variance threshold selector and random forest classifier\n",
    "    model = RandomForestClassifier(random_state=123, class_weight='balanced')\n",
    "\n",
    "    def combined_auc_score(y_true, y_pred_proba):\n",
    "        roc_auc = roc_auc_score(y_true, y_pred_proba)\n",
    "        pr_auc = average_precision_score(y_true, y_pred_proba)\n",
    "    \n",
    "        # Combined score\n",
    "        combined_score = roc_auc + pr_auc\n",
    "        return combined_score\n",
    "\n",
    "    # Create a custom scorer using make_scorer\n",
    "    custom_scorer = make_scorer(combined_auc_score, needs_proba=True)\n",
    "\n",
    "    # Set up RandomizedSearchCV\n",
    "    randomized_search = RandomizedSearchCV(estimator=model, param_distributions=param_dist,\n",
    "                                           n_iter=30, scoring=custom_scorer, cv=3, n_jobs=-1, verbose=1, random_state=123)\n",
    "    \n",
    "    # Train the model on X_train and y_train using RandomizedSearchCV\n",
    "    randomized_search.fit(X_train, y_train)\n",
    "\n",
    "    \n",
    "    return randomized_search.best_estimator_, randomized_search.best_params_\n",
    "\n",
    "def RF_tuned(X_train, y_train, balance, param_grid):\n",
    "    '''\n",
    "    RF_tuned uses GridSearch on an exhaustive list of parameters, determined after GridSearch\n",
    "    '''\n",
    "    from sklearn.ensemble import RandomForestClassifier\n",
    "    from sklearn.metrics import make_scorer, roc_auc_score, average_precision_score\n",
    "    from sklearn.model_selection import GridSearchCV\n",
    "    \n",
    "     # Balance the data if balance is True\n",
    "    if balance:\n",
    "        X_train, y_train = balance_train_data(X_train, y_train)\n",
    "\n",
    "    # Define the random forest model with class_weight set to 'balanced'\n",
    "    model = RandomForestClassifier(random_state=123, class_weight='balanced')\n",
    "\n",
    "    # Custom scoring function combining ROC AUC and PR AUC\n",
    "    def combined_auc_score(y_true, y_pred_proba):\n",
    "        roc_auc = roc_auc_score(y_true, y_pred_proba)\n",
    "        pr_auc = average_precision_score(y_true, y_pred_proba)\n",
    "    \n",
    "        # Combined score\n",
    "        combined_score = roc_auc + pr_auc\n",
    "        return combined_score\n",
    "\n",
    "    # Create a custom scorer using make_scorer\n",
    "    custom_scorer = make_scorer(combined_auc_score, needs_proba=True)\n",
    "\n",
    "    # Set up GridSearchCV with the parameter grid\n",
    "    grid_search = GridSearchCV(estimator=model, param_grid=param_grid,\n",
    "                               scoring=custom_scorer, cv=5, n_jobs=-1, verbose=1)\n",
    "    \n",
    "    # Train the model on X_train and y_train using GridSearchCV\n",
    "    grid_search.fit(X_train, y_train)\n",
    "\n",
    "    return grid_search.best_estimator_, grid_search.best_params_"
   ]
  },
  {
   "cell_type": "code",
   "execution_count": null,
   "id": "41",
   "metadata": {},
   "outputs": [],
   "source": [
    "param_dist_search_1 = {\n",
    "            'n_estimators': [100, 200, 300, 400, 500],  \n",
    "            'max_depth': [None, 10, 20, 30, 40, 50],  \n",
    "            'min_samples_split': [2,3,4,5], \n",
    "            'min_samples_leaf': [1,2,3,4,5],  \n",
    "            'max_features': ['sqrt', 'log2'],  \n",
    "            'bootstrap': [True, False]  \n",
    "        }    \n",
    "RF_search_1_classifier, RF_search_1_params = RF_tuned_intermediate(X_train, y_train, False, param_dist_search_1)\n",
    "print(f'Tuning step 1 outputs: {RF_search_1_params}')"
   ]
  },
  {
   "cell_type": "code",
   "execution_count": null,
   "id": "42",
   "metadata": {},
   "outputs": [],
   "source": [
    "param_dist_search_2 = {\n",
    "            'n_estimators': [400, 405, 410, 415, 420, 425],  \n",
    "            'max_depth': [None, 40, 41, 42, 43, 44, 45],\n",
    "            'min_samples_split': [3, 4, 5], \n",
    "            'min_samples_leaf': [1, 2, 3],  \n",
    "            'max_features': ['sqrt'],  \n",
    "            'bootstrap': [False]  \n",
    "        }    \n",
    "RF_search_2_classifier, RF_search_2_params = RF_tuned_intermediate(X_train, y_train, False, param_dist_search_2)\n",
    "print(f'Tuning step 2 outputs: {RF_search_2_params}')"
   ]
  },
  {
   "cell_type": "code",
   "execution_count": null,
   "id": "43",
   "metadata": {},
   "outputs": [],
   "source": [
    "# Hyperparameter grid for exhaustive search based on result from step 1\n",
    "param_grid_final = {\n",
    "    'n_estimators': [225, 250, 275], \n",
    "    'max_depth': [None],  \n",
    "    'min_samples_split': [3, 4], \n",
    "    'min_samples_leaf': [1, 2], \n",
    "    'max_features': ['sqrt'],  \n",
    "    'bootstrap': [False] \n",
    "}\n",
    "\n",
    "RF_tuned, RF_tuned_params = RF_tuned(X_train, y_train, param_grid_final, False)\n",
    "print(RF_tuned_params)\n",
    "result = predict(RF_tuned_classifier, id_test, X_test)\n",
    "evaluate(y_test, result)"
   ]
  },
  {
   "cell_type": "code",
   "execution_count": null,
   "id": "44",
   "metadata": {},
   "outputs": [],
   "source": [
    "def plot_rfe_graph(X_train, y_train, tuned_model, min_features=10, step=10):\n",
    "\n",
    "    import numpy as np\n",
    "    import pandas as pd\n",
    "    from sklearn.ensemble import RandomForestClassifier\n",
    "    from sklearn.feature_selection import RFE\n",
    "    from sklearn.metrics import roc_auc_score\n",
    "    import matplotlib.pyplot as plt\n",
    "    \n",
    "    # Ensure the tuned model is a Random Forest\n",
    "    if not isinstance(tuned_model, RandomForestClassifier):\n",
    "        raise ValueError(\"Tuned model must be a Random Forest classifier.\")\n",
    "    \n",
    "    # Use RFE with the tuned Random Forest as the estimator\n",
    "    rfe = RFE(estimator=tuned_model, n_features_to_select=min_features, step=step)\n",
    "    \n",
    "    # Fit RFE once and get ranking\n",
    "    rfe.fit(X_train, y_train)\n",
    "    rfe_ranking = rfe.ranking_\n",
    "    \n",
    "    # Evaluate performance for each number of features in decreasing order\n",
    "    feature_counts = np.arange(X_train.shape[1], min_features - 1, -step)\n",
    "    roc_auc_scores = []\n",
    "    \n",
    "    for n_features in feature_counts:\n",
    "        # Adjust the number of features to select\n",
    "        rfe.n_features_to_select = n_features\n",
    "        X_rfe = X_train.loc[:, rfe.support_]\n",
    "        \n",
    "        # Fit the tuned model directly on the reduced feature set\n",
    "        tuned_model.fit(X_rfe, y_train)\n",
    "        y_pred_proba = tuned_model.predict_proba(X_rfe)[:, 1]\n",
    "        \n",
    "        # Calculate ROC AUC and store it\n",
    "        roc_auc = roc_auc_score(y_train, y_pred_proba)\n",
    "        roc_auc_scores.append(roc_auc)\n",
    "    \n",
    "    # Plot ROC AUC scores against the number of features\n",
    "    plt.figure(figsize=(10, 6))\n",
    "    plt.plot(feature_counts, roc_auc_scores, marker='o')\n",
    "    plt.title('ROC AUC Score vs. Number of Features (RFE)')\n",
    "    plt.xlabel('Number of Features Selected')\n",
    "    plt.ylabel('ROC AUC Score')\n",
    "    plt.xticks(feature_counts)\n",
    "    plt.grid()\n",
    "    plt.show()\n",
    "    \n",
    "    # Create a DataFrame to show feature rankings and names\n",
    "    feature_names = X_train.columns\n",
    "    feature_ranking_df = pd.DataFrame({'Feature': feature_names, 'Ranking': rfe_ranking})\n",
    "    selected_features = feature_ranking_df[feature_ranking_df['Ranking'] == 1]['Feature']\n",
    "    \n",
    "    return selected_features.tolist()"
   ]
  },
  {
   "cell_type": "code",
   "execution_count": null,
   "id": "45",
   "metadata": {},
   "outputs": [],
   "source": [
    "selected_features = plot_rfe_graph(X_train, y_train, RF_tuned_classifier)\n",
    "print(selected_features)"
   ]
  },
  {
   "cell_type": "code",
   "execution_count": null,
   "id": "46",
   "metadata": {},
   "outputs": [],
   "source": [
    "from joblib import dump\n",
    "\n",
    "# After defining RF_classifier\n",
    "dump(RF_classifier, 'rf_classifier.joblib')  # Save the model\n"
   ]
  },
  {
   "cell_type": "markdown",
   "id": "47",
   "metadata": {},
   "source": [
    "# Predictions for dataset0"
   ]
  },
  {
   "cell_type": "code",
   "execution_count": null,
   "id": "48",
   "metadata": {},
   "outputs": [],
   "source": [
    "X_test_0 = features_agg[features_columns]\n",
    "id_test_0 = features_agg[['transcript_id', 'transcript_position']]"
   ]
  },
  {
   "cell_type": "code",
   "execution_count": null,
   "id": "49",
   "metadata": {},
   "outputs": [],
   "source": [
    "result = predict(LR_classifier, id_test_0, X_test_0)\n",
    "\n",
    "result = result.sort_values(by='probability', ascending=False)\n",
    "result = result.rename(columns={'probability': 'score'})\n",
    "result = result[['transcript_id', 'transcript_position', 'score']]\n"
   ]
  },
  {
   "cell_type": "code",
   "execution_count": null,
   "id": "50",
   "metadata": {},
   "outputs": [],
   "source": [
    "# Export results to CSV\n",
    "output_csv_path = '../data/geneiuses_dataset0_1.csv'\n",
    "result.to_csv(output_csv_path, index=False)\n",
    "\n",
    "print(f\"Results exported to {output_csv_path}\")\n"
   ]
  },
  {
   "cell_type": "markdown",
   "id": "51",
   "metadata": {},
   "source": [
    "# Predictions for dataset1"
   ]
  },
  {
   "cell_type": "code",
   "execution_count": null,
   "id": "52",
   "metadata": {},
   "outputs": [],
   "source": [
    "import gzip\n",
    "import shutil\n",
    "\n",
    "# Specify the input and output file names (adjust file paths if needed)\n",
    "input_file_1 = '../data/dataset1.json.gz'  \n",
    "output_file_1 = '../data/dataset1.json'    \n",
    "\n",
    "# Unzip the file\n",
    "with gzip.open(input_file_1, 'rb') as f_in:\n",
    "    with open(output_file_1, 'wb') as f_out:\n",
    "        shutil.copyfileobj(f_in, f_out)\n",
    "\n",
    "print(\"File unzipped successfully.\")"
   ]
  },
  {
   "cell_type": "code",
   "execution_count": null,
   "id": "53",
   "metadata": {},
   "outputs": [],
   "source": [
    "import pandas as pd\n",
    "import json\n",
    "\n",
    "input_file_1 = '../data/dataset1.json' \n",
    "\n",
    "data_1 = []\n",
    "with open(input_file_1, 'r') as file:\n",
    "    for line in file:\n",
    "        # Parse each line as a JSON object\n",
    "        data_1.append(json.loads(line))\n",
    "\n",
    "# Flatten the data\n",
    "flattened_data_1 = flatten_json(data_1)\n",
    "\n",
    "# Convert to a DataFrame\n",
    "df_1 = pd.DataFrame(flattened_data_1)"
   ]
  },
  {
   "cell_type": "code",
   "execution_count": null,
   "id": "54",
   "metadata": {},
   "outputs": [],
   "source": [
    "# Export as csv\n",
    "path = '../data/dataset1.csv'\n",
    "df_1.to_csv(path, index=False)"
   ]
  },
  {
   "cell_type": "code",
   "execution_count": null,
   "id": "55",
   "metadata": {},
   "outputs": [],
   "source": [
    "features_1 = pd.read_csv('../data/dataset1.csv')\n",
    "features_agg_1 = aggregate_by_transcript_position(features_1)\n",
    "features_columns_1 = [\n",
    "        '-1_dwelling_time', '-1_standard_dev', '-1_mean_current',\n",
    "        '0_dwelling_time', '0_standard_dev', '0_mean_current',\n",
    "        '+1_dwelling_time', '+1_standard_dev', '+1_mean_current'\n",
    "    ]\n",
    "\n",
    "X_test_1 = features_agg_1[features_columns_1]\n",
    "id_test_1 = features_agg_1[['transcript_id', 'transcript_position']]"
   ]
  },
  {
   "cell_type": "code",
   "execution_count": null,
   "id": "56",
   "metadata": {},
   "outputs": [],
   "source": [
    "result_1 = predict(LR_classifier, id_test_1, X_test_1)\n",
    "result_1 = result_1.sort_values(by='probability', ascending=False)\n",
    "result_1 = result_1.rename(columns={'probability': 'score'})\n",
    "result_1 = result_1[['transcript_id', 'transcript_position', 'score']]\n"
   ]
  },
  {
   "cell_type": "code",
   "execution_count": null,
   "id": "57",
   "metadata": {},
   "outputs": [],
   "source": [
    "# Export results to CSV\n",
    "output_csv_path = '../data/geneiuses_dataset1_1.csv'\n",
    "result_1.to_csv(output_csv_path, index=False)\n",
    "\n",
    "print(f\"Results exported to {output_csv_path}\")\n"
   ]
  },
  {
   "cell_type": "markdown",
   "id": "58",
   "metadata": {},
   "source": [
    "# Predictions for dataset2"
   ]
  },
  {
   "cell_type": "code",
   "execution_count": null,
   "id": "59",
   "metadata": {},
   "outputs": [],
   "source": [
    "import gzip\n",
    "import shutil\n",
    "\n",
    "# Specify the input and output file names (adjust file paths if needed)\n",
    "input_file_2 = '../data/dataset2.json.gz'  \n",
    "output_file_2 = '../data/dataset2.json'    \n",
    "\n",
    "# Unzip the file\n",
    "with gzip.open(input_file_2, 'rb') as f_in:\n",
    "    with open(output_file_2, 'wb') as f_out:\n",
    "        shutil.copyfileobj(f_in, f_out)\n",
    "\n",
    "print(\"File unzipped successfully.\")"
   ]
  },
  {
   "cell_type": "code",
   "execution_count": null,
   "id": "60",
   "metadata": {},
   "outputs": [],
   "source": [
    "import pandas as pd\n",
    "import json\n",
    "\n",
    "input_file_2 = '../data/dataset2.json' \n",
    "\n",
    "data_2 = []\n",
    "with open(input_file_2, 'r') as file:\n",
    "    for line in file:\n",
    "        # Parse each line as a JSON object\n",
    "        data_2.append(json.loads(line))\n",
    "\n",
    "# Flatten the data\n",
    "flattened_data_2 = flatten_json(data_2)\n",
    "\n",
    "# Convert to a DataFrame\n",
    "df_2 = pd.DataFrame(flattened_data_2)"
   ]
  },
  {
   "cell_type": "code",
   "execution_count": null,
   "id": "61",
   "metadata": {},
   "outputs": [],
   "source": [
    "# Export as csv\n",
    "path = '../data/dataset2.csv'\n",
    "df_2.to_csv(path, index=False)"
   ]
  },
  {
   "cell_type": "code",
   "execution_count": null,
   "id": "62",
   "metadata": {},
   "outputs": [],
   "source": [
    "features_2 = pd.read_csv('../data/dataset2.csv')\n",
    "features_agg_2 = aggregate_by_transcript_position(features_2)\n",
    "features_columns_2 = [\n",
    "        '-1_dwelling_time', '-1_standard_dev', '-1_mean_current',\n",
    "        '0_dwelling_time', '0_standard_dev', '0_mean_current',\n",
    "        '+1_dwelling_time', '+1_standard_dev', '+1_mean_current'\n",
    "    ]\n",
    "\n",
    "X_test_2 = features_agg_2[features_columns_2]\n",
    "id_test_2 = features_agg_2[['transcript_id', 'transcript_position']]\n"
   ]
  },
  {
   "cell_type": "code",
   "execution_count": null,
   "id": "63",
   "metadata": {},
   "outputs": [],
   "source": [
    "# ML workflow for Logistic Regression\n",
    "result_2 = predict(LR_classifier, id_test_2, X_test_2)"
   ]
  },
  {
   "cell_type": "code",
   "execution_count": null,
   "id": "64",
   "metadata": {},
   "outputs": [],
   "source": [
    "result_2 = result_2.sort_values(by='probability', ascending=False)\n",
    "result_2 = result_2.rename(columns={'probability': 'score'})\n",
    "result_2 = result_2[['transcript_id', 'transcript_position', 'score']]\n"
   ]
  },
  {
   "cell_type": "code",
   "execution_count": null,
   "id": "65",
   "metadata": {},
   "outputs": [],
   "source": [
    "# Export results to CSV\n",
    "output_csv_path = '../data/geneiuses_dataset2_1.csv'\n",
    "result_2.to_csv(output_csv_path, index=False)\n",
    "\n",
    "print(f\"Results exported to {output_csv_path}\")\n"
   ]
  }
 ],
 "metadata": {
  "kernelspec": {
   "display_name": "Python 3 (ipykernel)",
   "language": "python",
   "name": "python3"
  },
  "language_info": {
   "codemirror_mode": {
    "name": "ipython",
    "version": 3
   },
   "file_extension": ".py",
   "mimetype": "text/x-python",
   "name": "python",
   "nbconvert_exporter": "python",
   "pygments_lexer": "ipython3",
   "version": "3.8.10"
  }
 },
 "nbformat": 4,
 "nbformat_minor": 5
}
