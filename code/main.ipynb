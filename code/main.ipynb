{
 "cells": [
  {
   "cell_type": "code",
   "execution_count": null,
   "id": "0",
   "metadata": {},
   "outputs": [],
   "source": [
    "%pip install pandas\n",
    "%pip install scikit-learn\n",
    "%pip install imblearn\n",
    "%pip install matplotlib\n",
    "%pip install seaborn\n"
   ]
  },
  {
   "cell_type": "code",
   "execution_count": null,
   "id": "1",
   "metadata": {},
   "outputs": [],
   "source": [
    "import gzip\n",
    "import shutil\n",
    "import pandas as pd\n",
    "import json\n"
   ]
  },
  {
   "cell_type": "markdown",
   "id": "2",
   "metadata": {},
   "source": [
    "# Reading and Parsing JSON"
   ]
  },
  {
   "cell_type": "code",
   "execution_count": null,
   "id": "3",
   "metadata": {},
   "outputs": [],
   "source": [
    "# Specify the input and output file names (adjust file paths if needed)\n",
    "input_file = '../data/dataset0.json.gz'  \n",
    "output_file = '../data/dataset0.json'    \n",
    "\n",
    "# Unzip the file\n",
    "def unzip_file(input,output):\n",
    "    with gzip.open(input_file, 'rb') as f_in:\n",
    "        with open(output_file, 'wb') as f_out:\n",
    "            shutil.copyfileobj(f_in, f_out)\n",
    "\n",
    "    print(\"File unzipped successfully.\")\n",
    "\n",
    "unzip_file(input_file,output_file)"
   ]
  },
  {
   "cell_type": "code",
   "execution_count": null,
   "id": "4",
   "metadata": {},
   "outputs": [],
   "source": [
    "input_file = '../data/dataset0.json' \n",
    "\n",
    "# input_file = '../data/dataset0.json' \n",
    "\n",
    "# data = []\n",
    "# with open(input_file, 'r') as file:\n",
    "#     for line in file:\n",
    "#         # Parse each line as a JSON object\n",
    "#         data.append(json.loads(line))\n",
    "\n",
    "def flatten_json(data):\n",
    "    rows = []\n",
    "\n",
    "    for entry in data:\n",
    "        for transcript_id, positions in entry.items():\n",
    "            for position, sequences in positions.items():\n",
    "                for sequence, features in sequences.items():\n",
    "                    for feature_set in features:\n",
    "                        row = {\n",
    "                            'transcript_id': transcript_id,\n",
    "                            'transcript_position': position,\n",
    "                            'sequence': sequence,\n",
    "                            '-1_dwelling_time': feature_set[0],\n",
    "                            '-1_standard_dev': feature_set[1],\n",
    "                            '-1_mean_current': feature_set[2],\n",
    "                            '0_dwelling_time': feature_set[3],\n",
    "                            '0_standard_dev': feature_set[4],\n",
    "                            '0_mean_current': feature_set[5],\n",
    "                            '+1_dwelling_time': feature_set[6],\n",
    "                            '+1_standard_dev': feature_set[7],\n",
    "                            '+1_mean_current': feature_set[8],\n",
    "                        }\n",
    "                        rows.append(row)\n",
    "    return rows\n",
    "\n",
    "# Flatten the data\n",
    "flattened_data = flatten_json(data)\n",
    "\n",
    "# Convert to a DataFrame\n",
    "df = pd.DataFrame(flattened_data)"
   ]
  },
  {
   "cell_type": "code",
   "execution_count": null,
   "id": "5",
   "metadata": {},
   "outputs": [],
   "source": [
    "print(df.head())\n",
    "print(df.info())"
   ]
  },
  {
   "cell_type": "code",
   "execution_count": null,
   "id": "6",
   "metadata": {},
   "outputs": [],
   "source": [
    "# Export as csv\n",
    "path = '../data/dataset0.csv'\n",
    "df.to_csv(path, index=False)"
   ]
  },
  {
   "cell_type": "code",
   "execution_count": null,
   "id": "7",
   "metadata": {},
   "outputs": [],
   "source": [
    "import os\n",
    "import pandas as pd\n",
    "import json\n",
    "\n",
    "def flatten_json(data):\n",
    "    rows = []\n",
    "    for entry in data:\n",
    "        for transcript_id, positions in entry.items():\n",
    "            for position, sequences in positions.items():\n",
    "                for sequence, features in sequences.items():\n",
    "                    for feature_set in features:\n",
    "                        row = {\n",
    "                            'transcript_id': transcript_id,\n",
    "                            'transcript_position': position,\n",
    "                            'sequence': sequence,\n",
    "                            '-1_dwelling_time': feature_set[0],\n",
    "                            '-1_standard_dev': feature_set[1],\n",
    "                            '-1_mean_current': feature_set[2],\n",
    "                            '0_dwelling_time': feature_set[3],\n",
    "                            '0_standard_dev': feature_set[4],\n",
    "                            '0_mean_current': feature_set[5],\n",
    "                            '+1_dwelling_time': feature_set[6],\n",
    "                            '+1_standard_dev': feature_set[7],\n",
    "                            '+1_mean_current': feature_set[8],\n",
    "                        }\n",
    "                        rows.append(row)\n",
    "    return rows\n",
    "\n",
    "def process_sg_nex_json_files(data_directory, output_directory):\n",
    " \n",
    "    # Iterate through each folder in the data directory\n",
    "    for root, dirs, files in os.walk(data_directory):\n",
    "        for file in files:\n",
    "            if file.endswith('.json'):\n",
    "                file_path = os.path.join(root, file)\n",
    "\n",
    "                # Load and parse the JSON file\n",
    "                data = []\n",
    "                with open(file_path, 'r') as f:\n",
    "                    for line in f:\n",
    "                        # Parse each line as a JSON object\n",
    "                        data.append(json.loads(line))\n",
    "\n",
    "                # Flatten the data\n",
    "                flattened_data = flatten_json(data)\n",
    "\n",
    "                # Convert to a DataFrame\n",
    "                df = pd.DataFrame(flattened_data)\n",
    "\n",
    "                # Construct the output CSV file name using the folder name\n",
    "                folder_name = os.path.basename(root)  # Get the folder name\n",
    "                output_file_name = f\"{folder_name}.csv\"  # Use folder name for the CSV file\n",
    "                output_path = os.path.join(output_directory, output_file_name)\n",
    "\n",
    "                # Export as CSV\n",
    "                df.to_csv(output_path, index=False)\n",
    "                print(f\"Saved: {output_path}\")\n",
    "\n",
    "# Example usage\n",
    "data_directory = '../data'  \n",
    "output_directory = '../data'\n",
    "process_sg_nex_json_files(data_directory, output_directory)\n"
   ]
  },
  {
   "cell_type": "markdown",
   "id": "8",
   "metadata": {},
   "source": [
    "# Load labels and features, perform aggregation"
   ]
  },
  {
   "cell_type": "markdown",
   "id": "9",
   "metadata": {},
   "source": [
    "## Read in labels and features"
   ]
  },
  {
   "cell_type": "code",
   "execution_count": null,
   "id": "10",
   "metadata": {},
   "outputs": [],
   "source": [
    "labels = pd.read_csv('../data/data.info.labelled')\n",
    "\n",
    "print(labels.info())  # To get summary information about the DataFrame\n",
    "print(labels.head())  # Preview the first few rows of the data"
   ]
  },
  {
   "cell_type": "code",
   "execution_count": null,
   "id": "11",
   "metadata": {},
   "outputs": [],
   "source": [
    "features = pd.read_csv('../data/dataset0.csv')\n",
    "\n",
    "print(features.info()) \n",
    "print(features.head())  "
   ]
  },
  {
   "cell_type": "markdown",
   "id": "12",
   "metadata": {},
   "source": [
    "## Aggregate and label features"
   ]
  },
  {
   "cell_type": "code",
   "execution_count": null,
   "id": "13",
   "metadata": {},
   "outputs": [],
   "source": [
    "def aggregate_by_transcript_position(features):\n",
    "\n",
    "    # Apply mean, std, min, max, and skew to the selected columns\n",
    "    features_agg = features.groupby(['transcript_id', 'transcript_position', 'sequence'])\\\n",
    "        .agg({\n",
    "            '-1_dwelling_time': ['mean', 'min', 'max'],\n",
    "            '-1_standard_dev': ['mean'],\n",
    "            '-1_mean_current': ['mean', 'min', 'max'],\n",
    "            '0_dwelling_time': ['mean', 'min', 'max'],\n",
    "            '0_standard_dev': ['mean'],\n",
    "            '0_mean_current': ['mean', 'min', 'max'],\n",
    "            '+1_dwelling_time': ['mean', 'min', 'max'],\n",
    "            '+1_standard_dev': ['mean'],\n",
    "            '+1_mean_current': ['mean', 'min', 'max']\n",
    "        }).reset_index()\n",
    "    \n",
    "    # Rename the columns to something more readable\n",
    "    features_agg.columns = ['_'.join(col).strip() if col[1] else col[0] for col in features_agg.columns]\n",
    "\n",
    "    \n",
    "\n",
    "    return features_agg"
   ]
  },
  {
   "cell_type": "code",
   "execution_count": null,
   "id": "14",
   "metadata": {},
   "outputs": [],
   "source": [
    "def one_hot_encode_sequence(features_agg, column='sequence'):\n",
    "    # Step 1: Split each sequence into individual characters\n",
    "    features_split = features_agg[column].apply(lambda x: pd.Series(list(x)))\n",
    "    \n",
    "    # Step 2: Remove the middle letter (always the 4th character, index 3 in 0-based index)\n",
    "    features_split = features_split.drop(columns=[3])  # Drop the middle letter (index 3)\n",
    "    \n",
    "    # Step 3: One-hot encode the remaining letters\n",
    "    # `pd.get_dummies` will automatically one-hot encode each position\n",
    "    features_agg_with_seq = pd.get_dummies(features_split, prefix=['pos1', 'pos2', 'pos3', 'pos5', 'pos6', 'pos7'], columns=[0, 1, 2, 4, 5, 6])\n",
    "    \n",
    "    return features_agg_with_seq\n"
   ]
  },
  {
   "cell_type": "code",
   "execution_count": null,
   "id": "15",
   "metadata": {},
   "outputs": [],
   "source": [
    "# features_agg = aggregate_by_transcript_position(features)\n",
    "features_agg_with_seq = one_hot_encode_sequence(features_agg)\n",
    "print(features_agg_with_seq.info())\n",
    "print(features_agg_with_seq.head())"
   ]
  },
  {
   "cell_type": "code",
   "execution_count": null,
   "id": "16",
   "metadata": {},
   "outputs": [],
   "source": [
    "def add_gene_and_label(features, labels):\n",
    "    \"\"\"\n",
    "    Adds gene_id and label to features dataframe\n",
    "    \n",
    "    Inputs:\n",
    "    - features: pd.DataFrame\n",
    "      Dataframe with selected features after feature engineering. Dataframe must contain transcript_id and transcript_position\n",
    "    - labels: pd.DataFrame\n",
    "      Dataframe with gene_id, transcript_id, transcript_position, and label.\n",
    "\n",
    "    Output:\n",
    "    - pd.DataFrame\n",
    "      Updated features dataframe with added columns: gene_id and label from labels.\n",
    "    \"\"\"\n",
    "    features_labelled = pd.merge(features, labels, on=['transcript_id', 'transcript_position'], how='inner')\n",
    "    \n",
    "    return features_labelled\n"
   ]
  },
  {
   "cell_type": "code",
   "execution_count": null,
   "id": "17",
   "metadata": {},
   "outputs": [],
   "source": [
    "features_labelled = add_gene_and_label(features_agg, labels)\n",
    "print(features_labelled.info())"
   ]
  },
  {
   "cell_type": "code",
   "execution_count": null,
   "id": "18",
   "metadata": {},
   "outputs": [],
   "source": [
    "# features_labelled.to_csv('../data/features_labelled.csv',index=False)"
   ]
  },
  {
   "cell_type": "markdown",
   "id": "19",
   "metadata": {},
   "source": [
    "# Train Test Split"
   ]
  },
  {
   "cell_type": "code",
   "execution_count": null,
   "id": "20",
   "metadata": {},
   "outputs": [],
   "source": [
    "def train_test_split_by_gene_id(features_labelled, features_columns):\n",
    "    \"\"\"\n",
    "    Performs train test split based on gene_id. Returns X_train and X_test based on feature_columns\n",
    "    \n",
    "    Inputs:\n",
    "    - features_labelled: pd.DataFrame\n",
    "      Updated features dataframe with added columns: gene_id and label from labels.\n",
    "      \n",
    "    Output:\n",
    "    - X_train: pd.DataFrame\n",
    "    - X_test: pd.DataFrame\n",
    "    - y_train: pd.DataFrame\n",
    "    - y_test: pd.DataFrame\n",
    "    \"\"\"\n",
    "\n",
    "    from sklearn.model_selection import train_test_split\n",
    "    df = features_labelled\n",
    "\n",
    "    # Get unique genes\n",
    "    unique_genes = df['gene_id'].unique()\n",
    "    \n",
    "    # Perform the train-test split on genes\n",
    "    genes_train, genes_test = train_test_split(unique_genes, test_size=0.2, random_state=42)\n",
    "    \n",
    "    # Split the dataset based on the gene split\n",
    "    train_data = df[df['gene_id'].isin(genes_train)]\n",
    "    test_data = df[df['gene_id'].isin(genes_test)]\n",
    "    \n",
    "    # Create the feature and target variables for training and testing\n",
    "    id_train = train_data[['transcript_id','transcript_position']]\n",
    "    X_train = train_data[features_columns]\n",
    "    y_train = train_data['label']\n",
    "    id_test = test_data[['transcript_id','transcript_position']]\n",
    "    X_test = test_data[features_columns]\n",
    "    y_test = test_data['label']\n",
    "    \n",
    "    # Output the shapes to verify the split\n",
    "    print(f\"Training Features Shape: {X_train.shape}\")\n",
    "    print(f\"Test Features Shape: {X_test.shape}\")\n",
    "    print(f\"Training Labels Shape: {y_train.shape}\")\n",
    "    print(f\"Test Labels Shape: {y_test.shape}\")\n",
    "    return (X_train, X_test, y_train, y_test, id_train, id_test)"
   ]
  },
  {
   "cell_type": "code",
   "execution_count": null,
   "id": "21",
   "metadata": {},
   "outputs": [],
   "source": [
    "features_columns = [\n",
    "        '-1_dwelling_time', '-1_standard_dev', '-1_mean_current',\n",
    "        '0_dwelling_time', '0_standard_dev', '0_mean_current',\n",
    "        '+1_dwelling_time', '+1_standard_dev', '+1_mean_current'\n",
    "    ]\n",
    "X_train, X_test, y_train, y_test, id_train, id_test = train_test_split_by_gene_id(features_labelled, features_columns)"
   ]
  },
  {
   "cell_type": "markdown",
   "id": "22",
   "metadata": {},
   "source": [
    "# Balancing Data"
   ]
  },
  {
   "cell_type": "code",
   "execution_count": null,
   "id": "23",
   "metadata": {},
   "outputs": [],
   "source": [
    "def balance_train_data(X_train,y_train):\n",
    "    \"\"\"\n",
    "    Performs SMOTE on train data, oversampling positive class, to account for imbalanced dataset\n",
    "    \n",
    "    Inputs:\n",
    "    - X_train: pd.DataFrame\n",
    "    - Y_train: pd.DataFrame\n",
    "      \n",
    "    Output:\n",
    "    - X_train_resampled: pd.DataFrame\n",
    "    - y_train_resampled: pd.DataFrame with balanced classes, ie the same number of 0s and 1s\n",
    "    \"\"\"\n",
    "\n",
    "    from imblearn.over_sampling import SMOTE\n",
    "    print(f'Label distribution before resampling:')\n",
    "    print(pd.Series(y_train).value_counts())\n",
    "    \n",
    "    smote = SMOTE(k_neighbors=5, random_state=42) \n",
    "    X_train_resampled, y_train_resampled = smote.fit_resample(X_train, y_train)\n",
    "    print(f'Label distribution after resampling:')\n",
    "    print(pd.Series(y_train_resampled).value_counts())\n",
    "    \n",
    "    return X_train_resampled, y_train_resampled"
   ]
  },
  {
   "cell_type": "code",
   "execution_count": null,
   "id": "24",
   "metadata": {},
   "outputs": [],
   "source": [
    "X_train_resampled, y_train_resampled = balance_train_data(X_train,y_train)"
   ]
  },
  {
   "cell_type": "code",
   "execution_count": null,
   "id": "25",
   "metadata": {},
   "outputs": [],
   "source": [
    "# can remove?\n",
    "# print(X_train.isnull().sum())\n",
    "# print(X_train_resampled.isnull().sum())\n",
    "# print(X_test.isnull().sum())"
   ]
  },
  {
   "cell_type": "code",
   "execution_count": null,
   "id": "26",
   "metadata": {},
   "outputs": [],
   "source": [
    "# Remove null value in X_test (and corresponding y_test value)\n",
    "# X_test_clean = X_test.dropna()\n",
    "# y_test_clean = y_test[X_test_clean.index]\n",
    "# id_test_clean = id_test.loc[X_test_clean.index]"
   ]
  },
  {
   "cell_type": "markdown",
   "id": "27",
   "metadata": {},
   "source": [
    "# Models"
   ]
  },
  {
   "cell_type": "code",
   "execution_count": null,
   "id": "28",
   "metadata": {},
   "outputs": [],
   "source": [
    "from sklearn.linear_model import LogisticRegression\n",
    "from sklearn.ensemble import RandomForestClassifier\n",
    "from sklearn import metrics\n",
    "from sklearn.metrics import confusion_matrix,accuracy_score,balanced_accuracy_score, precision_score, recall_score, f1_score, roc_auc_score, roc_curve, precision_recall_curve, auc\n",
    "from sklearn.model_selection import train_test_split\n",
    "import pandas as pd\n",
    "import numpy as np\n",
    "import matplotlib.pyplot as plt\n",
    "import seaborn as sns"
   ]
  },
  {
   "cell_type": "markdown",
   "id": "29",
   "metadata": {},
   "source": [
    "## Predict and evaluate functions"
   ]
  },
  {
   "cell_type": "code",
   "execution_count": null,
   "id": "30",
   "metadata": {},
   "outputs": [],
   "source": [
    "# Predict the output of xtest using the trained models\n",
    "def predict(classifier, id, X):\n",
    "    y_pred = classifier.predict(X)\n",
    "    y_prob = classifier.predict_proba(X)[:, 1] #Gives probability estimates for y=1\n",
    "\n",
    "    y_out = pd.DataFrame({\n",
    "        'prediction': y_pred,                  \n",
    "        'probability': y_prob          \n",
    "    })\n",
    "\n",
    "    result = pd.concat((id.reset_index(drop=True), y_out.reset_index(drop=True)), axis=1)\n",
    "    # print(result.head())\n",
    "    return result"
   ]
  },
  {
   "cell_type": "code",
   "execution_count": null,
   "id": "31",
   "metadata": {},
   "outputs": [],
   "source": [
    "# Model evaluation\n",
    "def evaluate(y_test, predict_df):\n",
    "    y_pred = predict_df['prediction']\n",
    "    y_prob = predict_df['probability']\n",
    "    cm = confusion_matrix(y_test, y_pred)\n",
    "    accuracy = accuracy_score(y_test,  y_pred)\n",
    "    balancedaccuracy = balanced_accuracy_score(y_test,  y_pred)\n",
    "    f1score = f1_score(y_test,  y_pred) #F1 is a good scoring metric for imbalanced data when more attention is needed on the positives\n",
    "    precision = precision_score(y_test, y_pred)\n",
    "    recall = recall_score(y_test, y_pred)\n",
    "    roc_auc = roc_auc_score(y_test, y_prob) \n",
    "    precision_vals, recall_vals, _ = precision_recall_curve(y_test, y_prob) # Computes ROC AUC score using probabilities of positive class\n",
    "    pr_auc = auc(recall_vals\n",
    "                 , precision_vals)\n",
    "\n",
    "    print(f\"Accuracy = {round(accuracy, ndigits=3)}\")\n",
    "    print(f\"Balanced Accuracy = {round(balancedaccuracy, ndigits=3)}\")\n",
    "    print(f\"f1 score = {round(f1score, ndigits=3)}\")\n",
    "    print(f\"Precision = {round(precision, ndigits=3)}\")\n",
    "    print(f\"Recall = {round(recall, ndigits=3)}\")\n",
    "    print(f\"ROC AUC = {round(roc_auc, ndigits=3)}\")\n",
    "    print(f\"PR AUC = {round(pr_auc, ndigits=3)}\")\n",
    "\n",
    "    # Plot confusion matrix\n",
    "    plt.figure(figsize=(2,2))\n",
    "    sns.heatmap(cm, annot=True, fmt=\".3f\", linewidths=.5, square = True, cmap = 'Blues_r')\n",
    "    plt.ylabel('Actual label')\n",
    "    plt.xlabel('Predicted label')\n",
    "    plt.title('Confusion Matrix')\n",
    "    plt.figure(figsize=(5,5))  # Increase the figure size to avoid overlap\n",
    "    plt.show()\n",
    "\n",
    "    # Plot ROC curve\n",
    "    fpr, tpr, thresholds = roc_curve(y_test, y_prob)\n",
    "    plt.plot(fpr, tpr, label='ROC curve (AUC = %0.2f)' % roc_auc)\n",
    "    plt.plot([0, 1], [0, 1], 'k--')\n",
    "    plt.xlabel('False Positive Rate')\n",
    "    plt.ylabel('True Positive Rate')\n",
    "    plt.title('Receiver Operating Characteristic (ROC)')\n",
    "    plt.show()\n",
    "\n",
    "    # Plot Precision-Recall curve\n",
    "    plt.plot(recall_vals, precision_vals, label='PR curve (AUC = %0.2f)' % pr_auc)\n",
    "    plt.xlabel('Recall')\n",
    "    plt.ylabel('Precision')\n",
    "    plt.title('Precision-Recall Curve')\n",
    "    plt.show()"
   ]
  },
  {
   "cell_type": "markdown",
   "id": "32",
   "metadata": {},
   "source": [
    "## Logistic Regression"
   ]
  },
  {
   "cell_type": "code",
   "execution_count": null,
   "id": "33",
   "metadata": {},
   "outputs": [],
   "source": [
    "# Logistic Regression Model\n",
    "def LR(X_train,y_train):\n",
    "    classifier = LogisticRegression(max_iter=1000, verbose = 1,  random_state = 123, class_weight = 'balanced')\n",
    "    classifier.fit(X_train, y_train)\n",
    "    return classifier"
   ]
  },
  {
   "cell_type": "code",
   "execution_count": null,
   "id": "34",
   "metadata": {},
   "outputs": [],
   "source": [
    "# ML workflow for Logistic Regression - without SMOTE\n",
    "LR_classifier = LR(X_train, y_train)\n",
    "result = predict(LR_classifier, id_test, X_test_clean)\n",
    "evaluate(y_test_clean, result)"
   ]
  },
  {
   "cell_type": "code",
   "execution_count": null,
   "id": "35",
   "metadata": {},
   "outputs": [],
   "source": [
    "# ML workflow for Logistic Regression - with SMOTE\n",
    "LR_classifier = LR(X_train_resampled, y_train_resampled)\n",
    "result = predict(LR_classifier, id_test_clean, X_test_clean)\n",
    "evaluate(y_test_clean, result)\n"
   ]
  },
  {
   "cell_type": "markdown",
   "id": "36",
   "metadata": {},
   "source": [
    "## Random Forest"
   ]
  },
  {
   "cell_type": "code",
   "execution_count": null,
   "id": "37",
   "metadata": {},
   "outputs": [],
   "source": [
    "def RF(X_train, y_train):\n",
    "    classifier = RandomForestClassifier(n_estimators=100, random_state=123, class_weight='balanced', verbose=1)\n",
    "    classifier.fit(X_train, y_train)\n",
    "    return classifier"
   ]
  },
  {
   "cell_type": "code",
   "execution_count": null,
   "id": "38",
   "metadata": {},
   "outputs": [],
   "source": [
    "RF_classifier = RF(X_train, y_train)\n",
    "result = predict(RF_classifier, id_test_clean, X_test_clean)\n",
    "evaluate(y_test_clean, result)"
   ]
  },
  {
   "cell_type": "code",
   "execution_count": null,
   "id": "39",
   "metadata": {},
   "outputs": [],
   "source": [
    "RF_classifier = RF(X_train_resampled, y_train_resampled)\n",
    "result = predict(RF_classifier, id_test_clean, X_test_clean)\n",
    "evaluate(y_test_clean, result)"
   ]
  },
  {
   "cell_type": "markdown",
   "id": "40",
   "metadata": {},
   "source": [
    "# Predictions for dataset0"
   ]
  },
  {
   "cell_type": "code",
   "execution_count": null,
   "id": "41",
   "metadata": {},
   "outputs": [],
   "source": [
    "X_test_0 = features_agg[features_columns]\n",
    "id_test_0 = features_agg[['transcript_id', 'transcript_position']]"
   ]
  },
  {
   "cell_type": "code",
   "execution_count": null,
   "id": "42",
   "metadata": {},
   "outputs": [],
   "source": [
    "result = predict(LR_classifier, id_test_0, X_test_0)\n",
    "\n",
    "result = result.sort_values(by='probability', ascending=False)\n",
    "result = result.rename(columns={'probability': 'score'})\n",
    "result = result[['transcript_id', 'transcript_position', 'score']]\n"
   ]
  },
  {
   "cell_type": "code",
   "execution_count": null,
   "id": "43",
   "metadata": {},
   "outputs": [],
   "source": [
    "# Export results to CSV\n",
    "output_csv_path = '../data/geneiuses_dataset0_1.csv'\n",
    "result.to_csv(output_csv_path, index=False)\n",
    "\n",
    "print(f\"Results exported to {output_csv_path}\")\n"
   ]
  },
  {
   "cell_type": "markdown",
   "id": "44",
   "metadata": {},
   "source": [
    "# Predictions for dataset1"
   ]
  },
  {
   "cell_type": "code",
   "execution_count": null,
   "id": "45",
   "metadata": {},
   "outputs": [],
   "source": [
    "import gzip\n",
    "import shutil\n",
    "\n",
    "# Specify the input and output file names (adjust file paths if needed)\n",
    "input_file_1 = '../data/dataset1.json.gz'  \n",
    "output_file_1 = '../data/dataset1.json'    \n",
    "\n",
    "# Unzip the file\n",
    "with gzip.open(input_file_1, 'rb') as f_in:\n",
    "    with open(output_file_1, 'wb') as f_out:\n",
    "        shutil.copyfileobj(f_in, f_out)\n",
    "\n",
    "print(\"File unzipped successfully.\")"
   ]
  },
  {
   "cell_type": "code",
   "execution_count": null,
   "id": "46",
   "metadata": {},
   "outputs": [],
   "source": [
    "import pandas as pd\n",
    "import json\n",
    "\n",
    "input_file_1 = '../data/dataset1.json' \n",
    "\n",
    "data_1 = []\n",
    "with open(input_file_1, 'r') as file:\n",
    "    for line in file:\n",
    "        # Parse each line as a JSON object\n",
    "        data_1.append(json.loads(line))\n",
    "\n",
    "# Flatten the data\n",
    "flattened_data_1 = flatten_json(data_1)\n",
    "\n",
    "# Convert to a DataFrame\n",
    "df_1 = pd.DataFrame(flattened_data_1)"
   ]
  },
  {
   "cell_type": "code",
   "execution_count": null,
   "id": "47",
   "metadata": {},
   "outputs": [],
   "source": [
    "# Export as csv\n",
    "path = '../data/dataset1.csv'\n",
    "df_1.to_csv(path, index=False)"
   ]
  },
  {
   "cell_type": "code",
   "execution_count": null,
   "id": "48",
   "metadata": {},
   "outputs": [],
   "source": [
    "features_1 = pd.read_csv('../data/dataset1.csv')\n",
    "features_agg_1 = aggregate_by_transcript_position(features_1)\n",
    "features_columns_1 = [\n",
    "        '-1_dwelling_time', '-1_standard_dev', '-1_mean_current',\n",
    "        '0_dwelling_time', '0_standard_dev', '0_mean_current',\n",
    "        '+1_dwelling_time', '+1_standard_dev', '+1_mean_current'\n",
    "    ]\n",
    "\n",
    "X_test_1 = features_agg_1[features_columns_1]\n",
    "id_test_1 = features_agg_1[['transcript_id', 'transcript_position']]"
   ]
  },
  {
   "cell_type": "code",
   "execution_count": null,
   "id": "49",
   "metadata": {},
   "outputs": [],
   "source": [
    "result_1 = predict(LR_classifier, id_test_1, X_test_1)\n",
    "result_1 = result_1.sort_values(by='probability', ascending=False)\n",
    "result_1 = result_1.rename(columns={'probability': 'score'})\n",
    "result_1 = result_1[['transcript_id', 'transcript_position', 'score']]\n"
   ]
  },
  {
   "cell_type": "code",
   "execution_count": null,
   "id": "50",
   "metadata": {},
   "outputs": [],
   "source": [
    "# Export results to CSV\n",
    "output_csv_path = '../data/geneiuses_dataset1_1.csv'\n",
    "result_1.to_csv(output_csv_path, index=False)\n",
    "\n",
    "print(f\"Results exported to {output_csv_path}\")\n"
   ]
  },
  {
   "cell_type": "markdown",
   "id": "51",
   "metadata": {},
   "source": [
    "# Predictions for dataset2"
   ]
  },
  {
   "cell_type": "code",
   "execution_count": null,
   "id": "52",
   "metadata": {},
   "outputs": [],
   "source": [
    "import gzip\n",
    "import shutil\n",
    "\n",
    "# Specify the input and output file names (adjust file paths if needed)\n",
    "input_file_2 = '../data/dataset2.json.gz'  \n",
    "output_file_2 = '../data/dataset2.json'    \n",
    "\n",
    "# Unzip the file\n",
    "with gzip.open(input_file_2, 'rb') as f_in:\n",
    "    with open(output_file_2, 'wb') as f_out:\n",
    "        shutil.copyfileobj(f_in, f_out)\n",
    "\n",
    "print(\"File unzipped successfully.\")"
   ]
  },
  {
   "cell_type": "code",
   "execution_count": null,
   "id": "53",
   "metadata": {},
   "outputs": [],
   "source": [
    "import pandas as pd\n",
    "import json\n",
    "\n",
    "input_file_2 = '../data/dataset2.json' \n",
    "\n",
    "data_2 = []\n",
    "with open(input_file_2, 'r') as file:\n",
    "    for line in file:\n",
    "        # Parse each line as a JSON object\n",
    "        data_2.append(json.loads(line))\n",
    "\n",
    "# Flatten the data\n",
    "flattened_data_2 = flatten_json(data_2)\n",
    "\n",
    "# Convert to a DataFrame\n",
    "df_2 = pd.DataFrame(flattened_data_2)"
   ]
  },
  {
   "cell_type": "code",
   "execution_count": null,
   "id": "54",
   "metadata": {},
   "outputs": [],
   "source": [
    "# Export as csv\n",
    "path = '../data/dataset2.csv'\n",
    "df_2.to_csv(path, index=False)"
   ]
  },
  {
   "cell_type": "code",
   "execution_count": null,
   "id": "55",
   "metadata": {},
   "outputs": [],
   "source": [
    "features_2 = pd.read_csv('../data/dataset2.csv')\n",
    "features_agg_2 = aggregate_by_transcript_position(features_2)\n",
    "features_columns_2 = [\n",
    "        '-1_dwelling_time', '-1_standard_dev', '-1_mean_current',\n",
    "        '0_dwelling_time', '0_standard_dev', '0_mean_current',\n",
    "        '+1_dwelling_time', '+1_standard_dev', '+1_mean_current'\n",
    "    ]\n",
    "\n",
    "X_test_2 = features_agg_2[features_columns_2]\n",
    "id_test_2 = features_agg_2[['transcript_id', 'transcript_position']]\n"
   ]
  },
  {
   "cell_type": "code",
   "execution_count": null,
   "id": "56",
   "metadata": {},
   "outputs": [],
   "source": [
    "# ML workflow for Logistic Regression\n",
    "result_2 = predict(LR_classifier, id_test_2, X_test_2)"
   ]
  },
  {
   "cell_type": "code",
   "execution_count": null,
   "id": "57",
   "metadata": {},
   "outputs": [],
   "source": [
    "result_2 = result_2.sort_values(by='probability', ascending=False)\n",
    "result_2 = result_2.rename(columns={'probability': 'score'})\n",
    "result_2 = result_2[['transcript_id', 'transcript_position', 'score']]\n"
   ]
  },
  {
   "cell_type": "code",
   "execution_count": null,
   "id": "58",
   "metadata": {},
   "outputs": [],
   "source": [
    "# Export results to CSV\n",
    "output_csv_path = '../data/geneiuses_dataset2_1.csv'\n",
    "result_2.to_csv(output_csv_path, index=False)\n",
    "\n",
    "print(f\"Results exported to {output_csv_path}\")\n"
   ]
  }
 ],
 "metadata": {
  "kernelspec": {
   "display_name": "Python 3 (ipykernel)",
   "language": "python",
   "name": "python3"
  },
  "language_info": {
   "codemirror_mode": {
    "name": "ipython",
    "version": 3
   },
   "file_extension": ".py",
   "mimetype": "text/x-python",
   "name": "python",
   "nbconvert_exporter": "python",
   "pygments_lexer": "ipython3",
   "version": "3.8.10"
  }
 },
 "nbformat": 4,
 "nbformat_minor": 5
}
