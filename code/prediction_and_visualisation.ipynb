{
 "cells": [
  {
   "cell_type": "code",
   "execution_count": null,
   "id": "0",
   "metadata": {},
   "outputs": [],
   "source": [
    "%pip install nbimporter\n",
    "import nbimporter\n",
    "import main\n"
   ]
  },
  {
   "cell_type": "markdown",
   "id": "1",
   "metadata": {},
   "source": [
    "## Access SG-NEx data through AWS"
   ]
  },
  {
   "cell_type": "code",
   "execution_count": null,
   "id": "2",
   "metadata": {},
   "outputs": [],
   "source": [
    "# list all samples that have processed data for RNA modification detection using m6Anet\n",
    "!aws s3 ls --no-sign-request s3://sg-nex-data/data/processed_data/m6Anet/  \n",
    "\n",
    "# saves all samples that have processed data for RNA modification detection using m6Anet under data directory\n",
    "!aws s3 sync --no-sign-request s3://sg-nex-data/data/processed_data/m6Anet/ ../data/sg-nex-data/raw"
   ]
  },
  {
   "cell_type": "code",
   "execution_count": null,
   "id": "3",
   "metadata": {},
   "outputs": [],
   "source": [
    "import os\n",
    "import json\n",
    "import pandas as pd\n",
    "import shutil\n",
    "\n",
    "def process_sg_nex_json_files(data_directory, output_directory):\n",
    "    # Create the output directory if it doesn't exist\n",
    "    os.makedirs(output_directory, exist_ok=True)\n",
    "    \n",
    "    # Iterate through each folder in the data directory\n",
    "    for root, dirs, files in os.walk(data_directory):\n",
    "        for file in files:\n",
    "            if file.endswith('.json'):\n",
    "                file_path = os.path.join(root, file)\n",
    "                print(f\"Processing: {file_path}\")\n",
    "\n",
    "                # Load and parse the JSON file\n",
    "                data = []\n",
    "                with open(file_path, 'r') as f:\n",
    "                    for line in f:\n",
    "                        # Parse each line as a JSON object\n",
    "                        data.append(json.loads(line))\n",
    "\n",
    "                # Flatten the data\n",
    "                flattened_data = main.flatten_json(data)\n",
    "\n",
    "                # Convert to a DataFrame\n",
    "                df = pd.DataFrame(flattened_data)\n",
    "\n",
    "                # Construct the output CSV file name using the folder name\n",
    "                folder_name = os.path.basename(root)  # Get the folder name\n",
    "                output_file_name = f\"{folder_name}.csv\"  # Use folder name for the CSV file\n",
    "                output_path = os.path.join(output_directory, output_file_name)\n",
    "\n",
    "                # Export as CSV\n",
    "                df.to_csv(output_path, index=False)\n",
    "                print(f\"Saved: {output_path}\")\n",
    "\n",
    "                # Remove the folder after the CSV is successfully exported\n",
    "                shutil.rmtree(root)\n",
    "                print(f\"Removed folder: {root}\")\n",
    "\n",
    "# Example usage\n",
    "data_directory = '../data/sg-nex-data/raw'  \n",
    "output_directory = '../data/sg-nex-data/processed'\n",
    "process_sg_nex_json_files(data_directory, output_directory)\n"
   ]
  },
  {
   "cell_type": "code",
   "execution_count": null,
   "id": "4",
   "metadata": {},
   "outputs": [],
   "source": [
    "import pandas as pd\n",
    "\n",
    "labels = pd.read_csv('../data/data.info.labelled')\n",
    "\n",
    "print(labels.info())  # To get summary information about the DataFrame\n",
    "print(labels.head())  # Preview the first few rows of the data"
   ]
  },
  {
   "cell_type": "code",
   "execution_count": null,
   "id": "5",
   "metadata": {},
   "outputs": [],
   "source": [
    "features = pd.read_csv('../data/dataset0.csv')\n",
    "\n",
    "print(features.info()) \n",
    "print(features.head())  "
   ]
  },
  {
   "cell_type": "code",
   "execution_count": null,
   "id": "6",
   "metadata": {},
   "outputs": [],
   "source": [
    "def aggregate_by_transcript_position(features):\n",
    "\n",
    "    features_agg = features.groupby(['transcript_id', 'transcript_position', 'sequence'])\\\n",
    "    [['-1_dwelling_time', '-1_standard_dev', '-1_mean_current',\n",
    "      '0_dwelling_time', '0_standard_dev', '0_mean_current',\n",
    "      '+1_dwelling_time', '+1_standard_dev', '+1_mean_current']]\\\n",
    "    .mean().reset_index()\n",
    "    return features_agg"
   ]
  },
  {
   "cell_type": "code",
   "execution_count": null,
   "id": "7",
   "metadata": {},
   "outputs": [],
   "source": [
    "features_agg = aggregate_by_transcript_position(features)\n",
    "print(features_agg.info())"
   ]
  },
  {
   "cell_type": "code",
   "execution_count": null,
   "id": "8",
   "metadata": {},
   "outputs": [],
   "source": [
    "def add_gene_and_label(features, labels):\n",
    "    \"\"\"\n",
    "    Adds gene_id and label to features dataframe\n",
    "    \n",
    "    Inputs:\n",
    "    - features: pd.DataFrame\n",
    "      Dataframe with selected features after feature engineering. Dataframe must contain transcript_id and transcript_position\n",
    "    - labels: pd.DataFrame\n",
    "      Dataframe with gene_id, transcript_id, transcript_position, and label.\n",
    "\n",
    "    Output:\n",
    "    - pd.DataFrame\n",
    "      Updated features dataframe with added columns: gene_id and label from labels.\n",
    "    \"\"\"\n",
    "    features_labelled = pd.merge(features, labels, on=['transcript_id', 'transcript_position'], how='inner')\n",
    "    \n",
    "    return features_labelled\n"
   ]
  },
  {
   "cell_type": "code",
   "execution_count": null,
   "id": "9",
   "metadata": {},
   "outputs": [],
   "source": [
    "features_labelled = add_gene_and_label(features_agg, labels)\n",
    "print(features_labelled.info())"
   ]
  },
  {
   "cell_type": "code",
   "execution_count": null,
   "id": "10",
   "metadata": {},
   "outputs": [],
   "source": [
    "# features_labelled.to_csv('../data/features_labelled.csv',index=False)"
   ]
  },
  {
   "cell_type": "code",
   "execution_count": null,
   "id": "11",
   "metadata": {},
   "outputs": [],
   "source": [
    "def train_test_split_by_gene_id(features_labelled, features_columns):\n",
    "    \"\"\"\n",
    "    Performs train test split based on gene_id. Returns X_train and X_test based on feature_columns\n",
    "    \n",
    "    Inputs:\n",
    "    - features_labelled: pd.DataFrame\n",
    "      Updated features dataframe with added columns: gene_id and label from labels.\n",
    "      \n",
    "    Output:\n",
    "    - X_train: pd.DataFrame\n",
    "    - X_test: pd.DataFrame\n",
    "    - y_train: pd.DataFrame\n",
    "    - y_test: pd.DataFrame\n",
    "    \"\"\"\n",
    "\n",
    "    from sklearn.model_selection import train_test_split\n",
    "    df = features_labelled\n",
    "\n",
    "    # Get unique genes\n",
    "    unique_genes = df['gene_id'].unique()\n",
    "    \n",
    "    # Perform the train-test split on genes\n",
    "    genes_train, genes_test = train_test_split(unique_genes, test_size=0.2, random_state=42)\n",
    "    \n",
    "    # Split the dataset based on the gene split\n",
    "    train_data = df[df['gene_id'].isin(genes_train)]\n",
    "    test_data = df[df['gene_id'].isin(genes_test)]\n",
    "    \n",
    "    # Create the feature and target variables for training and testing\n",
    "    id_train = train_data[['transcript_id','transcript_position']]\n",
    "    X_train = train_data[features_columns]\n",
    "    y_train = train_data['label']\n",
    "    id_test = test_data[['transcript_id','transcript_position']]\n",
    "    X_test = test_data[features_columns]\n",
    "    y_test = test_data['label']\n",
    "    \n",
    "    # Output the shapes to verify the split\n",
    "    print(f\"Training Features Shape: {X_train.shape}\")\n",
    "    print(f\"Test Features Shape: {X_test.shape}\")\n",
    "    print(f\"Training Labels Shape: {y_train.shape}\")\n",
    "    print(f\"Test Labels Shape: {y_test.shape}\")\n",
    "    return (X_train, X_test, y_train, y_test, id_train, id_test)"
   ]
  },
  {
   "cell_type": "code",
   "execution_count": null,
   "id": "12",
   "metadata": {},
   "outputs": [],
   "source": [
    "features_columns = [\n",
    "        '-1_dwelling_time', '-1_standard_dev', '-1_mean_current',\n",
    "        '0_dwelling_time', '0_standard_dev', '0_mean_current',\n",
    "        '+1_dwelling_time', '+1_standard_dev', '+1_mean_current'\n",
    "    ]\n",
    "X_train, X_test, y_train, y_test, id_train, id_test = train_test_split_by_gene_id(features_labelled, features_columns)"
   ]
  },
  {
   "cell_type": "code",
   "execution_count": null,
   "id": "13",
   "metadata": {},
   "outputs": [],
   "source": [
    "def balance_train_data(X_train,y_train):\n",
    "    \"\"\"\n",
    "    Performs SMOTE on train data, oversampling positive class, to account for imbalanced dataset\n",
    "    \n",
    "    Inputs:\n",
    "    - X_train: pd.DataFrame\n",
    "    - Y_train: pd.DataFrame\n",
    "      \n",
    "    Output:\n",
    "    - X_train_resampled: pd.DataFrame\n",
    "    - y_train_resampled: pd.DataFrame with balanced classes, ie the same number of 0s and 1s\n",
    "    \"\"\"\n",
    "\n",
    "    from imblearn.over_sampling import SMOTE\n",
    "    print(f'Label distribution before resampling:')\n",
    "    print(pd.Series(y_train).value_counts())\n",
    "    \n",
    "    smote = SMOTE(k_neighbors=5, random_state=42) \n",
    "    X_train_resampled, y_train_resampled = smote.fit_resample(X_train, y_train)\n",
    "    print(f'Label distribution after resampling:')\n",
    "    print(pd.Series(y_train_resampled).value_counts())\n",
    "    \n",
    "    return X_train_resampled, y_train_resampled"
   ]
  },
  {
   "cell_type": "code",
   "execution_count": null,
   "id": "14",
   "metadata": {},
   "outputs": [],
   "source": [
    "X_train_resampled, y_train_resampled = balance_train_data(X_train,y_train)"
   ]
  },
  {
   "cell_type": "code",
   "execution_count": null,
   "id": "15",
   "metadata": {},
   "outputs": [],
   "source": [
    "# Predict the output of xtest using the trained models\n",
    "def predict(classifier, id, X):\n",
    "    y_pred = classifier.predict(X)\n",
    "    y_prob = classifier.predict_proba(X)[:, 1] #Gives probability estimates for y=1\n",
    "\n",
    "    y_out = pd.DataFrame({\n",
    "        'prediction': y_pred,                  \n",
    "        'probability': y_prob          \n",
    "    })\n",
    "\n",
    "    result = pd.concat((id.reset_index(drop=True), y_out.reset_index(drop=True)), axis=1)\n",
    "    # print(result.head())\n",
    "    return result"
   ]
  },
  {
   "cell_type": "code",
   "execution_count": null,
   "id": "16",
   "metadata": {},
   "outputs": [],
   "source": [
    "# Model evaluation\n",
    "def evaluate(y_test, predict_df):\n",
    "    y_pred = predict_df['prediction']\n",
    "    y_prob = predict_df['probability']\n",
    "    cm = confusion_matrix(y_test, y_pred)\n",
    "    accuracy = accuracy_score(y_test,  y_pred)\n",
    "    balancedaccuracy = balanced_accuracy_score(y_test,  y_pred)\n",
    "    f1score = f1_score(y_test,  y_pred) #F1 is a good scoring metric for imbalanced data when more attention is needed on the positives\n",
    "    precision = precision_score(y_test, y_pred)\n",
    "    recall = recall_score(y_test, y_pred)\n",
    "    roc_auc = roc_auc_score(y_test, y_prob) \n",
    "    precision_vals, recall_vals, _ = precision_recall_curve(y_test, y_prob) # Computes ROC AUC score using probabilities of positive class\n",
    "    pr_auc = auc(recall_vals\n",
    "                 , precision_vals)\n",
    "\n",
    "    print(f\"Accuracy = {round(accuracy, ndigits=3)}\")\n",
    "    print(f\"Balanced Accuracy = {round(balancedaccuracy, ndigits=3)}\")\n",
    "    print(f\"f1 score = {round(f1score, ndigits=3)}\")\n",
    "    print(f\"Precision = {round(precision, ndigits=3)}\")\n",
    "    print(f\"Recall = {round(recall, ndigits=3)}\")\n",
    "    print(f\"ROC AUC = {round(roc_auc, ndigits=3)}\")\n",
    "    print(f\"PR AUC = {round(pr_auc, ndigits=3)}\")\n",
    "\n",
    "    # Plot confusion matrix\n",
    "    plt.figure(figsize=(2,2))\n",
    "    sns.heatmap(cm, annot=True, fmt=\".3f\", linewidths=.5, square = True, cmap = 'Blues_r')\n",
    "    plt.ylabel('Actual label')\n",
    "    plt.xlabel('Predicted label')\n",
    "    plt.title('Confusion Matrix')\n",
    "    plt.figure(figsize=(5,5))  # Increase the figure size to avoid overlap\n",
    "    plt.show()\n",
    "\n",
    "    # Plot ROC curve\n",
    "    fpr, tpr, thresholds = roc_curve(y_test, y_prob)\n",
    "    plt.plot(fpr, tpr, label='ROC curve (AUC = %0.2f)' % roc_auc)\n",
    "    plt.plot([0, 1], [0, 1], 'k--')\n",
    "    plt.xlabel('False Positive Rate')\n",
    "    plt.ylabel('True Positive Rate')\n",
    "    plt.title('Receiver Operating Characteristic (ROC)')\n",
    "    plt.show()\n",
    "\n",
    "    # Plot Precision-Recall curve\n",
    "    plt.plot(recall_vals, precision_vals, label='PR curve (AUC = %0.2f)' % pr_auc)\n",
    "    plt.xlabel('Recall')\n",
    "    plt.ylabel('Precision')\n",
    "    plt.title('Precision-Recall Curve')\n",
    "    plt.show()"
   ]
  },
  {
   "cell_type": "code",
   "execution_count": null,
   "id": "17",
   "metadata": {},
   "outputs": [],
   "source": [
    "# Logistic Regression Model\n",
    "def LR(X_train,y_train):\n",
    "    classifier = LogisticRegression(max_iter=1000, verbose = 1,  random_state = 123, class_weight = 'balanced')\n",
    "    classifier.fit(X_train, y_train)\n",
    "    return classifier"
   ]
  },
  {
   "cell_type": "code",
   "execution_count": null,
   "id": "18",
   "metadata": {},
   "outputs": [],
   "source": [
    "# ML workflow for Logistic Regression - without SMOTE\n",
    "LR_classifier = LR(X_train, y_train)\n",
    "result = predict(LR_classifier, id_test, X_test_clean)\n",
    "evaluate(y_test_clean, result)"
   ]
  },
  {
   "cell_type": "code",
   "execution_count": null,
   "id": "19",
   "metadata": {},
   "outputs": [],
   "source": [
    "# ML workflow for Logistic Regression - with SMOTE\n",
    "LR_classifier = LR(X_train_resampled, y_train_resampled)\n",
    "result = predict(LR_classifier, id_test_clean, X_test_clean)\n",
    "evaluate(y_test_clean, result)\n"
   ]
  },
  {
   "cell_type": "code",
   "execution_count": null,
   "id": "20",
   "metadata": {},
   "outputs": [],
   "source": [
    "def RF(X_train, y_train):\n",
    "    classifier = RandomForestClassifier(n_estimators=100, random_state=123, class_weight='balanced', verbose=1)\n",
    "    classifier.fit(X_train, y_train)\n",
    "    return classifier"
   ]
  },
  {
   "cell_type": "code",
   "execution_count": null,
   "id": "21",
   "metadata": {},
   "outputs": [],
   "source": [
    "RF_classifier = RF(X_train, y_train)\n",
    "result = predict(RF_classifier, id_test_clean, X_test_clean)\n",
    "evaluate(y_test_clean, result)"
   ]
  },
  {
   "cell_type": "code",
   "execution_count": null,
   "id": "22",
   "metadata": {},
   "outputs": [],
   "source": [
    "RF_classifier = RF(X_train_resampled, y_train_resampled)\n",
    "result = predict(RF_classifier, id_test_clean, X_test_clean)\n",
    "evaluate(y_test_clean, result)"
   ]
  },
  {
   "cell_type": "code",
   "execution_count": null,
   "id": "23",
   "metadata": {},
   "outputs": [],
   "source": [
    "X_test_0 = features_agg[features_columns]\n",
    "id_test_0 = features_agg[['transcript_id', 'transcript_position']]"
   ]
  },
  {
   "cell_type": "code",
   "execution_count": null,
   "id": "24",
   "metadata": {},
   "outputs": [],
   "source": [
    "result = predict(LR_classifier, id_test_0, X_test_0)\n",
    "\n",
    "result = result.sort_values(by='probability', ascending=False)\n",
    "result = result.rename(columns={'probability': 'score'})\n",
    "result = result[['transcript_id', 'transcript_position', 'score']]\n"
   ]
  },
  {
   "cell_type": "code",
   "execution_count": null,
   "id": "25",
   "metadata": {},
   "outputs": [],
   "source": [
    "# Export results to CSV\n",
    "output_csv_path = '../data/geneiuses_dataset0_1.csv'\n",
    "result.to_csv(output_csv_path, index=False)\n",
    "\n",
    "print(f\"Results exported to {output_csv_path}\")\n"
   ]
  },
  {
   "cell_type": "markdown",
   "id": "26",
   "metadata": {},
   "source": [
    "## Prediction of SG-NEx data using Random Forest"
   ]
  },
  {
   "cell_type": "code",
   "execution_count": null,
   "id": "27",
   "metadata": {},
   "outputs": [],
   "source": [
    "import pandas as pd\n",
    "\n",
    "# Load the CSV file into a DataFrame\n",
    "df = pd.read_csv('../data/sg-nex-data/processed/SGNex_A549_directRNA_replicate5_run1.csv')\n",
    "\n",
    "# Display the column headers\n",
    "print(df.columns.tolist())\n"
   ]
  },
  {
   "cell_type": "code",
   "execution_count": null,
   "id": "28",
   "metadata": {},
   "outputs": [],
   "source": [
    "from joblib import load\n",
    "\n",
    "RF_classifier = load('rf_classifier.joblib')  # Load the model\n"
   ]
  },
  {
   "cell_type": "code",
   "execution_count": null,
   "id": "29",
   "metadata": {},
   "outputs": [],
   "source": [
    "import os\n",
    "import pandas as pd\n",
    "\n",
    "def predict_processed_csv_files(processed_directory, prediction_directory):\n",
    "    # Ensure the output directory exists\n",
    "    os.makedirs(prediction_directory, exist_ok=True)\n",
    "\n",
    "    # Iterate through all CSV files in the processed directory\n",
    "    for file_name in os.listdir(processed_directory):\n",
    "        if file_name.endswith('.csv'):\n",
    "            file_path = os.path.join(processed_directory, file_name)\n",
    "            print(f\"Processing: {file_path}\")\n",
    "\n",
    "            # Read the features from the CSV file\n",
    "            features = pd.read_csv(file_path)\n",
    "\n",
    "            # Aggregate the features by transcript position\n",
    "            features_agg = main.aggregate_by_transcript_position(features)\n",
    "\n",
    "\n",
    "            # Define the columns to be used for prediction\n",
    "            features_columns = [\n",
    "                '-1_dwelling_time_mean', '-1_dwelling_time_min', '-1_dwelling_time_max',\n",
    "                '-1_standard_dev_mean', \n",
    "                '-1_mean_current_mean', '-1_mean_current_min', '-1_mean_current_max',\n",
    "                '0_dwelling_time_mean', '0_dwelling_time_min', '0_dwelling_time_max',\n",
    "                '0_standard_dev_mean', \n",
    "                '0_mean_current_mean', '0_mean_current_min', '0_mean_current_max',\n",
    "                '+1_dwelling_time_mean', '+1_dwelling_time_min', '+1_dwelling_time_max',\n",
    "                '+1_standard_dev_mean', \n",
    "                '+1_mean_current_mean', '+1_mean_current_min', '+1_mean_current_max'\n",
    "    ]\n",
    "            \n",
    "            # Prepare the data for prediction\n",
    "            X_test = features_agg[features_columns]\n",
    "            id_test = features_agg[['transcript_id', 'transcript_position']]\n",
    "\n",
    "            # Make predictions\n",
    "            result = main.predict(RF_classifier, id_test, X_test)\n",
    "            result = result.sort_values(by='probability', ascending=False)\n",
    "            result = result.rename(columns={'probability': 'score'})\n",
    "            result = result[['transcript_id', 'transcript_position', 'score']]\n",
    "\n",
    "            # Construct the output CSV file name\n",
    "            output_file_name = file_name.replace('.csv', '_prediction.csv')\n",
    "            output_csv_path = os.path.join(prediction_directory, output_file_name)\n",
    "\n",
    "            # Export the results to the output directory\n",
    "            result.to_csv(output_csv_path, index=False)\n",
    "            print(f\"Results exported to {output_csv_path}\")\n",
    "\n",
    "# Example usage\n",
    "processed_directory = '../data/sg-nex-data/processed'\n",
    "prediction_directory = '../data/sg-nex-data/predictions'\n",
    "predict_processed_csv_files(processed_directory, prediction_directory)\n"
   ]
  },
  {
   "cell_type": "code",
   "execution_count": null,
   "id": "30",
   "metadata": {},
   "outputs": [],
   "source": [
    "import os\n",
    "import pandas as pd\n",
    "\n",
    "# Directory containing the prediction CSV files\n",
    "prediction_directory = '../data/sg-nex-data/predictions'\n",
    "\n",
    "# Dictionary to store dataframes by cell line\n",
    "cell_line_dataframes = {\n",
    "    'A549': [],\n",
    "    'Hct116': [],\n",
    "    'K562': [],\n",
    "    'HepG2': [],\n",
    "    'MCF7': []\n",
    "}\n",
    "\n",
    "# Iterate through the files in the prediction directory\n",
    "for file_name in os.listdir(prediction_directory):\n",
    "    if file_name.endswith('.csv'):\n",
    "        file_path = os.path.join(prediction_directory, file_name)\n",
    "        \n",
    "        # Load the CSV file into a dataframe\n",
    "        df = pd.read_csv(file_path)\n",
    "        \n",
    "        # Check the file name to determine which cell line it belongs to\n",
    "        if 'A549' in file_name:\n",
    "            cell_line_dataframes['A549'].append(df)\n",
    "        elif 'Hct116' in file_name:\n",
    "            cell_line_dataframes['Hct116'].append(df)\n",
    "        elif 'K562' in file_name:\n",
    "            cell_line_dataframes['K562'].append(df)\n",
    "        elif 'HepG2' in file_name:\n",
    "            cell_line_dataframes['HepG2'].append(df)\n",
    "        elif 'MCF7' in file_name:\n",
    "            cell_line_dataframes['MCF7'].append(df)\n",
    "\n",
    "# Optionally, concatenate the dataframes for each cell line into a single dataframe\n",
    "for cell_line, dfs in cell_line_dataframes.items():\n",
    "    # Concatenate dataframes if the list is not empty\n",
    "    cell_line_dataframes[cell_line] = pd.concat(dfs, ignore_index=True) if dfs else pd.DataFrame()\n",
    "\n",
    "# Now, cell_line_dataframes dictionary contains concatenated dataframes for each cell line\n",
    "\n",
    "# Example: Print the first few rows of each cell line dataframe to verify\n",
    "for cell_line, df in cell_line_dataframes.items():\n",
    "    print(f\"First few rows of {cell_line} dataframe:\")\n",
    "    print(df.head())\n",
    "    print(\"\\n\")\n"
   ]
  }
 ],
 "metadata": {
  "kernelspec": {
   "display_name": "Python 3 (ipykernel)",
   "language": "python",
   "name": "python3"
  },
  "language_info": {
   "codemirror_mode": {
    "name": "ipython",
    "version": 3
   },
   "file_extension": ".py",
   "mimetype": "text/x-python",
   "name": "python",
   "nbconvert_exporter": "python",
   "pygments_lexer": "ipython3",
   "version": "3.8.10"
  }
 },
 "nbformat": 4,
 "nbformat_minor": 5
}
