{
 "cells": [
  {
   "cell_type": "code",
   "execution_count": null,
   "id": "b23ad22e-0cdf-4f83-bbf1-d318b4891595",
   "metadata": {},
   "outputs": [],
   "source": [
    "# %pip install pandas"
   ]
  },
  {
   "cell_type": "code",
   "execution_count": 1,
   "id": "9970a318-6231-4653-886f-5ef16d9167a2",
   "metadata": {},
   "outputs": [
    {
     "name": "stdout",
     "output_type": "stream",
     "text": [
      "<class 'pandas.core.frame.DataFrame'>\n",
      "RangeIndex: 121838 entries, 0 to 121837\n",
      "Data columns (total 4 columns):\n",
      " #   Column               Non-Null Count   Dtype \n",
      "---  ------               --------------   ----- \n",
      " 0   gene_id              121838 non-null  object\n",
      " 1   transcript_id        121838 non-null  object\n",
      " 2   transcript_position  121838 non-null  int64 \n",
      " 3   label                121838 non-null  int64 \n",
      "dtypes: int64(2), object(2)\n",
      "memory usage: 3.7+ MB\n",
      "None\n",
      "           gene_id    transcript_id  transcript_position  label\n",
      "0  ENSG00000004059  ENST00000000233                  244      0\n",
      "1  ENSG00000004059  ENST00000000233                  261      0\n",
      "2  ENSG00000004059  ENST00000000233                  316      0\n",
      "3  ENSG00000004059  ENST00000000233                  332      0\n",
      "4  ENSG00000004059  ENST00000000233                  368      0\n"
     ]
    }
   ],
   "source": [
    "import pandas as pd\n",
    "\n",
    "labels = pd.read_csv('../code/data.info.labelled')\n",
    "\n",
    "print(labels.info())  # To get summary information about the DataFrame\n",
    "print(labels.head())  # Preview the first few rows of the data\n"
   ]
  },
  {
   "cell_type": "code",
   "execution_count": 2,
   "id": "4e76041c-cf58-4ac3-88f6-4a6a8f127506",
   "metadata": {},
   "outputs": [
    {
     "name": "stdout",
     "output_type": "stream",
     "text": [
      "<class 'pandas.core.frame.DataFrame'>\n",
      "RangeIndex: 11027106 entries, 0 to 11027105\n",
      "Data columns (total 12 columns):\n",
      " #   Column            Dtype  \n",
      "---  ------            -----  \n",
      " 0   Transcript_ID     object \n",
      " 1   Position          int64  \n",
      " 2   Sequence          object \n",
      " 3   -1 Dwelling Time  float64\n",
      " 4   -1 Standard Dev   float64\n",
      " 5   -1 Mean Current   float64\n",
      " 6   0 Dwelling Time   float64\n",
      " 7   0 Standard Dev    float64\n",
      " 8   0 Mean Current    float64\n",
      " 9   +1 Dwelling Time  float64\n",
      " 10  +1 Standard Dev   float64\n",
      " 11  +1 Mean Current   float64\n",
      "dtypes: float64(9), int64(1), object(2)\n",
      "memory usage: 1009.6+ MB\n",
      "None\n",
      "     Transcript_ID  Position Sequence  -1 Dwelling Time  -1 Standard Dev  \\\n",
      "0  ENST00000000233       244  AAGACCA           0.00299             2.06   \n",
      "1  ENST00000000233       244  AAGACCA           0.00631             2.53   \n",
      "2  ENST00000000233       244  AAGACCA           0.00465             3.92   \n",
      "3  ENST00000000233       244  AAGACCA           0.00398             2.06   \n",
      "4  ENST00000000233       244  AAGACCA           0.00664             2.92   \n",
      "\n",
      "   -1 Mean Current  0 Dwelling Time  0 Standard Dev  0 Mean Current  \\\n",
      "0            125.0          0.01770           10.40           122.0   \n",
      "1            125.0          0.00844            4.67           126.0   \n",
      "2            109.0          0.01360           12.00           124.0   \n",
      "3            125.0          0.00830            5.01           130.0   \n",
      "4            120.0          0.00266            3.94           129.0   \n",
      "\n",
      "   +1 Dwelling Time  +1 Standard Dev  +1 Mean Current  \n",
      "0           0.00930            10.90             84.1  \n",
      "1           0.01030             6.30             80.9  \n",
      "2           0.00498             2.13             79.6  \n",
      "3           0.00498             3.78             80.4  \n",
      "4           0.01300             7.15             82.2  \n"
     ]
    }
   ],
   "source": [
    "features = pd.read_csv('../code/dataset0.csv')\n",
    "\n",
    "print(features.info()) \n",
    "print(features.head())  "
   ]
  },
  {
   "cell_type": "code",
   "execution_count": null,
   "id": "43284993-ed8d-4c81-8c2d-42af9c2a3b8f",
   "metadata": {},
   "outputs": [],
   "source": []
  }
 ],
 "metadata": {
  "kernelspec": {
   "display_name": "Python 3 (ipykernel)",
   "language": "python",
   "name": "python3"
  },
  "language_info": {
   "codemirror_mode": {
    "name": "ipython",
    "version": 3
   },
   "file_extension": ".py",
   "mimetype": "text/x-python",
   "name": "python",
   "nbconvert_exporter": "python",
   "pygments_lexer": "ipython3",
   "version": "3.8.10"
  }
 },
 "nbformat": 4,
 "nbformat_minor": 5
}
